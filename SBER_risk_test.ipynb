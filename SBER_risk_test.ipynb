{
  "cells": [
    {
      "cell_type": "markdown",
      "metadata": {
        "id": "qb9mY_HmN913"
      },
      "source": [
        "# Домашнее задание для Junior DS по разработке PD модели"
      ]
    },
    {
      "cell_type": "markdown",
      "metadata": {
        "id": "NbqnB_V8N915"
      },
      "source": [
        "<b>Задание:</b> Необходиом разработать модель предсказания дефолта. Даны финансовые данные 32 395 компаний (выручка, активы, пассивы и т.д). Результат будет оцениваться на скрытой выборке из 200 компаний по метрике качества accuracy_score\n",
        "\n",
        "<b>Цель задания</b> научиться / показать знания в разработке моделей оценки риска - probability of default. Задание приближено к реальному, данные синтетические. Лидерборд для оценки собственного решения и геймификации процесса обучения. Первое место в лидерборде не явлется целью. Цель - правильно разарботанная модель, удовлетворяющая требованиям банковской системы. В случае возникновения вопросов, сотрудники блока Риски готовы проконсультировать и дать обратную связь на модель (телеграм чат).\n",
        "\n",
        "<b>Метрика качества</b> accuracy_score вычисляется, как ( True positive + True negative ) / Total. Если сабмит-файл, не правильного формата или неверное количество строк, метрика будет = 0."
      ]
    },
    {
      "cell_type": "markdown",
      "metadata": {
        "id": "EJ9_SMqyN916"
      },
      "source": [
        "### Импортируем библиотеки"
      ]
    },
    {
      "cell_type": "code",
      "execution_count": 2,
      "metadata": {
        "id": "Vo4g-4Y5N917"
      },
      "outputs": [],
      "source": [
        "import pandas as pd\n",
        "import seaborn as sns\n",
        "from sklearn.metrics import f1_score\n",
        "from matplotlib import pyplot as plt\n",
        "import seaborn as sns\n",
        "from sklearn.preprocessing import StandardScaler\n",
        "from sklearn.model_selection import cross_val_score\n",
        "from sklearn.model_selection import train_test_split\n",
        "from sklearn.linear_model import LogisticRegression\n",
        "from sklearn.metrics import accuracy_score"
      ]
    },
    {
      "cell_type": "markdown",
      "metadata": {
        "id": "4k8ndBMHN92A"
      },
      "source": [
        "### Подгружаем данные"
      ]
    },
    {
      "cell_type": "code",
      "execution_count": 3,
      "metadata": {
        "colab": {
          "base_uri": "https://localhost:8080/"
        },
        "id": "p6h2C5cJN92B",
        "outputId": "27724233-8909-4f02-be3a-cb995d026572"
      },
      "outputs": [
        {
          "output_type": "stream",
          "name": "stdout",
          "text": [
            "--2022-09-26 17:19:20--  https://raw.githubusercontent.com/BKHV/risk_models/master/data/PD-data-train.csv\n",
            "Resolving raw.githubusercontent.com (raw.githubusercontent.com)... 185.199.108.133, 185.199.109.133, 185.199.110.133, ...\n",
            "Connecting to raw.githubusercontent.com (raw.githubusercontent.com)|185.199.108.133|:443... connected.\n",
            "HTTP request sent, awaiting response... 200 OK\n",
            "Length: 5329268 (5.1M) [text/plain]\n",
            "Saving to: ‘PD-data-train.csv’\n",
            "\n",
            "\rPD-data-train.csv     0%[                    ]       0  --.-KB/s               \rPD-data-train.csv   100%[===================>]   5.08M  --.-KB/s    in 0.02s   \n",
            "\n",
            "2022-09-26 17:19:20 (293 MB/s) - ‘PD-data-train.csv’ saved [5329268/5329268]\n",
            "\n",
            "--2022-09-26 17:19:20--  https://raw.githubusercontent.com/BKHV/risk_models/master/data/PD-data-test.csv\n",
            "Resolving raw.githubusercontent.com (raw.githubusercontent.com)... 185.199.108.133, 185.199.109.133, 185.199.110.133, ...\n",
            "Connecting to raw.githubusercontent.com (raw.githubusercontent.com)|185.199.108.133|:443... connected.\n",
            "HTTP request sent, awaiting response... 200 OK\n",
            "Length: 28259 (28K) [text/plain]\n",
            "Saving to: ‘PD-data-test.csv’\n",
            "\n",
            "PD-data-test.csv    100%[===================>]  27.60K  --.-KB/s    in 0s      \n",
            "\n",
            "2022-09-26 17:19:21 (144 MB/s) - ‘PD-data-test.csv’ saved [28259/28259]\n",
            "\n",
            "--2022-09-26 17:19:21--  https://raw.githubusercontent.com/BKHV/risk_models/master/data/PD-data-desc.csv\n",
            "Resolving raw.githubusercontent.com (raw.githubusercontent.com)... 185.199.108.133, 185.199.109.133, 185.199.110.133, ...\n",
            "Connecting to raw.githubusercontent.com (raw.githubusercontent.com)|185.199.108.133|:443... connected.\n",
            "HTTP request sent, awaiting response... 200 OK\n",
            "Length: 4835 (4.7K) [text/plain]\n",
            "Saving to: ‘PD-data-desc.csv’\n",
            "\n",
            "PD-data-desc.csv    100%[===================>]   4.72K  --.-KB/s    in 0s      \n",
            "\n",
            "2022-09-26 17:19:21 (64.3 MB/s) - ‘PD-data-desc.csv’ saved [4835/4835]\n",
            "\n"
          ]
        }
      ],
      "source": [
        "!wget https://raw.githubusercontent.com/BKHV/risk_models/master/data/PD-data-train.csv\n",
        "!wget https://raw.githubusercontent.com/BKHV/risk_models/master/data/PD-data-test.csv\n",
        "!wget https://raw.githubusercontent.com/BKHV/risk_models/master/data/PD-data-desc.csv"
      ]
    },
    {
      "cell_type": "code",
      "execution_count": 13,
      "metadata": {
        "id": "XwbL4T6rN92G"
      },
      "outputs": [],
      "source": [
        "train_df = pd.read_csv('PD-data-train.csv', sep=';')\n",
        "test_df = pd.read_csv('PD-data-test.csv', sep=';')\n",
        "desc_df = pd.read_csv('PD-data-desc.csv', sep=';')"
      ]
    },
    {
      "cell_type": "markdown",
      "metadata": {
        "id": "H06Wcg09N92N"
      },
      "source": [
        "Количество разных типов фичей"
      ]
    },
    {
      "cell_type": "code",
      "execution_count": 9,
      "metadata": {
        "colab": {
          "base_uri": "https://localhost:8080/"
        },
        "id": "cYOxzyvLN92O",
        "outputId": "7b9fb7ce-d154-4844-fd82-8d54537eb7e3"
      },
      "outputs": [
        {
          "output_type": "execute_result",
          "data": {
            "text/plain": [
              "float64    25\n",
              "int64      11\n",
              "object      1\n",
              "dtype: int64"
            ]
          },
          "metadata": {},
          "execution_count": 9
        }
      ],
      "source": [
        "train_df.dtypes.value_counts()"
      ]
    },
    {
      "cell_type": "markdown",
      "metadata": {
        "id": "f8ZLAgMeN92R"
      },
      "source": [
        "Уровень дефолт-рейта в выборке = 6,7219%"
      ]
    },
    {
      "cell_type": "code",
      "execution_count": 10,
      "metadata": {
        "colab": {
          "base_uri": "https://localhost:8080/"
        },
        "id": "LTHNGVxTN92S",
        "outputId": "415e857c-f20f-42b5-b393-ece656c28555"
      },
      "outputs": [
        {
          "output_type": "execute_result",
          "data": {
            "text/plain": [
              "0.06454699799351751"
            ]
          },
          "metadata": {},
          "execution_count": 10
        }
      ],
      "source": [
        "train_df['default_12m'].values.mean()"
      ]
    },
    {
      "cell_type": "code",
      "execution_count": 11,
      "metadata": {
        "colab": {
          "base_uri": "https://localhost:8080/"
        },
        "id": "47MrTU_xN92X",
        "outputId": "1595c672-833f-4653-da8b-50ac47b876e5"
      },
      "outputs": [
        {
          "output_type": "execute_result",
          "data": {
            "text/plain": [
              "32395"
            ]
          },
          "metadata": {},
          "execution_count": 11
        }
      ],
      "source": [
        "train_df.record_id.nunique()"
      ]
    },
    {
      "cell_type": "markdown",
      "metadata": {
        "id": "vo_LbDC0N92a"
      },
      "source": [
        "32395 уникальных наблюдений"
      ]
    },
    {
      "cell_type": "markdown",
      "source": [
        "Изучение признаков"
      ],
      "metadata": {
        "id": "UHFvCzyOS_Sd"
      }
    },
    {
      "cell_type": "code",
      "source": [
        "train_df.info()"
      ],
      "metadata": {
        "colab": {
          "base_uri": "https://localhost:8080/"
        },
        "id": "HNqOSI30S9oz",
        "outputId": "b7b16b3a-92cd-4e8e-9119-c8ab7bebd4b2"
      },
      "execution_count": 25,
      "outputs": [
        {
          "output_type": "stream",
          "name": "stdout",
          "text": [
            "<class 'pandas.core.frame.DataFrame'>\n",
            "RangeIndex: 32395 entries, 0 to 32394\n",
            "Data columns (total 37 columns):\n",
            " #   Column                        Non-Null Count  Dtype  \n",
            "---  ------                        --------------  -----  \n",
            " 0   record_id                     32395 non-null  int64  \n",
            " 1   ar_revenue                    17250 non-null  float64\n",
            " 2   ar_total_expenses             17250 non-null  float64\n",
            " 3   ar_sale_cost                  17250 non-null  float64\n",
            " 4   ar_selling_expenses           17250 non-null  float64\n",
            " 5   ar_management_expenses        17250 non-null  float64\n",
            " 6   ar_sale_profit                17250 non-null  float64\n",
            " 7   ar_balance_of_rvns_and_expns  17250 non-null  float64\n",
            " 8   ar_profit_before_tax          17250 non-null  float64\n",
            " 9   ar_taxes                      17250 non-null  float64\n",
            " 10  ar_other_profit_and_losses    17250 non-null  float64\n",
            " 11  ar_net_profit                 17250 non-null  float64\n",
            " 12  ab_immobilized_assets         17250 non-null  float64\n",
            " 13  ab_mobile_current_assets      17250 non-null  float64\n",
            " 14  ab_inventory                  17250 non-null  float64\n",
            " 15  ab_accounts_receivable        17250 non-null  float64\n",
            " 16  ab_other_current_assets       17250 non-null  float64\n",
            " 17  ab_cash_and_securities        17250 non-null  float64\n",
            " 18  ab_losses                     17250 non-null  float64\n",
            " 19  ab_own_capital                17250 non-null  float64\n",
            " 20  ab_borrowed_capital           17250 non-null  float64\n",
            " 21  ab_long_term_liabilities      17250 non-null  float64\n",
            " 22  ab_short_term_borrowing       17250 non-null  float64\n",
            " 23  ab_accounts_payable           17250 non-null  float64\n",
            " 24  ab_other_borrowings           17250 non-null  float64\n",
            " 25  bus_age                       32395 non-null  int64  \n",
            " 26  ogrn_age                      32395 non-null  int64  \n",
            " 27  adr_actual_age                32395 non-null  int64  \n",
            " 28  head_actual_age               32395 non-null  int64  \n",
            " 29  cap_actual_age                32395 non-null  int64  \n",
            " 30  ul_staff_range                32395 non-null  object \n",
            " 31  ul_capital_sum                32395 non-null  float64\n",
            " 32  ul_founders_cnt               32395 non-null  int64  \n",
            " 33  ul_branch_cnt                 32395 non-null  int64  \n",
            " 34  ul_strategic_flg              32395 non-null  int64  \n",
            " 35  ul_systematizing_flg          32395 non-null  int64  \n",
            " 36  default_12m                   32395 non-null  int64  \n",
            "dtypes: float64(25), int64(11), object(1)\n",
            "memory usage: 9.1+ MB\n"
          ]
        }
      ]
    },
    {
      "cell_type": "code",
      "source": [
        "train_df = train_df.fillna(0)\n",
        "test_df = train_df.fillna(0)"
      ],
      "metadata": {
        "id": "6Vx9c77PT14E"
      },
      "execution_count": 14,
      "outputs": []
    },
    {
      "cell_type": "code",
      "source": [
        "train_df.info()"
      ],
      "metadata": {
        "colab": {
          "base_uri": "https://localhost:8080/"
        },
        "id": "lbjZSiWuUWC8",
        "outputId": "db39bb72-94bc-4b00-ce78-64f4ad5ca5e6"
      },
      "execution_count": 32,
      "outputs": [
        {
          "output_type": "stream",
          "name": "stdout",
          "text": [
            "<class 'pandas.core.frame.DataFrame'>\n",
            "RangeIndex: 32395 entries, 0 to 32394\n",
            "Data columns (total 37 columns):\n",
            " #   Column                        Non-Null Count  Dtype  \n",
            "---  ------                        --------------  -----  \n",
            " 0   record_id                     32395 non-null  int64  \n",
            " 1   ar_revenue                    32395 non-null  float64\n",
            " 2   ar_total_expenses             32395 non-null  float64\n",
            " 3   ar_sale_cost                  32395 non-null  float64\n",
            " 4   ar_selling_expenses           32395 non-null  float64\n",
            " 5   ar_management_expenses        32395 non-null  float64\n",
            " 6   ar_sale_profit                32395 non-null  float64\n",
            " 7   ar_balance_of_rvns_and_expns  32395 non-null  float64\n",
            " 8   ar_profit_before_tax          32395 non-null  float64\n",
            " 9   ar_taxes                      32395 non-null  float64\n",
            " 10  ar_other_profit_and_losses    32395 non-null  float64\n",
            " 11  ar_net_profit                 32395 non-null  float64\n",
            " 12  ab_immobilized_assets         32395 non-null  float64\n",
            " 13  ab_mobile_current_assets      32395 non-null  float64\n",
            " 14  ab_inventory                  32395 non-null  float64\n",
            " 15  ab_accounts_receivable        32395 non-null  float64\n",
            " 16  ab_other_current_assets       32395 non-null  float64\n",
            " 17  ab_cash_and_securities        32395 non-null  float64\n",
            " 18  ab_losses                     32395 non-null  float64\n",
            " 19  ab_own_capital                32395 non-null  float64\n",
            " 20  ab_borrowed_capital           32395 non-null  float64\n",
            " 21  ab_long_term_liabilities      32395 non-null  float64\n",
            " 22  ab_short_term_borrowing       32395 non-null  float64\n",
            " 23  ab_accounts_payable           32395 non-null  float64\n",
            " 24  ab_other_borrowings           32395 non-null  float64\n",
            " 25  bus_age                       32395 non-null  int64  \n",
            " 26  ogrn_age                      32395 non-null  int64  \n",
            " 27  adr_actual_age                32395 non-null  int64  \n",
            " 28  head_actual_age               32395 non-null  int64  \n",
            " 29  cap_actual_age                32395 non-null  int64  \n",
            " 30  ul_staff_range                32395 non-null  object \n",
            " 31  ul_capital_sum                32395 non-null  float64\n",
            " 32  ul_founders_cnt               32395 non-null  int64  \n",
            " 33  ul_branch_cnt                 32395 non-null  int64  \n",
            " 34  ul_strategic_flg              32395 non-null  int64  \n",
            " 35  ul_systematizing_flg          32395 non-null  int64  \n",
            " 36  default_12m                   32395 non-null  int64  \n",
            "dtypes: float64(25), int64(11), object(1)\n",
            "memory usage: 9.1+ MB\n"
          ]
        }
      ]
    },
    {
      "cell_type": "markdown",
      "source": [
        "Работа с категориальными фичами: в данном датасете только одна, применяем к ней one hot encoding"
      ],
      "metadata": {
        "id": "kDJ41_hFCZGg"
      }
    },
    {
      "cell_type": "code",
      "source": [
        "train_df['ul_staff_range'].unique()"
      ],
      "metadata": {
        "colab": {
          "base_uri": "https://localhost:8080/"
        },
        "id": "IxMq3-UOar2z",
        "outputId": "0ac6e8c4-66a3-4e02-a1fd-8d1a2b315a07"
      },
      "execution_count": 15,
      "outputs": [
        {
          "output_type": "execute_result",
          "data": {
            "text/plain": [
              "array(['[1-100]', '(100-500]', '> 500'], dtype=object)"
            ]
          },
          "metadata": {},
          "execution_count": 15
        }
      ]
    },
    {
      "cell_type": "code",
      "source": [
        "y = pd.get_dummies(train_df['ul_staff_range'])\n",
        "train_df = train_df.drop('ul_staff_range', axis = 1)\n",
        "train_df = train_df.join(y)\n",
        "\n",
        "y = pd.get_dummies(test_df['ul_staff_range'])\n",
        "test_df = test_df.drop('ul_staff_range', axis = 1)\n",
        "test_df =  test_df.join(y)"
      ],
      "metadata": {
        "id": "RHradWEha7pd"
      },
      "execution_count": 16,
      "outputs": []
    },
    {
      "cell_type": "markdown",
      "source": [
        "Уменьшим количество фичей для упрощения работы модели и увеличении ее эффективности: найдем те, что коррелируют друг с другом и оставим только по одному экземпляру"
      ],
      "metadata": {
        "id": "FrArThAMChOi"
      }
    },
    {
      "cell_type": "code",
      "source": [
        "sns.set(rc={'figure.figsize':(16,12)})\n",
        "sns.heatmap(train_df.corr())"
      ],
      "metadata": {
        "colab": {
          "base_uri": "https://localhost:8080/",
          "height": 884
        },
        "id": "k9NRBvTvUb2S",
        "outputId": "80428971-e70a-4c5b-a2cb-6e7556cc9879"
      },
      "execution_count": 17,
      "outputs": [
        {
          "output_type": "execute_result",
          "data": {
            "text/plain": [
              "<matplotlib.axes._subplots.AxesSubplot at 0x7f59c7e92390>"
            ]
          },
          "metadata": {},
          "execution_count": 17
        },
        {
          "output_type": "display_data",
          "data": {
            "text/plain": [
              "<Figure size 1152x864 with 2 Axes>"
            ],
            "image/png": "[encoded data removed]"
          },
          "metadata": {}
        }
      ]
    },
    {
      "cell_type": "markdown",
      "source": [
        "id записи бесполезно, не несет в себе информации. Удаляю столбцы с высоким показателем корреляции с каким-либо из других признаков"
      ],
      "metadata": {
        "id": "cBU9gsHWYOsQ"
      }
    },
    {
      "cell_type": "code",
      "source": [
        "drop_features = ['record_id', 'adr_actual_age', 'ar_revenue', 'ar_total_expenses', \n",
        "                 'head_actual_age', 'ab_mobile_current_assets',\n",
        "                 'ul_systematizing_flg', 'ar_net_profit', 'ar_sale_profit', \n",
        "                 'bus_age', 'ab_borrowed_capital']\n",
        "\n",
        "for feat in drop_features:\n",
        "  train_df = train_df.drop(feat, axis = 1)\n",
        "  test_df = test_df.drop(feat, axis = 1)"
      ],
      "metadata": {
        "id": "JBopb2bUU-B1"
      },
      "execution_count": 18,
      "outputs": []
    },
    {
      "cell_type": "code",
      "source": [
        "sns.set(rc={'figure.figsize':(16,12)})\n",
        "sns.heatmap(train_df.corr())"
      ],
      "metadata": {
        "colab": {
          "base_uri": "https://localhost:8080/",
          "height": 884
        },
        "id": "wUPRpsfGWGU5",
        "outputId": "e6f80357-7686-4aa5-f5fd-19acb151e268"
      },
      "execution_count": 19,
      "outputs": [
        {
          "output_type": "execute_result",
          "data": {
            "text/plain": [
              "<matplotlib.axes._subplots.AxesSubplot at 0x7f59c54ff450>"
            ]
          },
          "metadata": {},
          "execution_count": 19
        },
        {
          "output_type": "display_data",
          "data": {
            "text/plain": [
              "<Figure size 1152x864 with 2 Axes>"
            ],
            "image/png": "[encoded data removed]"
          },
          "metadata": {}
        }
      ]
    },
    {
      "cell_type": "markdown",
      "source": [
        "Масштабирование численных признаков"
      ],
      "metadata": {
        "id": "v58GIbBKzqnj"
      }
    },
    {
      "cell_type": "code",
      "source": [
        "from sklearn.preprocessing import StandardScaler"
      ],
      "metadata": {
        "id": "jy2z8MpnzqMb"
      },
      "execution_count": 20,
      "outputs": []
    },
    {
      "cell_type": "code",
      "source": [
        "train_df.info()"
      ],
      "metadata": {
        "colab": {
          "base_uri": "https://localhost:8080/"
        },
        "id": "uU0jYTEv3Hb2",
        "outputId": "8e502ced-0084-48fd-d90d-53170cbe27a4"
      },
      "execution_count": 39,
      "outputs": [
        {
          "output_type": "stream",
          "name": "stdout",
          "text": [
            "<class 'pandas.core.frame.DataFrame'>\n",
            "RangeIndex: 32395 entries, 0 to 32394\n",
            "Data columns (total 28 columns):\n",
            " #   Column                        Non-Null Count  Dtype  \n",
            "---  ------                        --------------  -----  \n",
            " 0   ar_sale_cost                  32395 non-null  float64\n",
            " 1   ar_selling_expenses           32395 non-null  float64\n",
            " 2   ar_management_expenses        32395 non-null  float64\n",
            " 3   ar_balance_of_rvns_and_expns  32395 non-null  float64\n",
            " 4   ar_profit_before_tax          32395 non-null  float64\n",
            " 5   ar_taxes                      32395 non-null  float64\n",
            " 6   ar_other_profit_and_losses    32395 non-null  float64\n",
            " 7   ab_immobilized_assets         32395 non-null  float64\n",
            " 8   ab_inventory                  32395 non-null  float64\n",
            " 9   ab_accounts_receivable        32395 non-null  float64\n",
            " 10  ab_other_current_assets       32395 non-null  float64\n",
            " 11  ab_cash_and_securities        32395 non-null  float64\n",
            " 12  ab_losses                     32395 non-null  float64\n",
            " 13  ab_own_capital                32395 non-null  float64\n",
            " 14  ab_long_term_liabilities      32395 non-null  float64\n",
            " 15  ab_short_term_borrowing       32395 non-null  float64\n",
            " 16  ab_accounts_payable           32395 non-null  float64\n",
            " 17  ab_other_borrowings           32395 non-null  float64\n",
            " 18  ogrn_age                      32395 non-null  float64\n",
            " 19  cap_actual_age                32395 non-null  float64\n",
            " 20  ul_capital_sum                32395 non-null  float64\n",
            " 21  ul_founders_cnt               32395 non-null  float64\n",
            " 22  ul_branch_cnt                 32395 non-null  float64\n",
            " 23  ul_strategic_flg              32395 non-null  float64\n",
            " 24  (100-500]                     32395 non-null  uint8  \n",
            " 25  > 500                         32395 non-null  uint8  \n",
            " 26  [1-100]                       32395 non-null  uint8  \n",
            " 27  default_12m                   32395 non-null  int64  \n",
            "dtypes: float64(24), int64(1), uint8(3)\n",
            "memory usage: 6.3 MB\n"
          ]
        }
      ]
    },
    {
      "cell_type": "code",
      "source": [
        "num_cols = ['ar_sale_cost', 'ar_selling_expenses', 'ar_management_expenses',\n",
        "       'ar_balance_of_rvns_and_expns', 'ar_profit_before_tax', 'ar_taxes',\n",
        "       'ar_other_profit_and_losses', 'ab_immobilized_assets', 'ab_inventory',\n",
        "       'ab_accounts_receivable', 'ab_other_current_assets',\n",
        "       'ab_cash_and_securities', 'ab_losses', 'ab_own_capital',\n",
        "       'ab_long_term_liabilities', 'ab_short_term_borrowing',\n",
        "       'ab_accounts_payable', 'ab_other_borrowings', 'ogrn_age',\n",
        "       'cap_actual_age', 'ul_capital_sum', 'ul_founders_cnt', 'ul_branch_cnt',\n",
        "       'ul_strategic_flg']\n",
        "\n",
        "cat_cols = ['(100-500]', '> 500', '[1-100]']"
      ],
      "metadata": {
        "id": "7suVSx7z4JBI"
      },
      "execution_count": 25,
      "outputs": []
    },
    {
      "cell_type": "code",
      "source": [
        "pca = StandardScaler()\n",
        "pca.fit(train_df[num_cols])\n",
        "# Выход pca - numpy матрица, положим ее в новую переменную со всеми фичами\n",
        "print(train_df.shape)\n",
        "X_dig_train = pd.DataFrame(pca.transform(train_df[num_cols]), columns = num_cols)\n",
        "cat_train = train_df[cat_cols]\n",
        "y_train = train_df['default_12m']\n",
        "train_df = X_dig_train.join(cat_train)\n",
        "train_df = train_df.join(y_train)\n",
        "print(train_df.shape)\n",
        "\n",
        "print(test_df.shape)\n",
        "X_dig_test = pd.DataFrame(pca.transform(test_df[num_cols]), columns = num_cols)\n",
        "cat_test = test_df[cat_cols]\n",
        "y_test = test_df['default_12m']\n",
        "test_df = X_dig_test.join(cat_test)\n",
        "test_df = test_df.join(y_test)\n",
        "print(test_df.shape)"
      ],
      "metadata": {
        "colab": {
          "base_uri": "https://localhost:8080/"
        },
        "id": "POFqqtsNzv7c",
        "outputId": "82c2b4a6-c69b-4252-fd10-6b0efc1d0646"
      },
      "execution_count": 30,
      "outputs": [
        {
          "output_type": "stream",
          "name": "stdout",
          "text": [
            "(32395, 28)\n",
            "(32395, 28)\n",
            "(32395, 28)\n",
            "(32395, 28)\n"
          ]
        }
      ]
    },
    {
      "cell_type": "markdown",
      "metadata": {
        "id": "DjygjQIM8u4Y"
      },
      "source": [
        "### Валидация результата"
      ]
    },
    {
      "cell_type": "code",
      "execution_count": 31,
      "metadata": {
        "colab": {
          "base_uri": "https://localhost:8080/"
        },
        "id": "NaH5PC4wN92n",
        "outputId": "b09fc8f4-461c-49ed-e38d-532d1c32fae7"
      },
      "outputs": [
        {
          "output_type": "execute_result",
          "data": {
            "text/plain": [
              "0.6740078844823773"
            ]
          },
          "metadata": {},
          "execution_count": 31
        }
      ],
      "source": [
        "X_train, X_test, y_train, y_test = train_test_split(train_df.drop('default_12m',axis=1),\n",
        "                                                    train_df['default_12m'],\n",
        "                                                    random_state=42, shuffle=True)\n",
        "\n",
        "logit = LogisticRegression(penalty = 'l1', solver = 'liblinear', max_iter=1000)\n",
        "logit.fit(X_train, y_train)\n",
        "cv_baseline = cross_val_score(logit, X_train, y_train, cv=5, scoring='roc_auc').mean()\n",
        "cv_baseline"
      ]
    },
    {
      "cell_type": "code",
      "source": [
        "cv_baseline = cross_val_score(logit, X_test, y_test, cv=5, scoring='roc_auc').mean()\n",
        "cv_baseline"
      ],
      "metadata": {
        "colab": {
          "base_uri": "https://localhost:8080/"
        },
        "id": "Vej7yU0Ge3pd",
        "outputId": "253675ee-8b0b-4636-def2-58fa446e9949"
      },
      "execution_count": 32,
      "outputs": [
        {
          "output_type": "execute_result",
          "data": {
            "text/plain": [
              "0.6759675643602092"
            ]
          },
          "metadata": {},
          "execution_count": 32
        }
      ]
    },
    {
      "cell_type": "markdown",
      "metadata": {
        "collapsed": true,
        "id": "13BN0BG1N92q"
      },
      "source": [
        "ROC/AUC бэйзлайн модели - 64,83%"
      ]
    },
    {
      "cell_type": "markdown",
      "source": [
        "### Попробуем другие модели"
      ],
      "metadata": {
        "id": "OjLXE6ZXeV-s"
      }
    },
    {
      "cell_type": "markdown",
      "source": [
        "GridSearchCV помогает удобно перепробовать разные комбинации параметров моделей для выявления лучшей"
      ],
      "metadata": {
        "id": "015W9fHjDhYb"
      }
    },
    {
      "cell_type": "code",
      "source": [
        "from sklearn.model_selection import GridSearchCV"
      ],
      "metadata": {
        "id": "4YTCZkN1eU2k"
      },
      "execution_count": 10,
      "outputs": []
    },
    {
      "cell_type": "code",
      "source": [
        "#1 модель - XGBRegressor\n",
        "from xgboost import XGBRegressor\n",
        "\n",
        "param = {\n",
        "        'n_estimators': [100],\n",
        "        'max_depth': [5,7,9,11,13,15,17,20],\n",
        "        'random_state': [24, 48,2020],\n",
        "        'min_child_weight': [1, 300],\n",
        "    }\n",
        "\n",
        "gbr_grid_search = GridSearchCV(XGBRegressor(), \n",
        "                               [param],\n",
        "                               cv=5,\n",
        "                               verbose=10)\n",
        "gbr_grid_search.fit(X_train, y_train)"
      ],
      "metadata": {
        "colab": {
          "base_uri": "https://localhost:8080/"
        },
        "id": "kQHuZhKmfJsE",
        "outputId": "114e3d4e-0bdc-4ff2-962b-716ceedd8e96"
      },
      "execution_count": 60,
      "outputs": [
        {
          "output_type": "stream",
          "name": "stdout",
          "text": [
            "Fitting 5 folds for each of 48 candidates, totalling 240 fits\n",
            "[CV 1/5; 1/48] START max_depth=5, min_child_weight=1, n_estimators=100, random_state=24\n",
            "[16:35:12] WARNING: /workspace/src/objective/regression_obj.cu:152: reg:linear is now deprecated in favor of reg:squarederror.\n",
            "[CV 1/5; 1/48] END max_depth=5, min_child_weight=1, n_estimators=100, random_state=24;, score=0.036 total time=   2.9s\n",
            "[CV 2/5; 1/48] START max_depth=5, min_child_weight=1, n_estimators=100, random_state=24\n",
            "[16:35:15] WARNING: /workspace/src/objective/regression_obj.cu:152: reg:linear is now deprecated in favor of reg:squarederror.\n",
            "[CV 2/5; 1/48] END max_depth=5, min_child_weight=1, n_estimators=100, random_state=24;, score=0.039 total time=   2.9s\n",
            "[CV 3/5; 1/48] START max_depth=5, min_child_weight=1, n_estimators=100, random_state=24\n",
            "[16:35:17] WARNING: /workspace/src/objective/regression_obj.cu:152: reg:linear is now deprecated in favor of reg:squarederror.\n",
            "[CV 3/5; 1/48] END max_depth=5, min_child_weight=1, n_estimators=100, random_state=24;, score=0.036 total time=   3.2s\n",
            "[CV 4/5; 1/48] START max_depth=5, min_child_weight=1, n_estimators=100, random_state=24\n",
            "[16:35:21] WARNING: /workspace/src/objective/regression_obj.cu:152: reg:linear is now deprecated in favor of reg:squarederror.\n",
            "[CV 4/5; 1/48] END max_depth=5, min_child_weight=1, n_estimators=100, random_state=24;, score=0.038 total time=   2.8s\n",
            "[CV 5/5; 1/48] START max_depth=5, min_child_weight=1, n_estimators=100, random_state=24\n",
            "[16:35:23] WARNING: /workspace/src/objective/regression_obj.cu:152: reg:linear is now deprecated in favor of reg:squarederror.\n",
            "[CV 5/5; 1/48] END max_depth=5, min_child_weight=1, n_estimators=100, random_state=24;, score=0.044 total time=   2.8s\n",
            "[CV 1/5; 2/48] START max_depth=5, min_child_weight=1, n_estimators=100, random_state=48\n",
            "[16:35:26] WARNING: /workspace/src/objective/regression_obj.cu:152: reg:linear is now deprecated in favor of reg:squarederror.\n",
            "[CV 1/5; 2/48] END max_depth=5, min_child_weight=1, n_estimators=100, random_state=48;, score=0.036 total time=   2.8s\n",
            "[CV 2/5; 2/48] START max_depth=5, min_child_weight=1, n_estimators=100, random_state=48\n",
            "[16:35:29] WARNING: /workspace/src/objective/regression_obj.cu:152: reg:linear is now deprecated in favor of reg:squarederror.\n",
            "[CV 2/5; 2/48] END max_depth=5, min_child_weight=1, n_estimators=100, random_state=48;, score=0.039 total time=   2.8s\n",
            "[CV 3/5; 2/48] START max_depth=5, min_child_weight=1, n_estimators=100, random_state=48\n",
            "[16:35:32] WARNING: /workspace/src/objective/regression_obj.cu:152: reg:linear is now deprecated in favor of reg:squarederror.\n",
            "[CV 3/5; 2/48] END max_depth=5, min_child_weight=1, n_estimators=100, random_state=48;, score=0.036 total time=   2.8s\n",
            "[CV 4/5; 2/48] START max_depth=5, min_child_weight=1, n_estimators=100, random_state=48\n",
            "[16:35:35] WARNING: /workspace/src/objective/regression_obj.cu:152: reg:linear is now deprecated in favor of reg:squarederror.\n",
            "[CV 4/5; 2/48] END max_depth=5, min_child_weight=1, n_estimators=100, random_state=48;, score=0.038 total time=   2.8s\n",
            "[CV 5/5; 2/48] START max_depth=5, min_child_weight=1, n_estimators=100, random_state=48\n",
            "[16:35:38] WARNING: /workspace/src/objective/regression_obj.cu:152: reg:linear is now deprecated in favor of reg:squarederror.\n",
            "[CV 5/5; 2/48] END max_depth=5, min_child_weight=1, n_estimators=100, random_state=48;, score=0.044 total time=   2.8s\n",
            "[CV 1/5; 3/48] START max_depth=5, min_child_weight=1, n_estimators=100, random_state=2020\n",
            "[16:35:40] WARNING: /workspace/src/objective/regression_obj.cu:152: reg:linear is now deprecated in favor of reg:squarederror.\n",
            "[CV 1/5; 3/48] END max_depth=5, min_child_weight=1, n_estimators=100, random_state=2020;, score=0.036 total time=   2.8s\n",
            "[CV 2/5; 3/48] START max_depth=5, min_child_weight=1, n_estimators=100, random_state=2020\n",
            "[16:35:43] WARNING: /workspace/src/objective/regression_obj.cu:152: reg:linear is now deprecated in favor of reg:squarederror.\n",
            "[CV 2/5; 3/48] END max_depth=5, min_child_weight=1, n_estimators=100, random_state=2020;, score=0.039 total time=   2.8s\n",
            "[CV 3/5; 3/48] START max_depth=5, min_child_weight=1, n_estimators=100, random_state=2020\n",
            "[16:35:46] WARNING: /workspace/src/objective/regression_obj.cu:152: reg:linear is now deprecated in favor of reg:squarederror.\n",
            "[CV 3/5; 3/48] END max_depth=5, min_child_weight=1, n_estimators=100, random_state=2020;, score=0.036 total time=   2.8s\n",
            "[CV 4/5; 3/48] START max_depth=5, min_child_weight=1, n_estimators=100, random_state=2020\n",
            "[16:35:49] WARNING: /workspace/src/objective/regression_obj.cu:152: reg:linear is now deprecated in favor of reg:squarederror.\n",
            "[CV 4/5; 3/48] END max_depth=5, min_child_weight=1, n_estimators=100, random_state=2020;, score=0.038 total time=   2.8s\n",
            "[CV 5/5; 3/48] START max_depth=5, min_child_weight=1, n_estimators=100, random_state=2020\n",
            "[16:35:52] WARNING: /workspace/src/objective/regression_obj.cu:152: reg:linear is now deprecated in favor of reg:squarederror.\n",
            "[CV 5/5; 3/48] END max_depth=5, min_child_weight=1, n_estimators=100, random_state=2020;, score=0.044 total time=   2.8s\n",
            "[CV 1/5; 4/48] START max_depth=5, min_child_weight=300, n_estimators=100, random_state=24\n",
            "[16:35:54] WARNING: /workspace/src/objective/regression_obj.cu:152: reg:linear is now deprecated in favor of reg:squarederror.\n",
            "[CV 1/5; 4/48] END max_depth=5, min_child_weight=300, n_estimators=100, random_state=24;, score=0.028 total time=   2.6s\n",
            "[CV 2/5; 4/48] START max_depth=5, min_child_weight=300, n_estimators=100, random_state=24\n",
            "[16:35:57] WARNING: /workspace/src/objective/regression_obj.cu:152: reg:linear is now deprecated in favor of reg:squarederror.\n",
            "[CV 2/5; 4/48] END max_depth=5, min_child_weight=300, n_estimators=100, random_state=24;, score=0.037 total time=   2.6s\n",
            "[CV 3/5; 4/48] START max_depth=5, min_child_weight=300, n_estimators=100, random_state=24\n",
            "[16:36:00] WARNING: /workspace/src/objective/regression_obj.cu:152: reg:linear is now deprecated in favor of reg:squarederror.\n",
            "[CV 3/5; 4/48] END max_depth=5, min_child_weight=300, n_estimators=100, random_state=24;, score=0.027 total time=   2.7s\n",
            "[CV 4/5; 4/48] START max_depth=5, min_child_weight=300, n_estimators=100, random_state=24\n",
            "[16:36:02] WARNING: /workspace/src/objective/regression_obj.cu:152: reg:linear is now deprecated in favor of reg:squarederror.\n",
            "[CV 4/5; 4/48] END max_depth=5, min_child_weight=300, n_estimators=100, random_state=24;, score=0.037 total time=   4.2s\n",
            "[CV 5/5; 4/48] START max_depth=5, min_child_weight=300, n_estimators=100, random_state=24\n",
            "[16:36:06] WARNING: /workspace/src/objective/regression_obj.cu:152: reg:linear is now deprecated in favor of reg:squarederror.\n",
            "[CV 5/5; 4/48] END max_depth=5, min_child_weight=300, n_estimators=100, random_state=24;, score=0.025 total time=   2.6s\n",
            "[CV 1/5; 5/48] START max_depth=5, min_child_weight=300, n_estimators=100, random_state=48\n",
            "[16:36:09] WARNING: /workspace/src/objective/regression_obj.cu:152: reg:linear is now deprecated in favor of reg:squarederror.\n",
            "[CV 1/5; 5/48] END max_depth=5, min_child_weight=300, n_estimators=100, random_state=48;, score=0.028 total time=   2.6s\n",
            "[CV 2/5; 5/48] START max_depth=5, min_child_weight=300, n_estimators=100, random_state=48\n",
            "[16:36:12] WARNING: /workspace/src/objective/regression_obj.cu:152: reg:linear is now deprecated in favor of reg:squarederror.\n",
            "[CV 2/5; 5/48] END max_depth=5, min_child_weight=300, n_estimators=100, random_state=48;, score=0.037 total time=   2.6s\n",
            "[CV 3/5; 5/48] START max_depth=5, min_child_weight=300, n_estimators=100, random_state=48\n",
            "[16:36:14] WARNING: /workspace/src/objective/regression_obj.cu:152: reg:linear is now deprecated in favor of reg:squarederror.\n",
            "[CV 3/5; 5/48] END max_depth=5, min_child_weight=300, n_estimators=100, random_state=48;, score=0.027 total time=   2.6s\n",
            "[CV 4/5; 5/48] START max_depth=5, min_child_weight=300, n_estimators=100, random_state=48\n",
            "[16:36:17] WARNING: /workspace/src/objective/regression_obj.cu:152: reg:linear is now deprecated in favor of reg:squarederror.\n",
            "[CV 4/5; 5/48] END max_depth=5, min_child_weight=300, n_estimators=100, random_state=48;, score=0.037 total time=   2.6s\n",
            "[CV 5/5; 5/48] START max_depth=5, min_child_weight=300, n_estimators=100, random_state=48\n",
            "[16:36:20] WARNING: /workspace/src/objective/regression_obj.cu:152: reg:linear is now deprecated in favor of reg:squarederror.\n",
            "[CV 5/5; 5/48] END max_depth=5, min_child_weight=300, n_estimators=100, random_state=48;, score=0.025 total time=   2.6s\n",
            "[CV 1/5; 6/48] START max_depth=5, min_child_weight=300, n_estimators=100, random_state=2020\n",
            "[16:36:22] WARNING: /workspace/src/objective/regression_obj.cu:152: reg:linear is now deprecated in favor of reg:squarederror.\n",
            "[CV 1/5; 6/48] END max_depth=5, min_child_weight=300, n_estimators=100, random_state=2020;, score=0.028 total time=   2.6s\n",
            "[CV 2/5; 6/48] START max_depth=5, min_child_weight=300, n_estimators=100, random_state=2020\n",
            "[16:36:25] WARNING: /workspace/src/objective/regression_obj.cu:152: reg:linear is now deprecated in favor of reg:squarederror.\n",
            "[CV 2/5; 6/48] END max_depth=5, min_child_weight=300, n_estimators=100, random_state=2020;, score=0.037 total time=   2.6s\n",
            "[CV 3/5; 6/48] START max_depth=5, min_child_weight=300, n_estimators=100, random_state=2020\n",
            "[16:36:27] WARNING: /workspace/src/objective/regression_obj.cu:152: reg:linear is now deprecated in favor of reg:squarederror.\n",
            "[CV 3/5; 6/48] END max_depth=5, min_child_weight=300, n_estimators=100, random_state=2020;, score=0.027 total time=   2.6s\n",
            "[CV 4/5; 6/48] START max_depth=5, min_child_weight=300, n_estimators=100, random_state=2020\n",
            "[16:36:30] WARNING: /workspace/src/objective/regression_obj.cu:152: reg:linear is now deprecated in favor of reg:squarederror.\n",
            "[CV 4/5; 6/48] END max_depth=5, min_child_weight=300, n_estimators=100, random_state=2020;, score=0.037 total time=   2.6s\n",
            "[CV 5/5; 6/48] START max_depth=5, min_child_weight=300, n_estimators=100, random_state=2020\n",
            "[16:36:32] WARNING: /workspace/src/objective/regression_obj.cu:152: reg:linear is now deprecated in favor of reg:squarederror.\n",
            "[CV 5/5; 6/48] END max_depth=5, min_child_weight=300, n_estimators=100, random_state=2020;, score=0.025 total time=   2.6s\n",
            "[CV 1/5; 7/48] START max_depth=7, min_child_weight=1, n_estimators=100, random_state=24\n",
            "[16:36:35] WARNING: /workspace/src/objective/regression_obj.cu:152: reg:linear is now deprecated in favor of reg:squarederror.\n",
            "[CV 1/5; 7/48] END max_depth=7, min_child_weight=1, n_estimators=100, random_state=24;, score=0.036 total time=   4.1s\n",
            "[CV 2/5; 7/48] START max_depth=7, min_child_weight=1, n_estimators=100, random_state=24\n",
            "[16:36:39] WARNING: /workspace/src/objective/regression_obj.cu:152: reg:linear is now deprecated in favor of reg:squarederror.\n",
            "[CV 2/5; 7/48] END max_depth=7, min_child_weight=1, n_estimators=100, random_state=24;, score=0.042 total time=   4.0s\n",
            "[CV 3/5; 7/48] START max_depth=7, min_child_weight=1, n_estimators=100, random_state=24\n",
            "[16:36:43] WARNING: /workspace/src/objective/regression_obj.cu:152: reg:linear is now deprecated in favor of reg:squarederror.\n",
            "[CV 3/5; 7/48] END max_depth=7, min_child_weight=1, n_estimators=100, random_state=24;, score=0.041 total time=   4.1s\n",
            "[CV 4/5; 7/48] START max_depth=7, min_child_weight=1, n_estimators=100, random_state=24\n",
            "[16:36:47] WARNING: /workspace/src/objective/regression_obj.cu:152: reg:linear is now deprecated in favor of reg:squarederror.\n",
            "[CV 4/5; 7/48] END max_depth=7, min_child_weight=1, n_estimators=100, random_state=24;, score=0.042 total time=   4.1s\n",
            "[CV 5/5; 7/48] START max_depth=7, min_child_weight=1, n_estimators=100, random_state=24\n",
            "[16:36:51] WARNING: /workspace/src/objective/regression_obj.cu:152: reg:linear is now deprecated in favor of reg:squarederror.\n",
            "[CV 5/5; 7/48] END max_depth=7, min_child_weight=1, n_estimators=100, random_state=24;, score=0.042 total time=   4.0s\n",
            "[CV 1/5; 8/48] START max_depth=7, min_child_weight=1, n_estimators=100, random_state=48\n",
            "[16:36:56] WARNING: /workspace/src/objective/regression_obj.cu:152: reg:linear is now deprecated in favor of reg:squarederror.\n",
            "[CV 1/5; 8/48] END max_depth=7, min_child_weight=1, n_estimators=100, random_state=48;, score=0.036 total time=   4.1s\n",
            "[CV 2/5; 8/48] START max_depth=7, min_child_weight=1, n_estimators=100, random_state=48\n",
            "[16:37:00] WARNING: /workspace/src/objective/regression_obj.cu:152: reg:linear is now deprecated in favor of reg:squarederror.\n",
            "[CV 2/5; 8/48] END max_depth=7, min_child_weight=1, n_estimators=100, random_state=48;, score=0.042 total time=   4.0s\n",
            "[CV 3/5; 8/48] START max_depth=7, min_child_weight=1, n_estimators=100, random_state=48\n",
            "[16:37:04] WARNING: /workspace/src/objective/regression_obj.cu:152: reg:linear is now deprecated in favor of reg:squarederror.\n",
            "[CV 3/5; 8/48] END max_depth=7, min_child_weight=1, n_estimators=100, random_state=48;, score=0.041 total time=   4.2s\n",
            "[CV 4/5; 8/48] START max_depth=7, min_child_weight=1, n_estimators=100, random_state=48\n",
            "[16:37:08] WARNING: /workspace/src/objective/regression_obj.cu:152: reg:linear is now deprecated in favor of reg:squarederror.\n",
            "[CV 4/5; 8/48] END max_depth=7, min_child_weight=1, n_estimators=100, random_state=48;, score=0.042 total time=   4.2s\n",
            "[CV 5/5; 8/48] START max_depth=7, min_child_weight=1, n_estimators=100, random_state=48\n",
            "[16:37:12] WARNING: /workspace/src/objective/regression_obj.cu:152: reg:linear is now deprecated in favor of reg:squarederror.\n",
            "[CV 5/5; 8/48] END max_depth=7, min_child_weight=1, n_estimators=100, random_state=48;, score=0.042 total time=   4.0s\n",
            "[CV 1/5; 9/48] START max_depth=7, min_child_weight=1, n_estimators=100, random_state=2020\n",
            "[16:37:16] WARNING: /workspace/src/objective/regression_obj.cu:152: reg:linear is now deprecated in favor of reg:squarederror.\n",
            "[CV 1/5; 9/48] END max_depth=7, min_child_weight=1, n_estimators=100, random_state=2020;, score=0.036 total time=   5.1s\n",
            "[CV 2/5; 9/48] START max_depth=7, min_child_weight=1, n_estimators=100, random_state=2020\n",
            "[16:37:21] WARNING: /workspace/src/objective/regression_obj.cu:152: reg:linear is now deprecated in favor of reg:squarederror.\n",
            "[CV 2/5; 9/48] END max_depth=7, min_child_weight=1, n_estimators=100, random_state=2020;, score=0.042 total time=   4.0s\n",
            "[CV 3/5; 9/48] START max_depth=7, min_child_weight=1, n_estimators=100, random_state=2020\n",
            "[16:37:25] WARNING: /workspace/src/objective/regression_obj.cu:152: reg:linear is now deprecated in favor of reg:squarederror.\n",
            "[CV 3/5; 9/48] END max_depth=7, min_child_weight=1, n_estimators=100, random_state=2020;, score=0.041 total time=   4.1s\n",
            "[CV 4/5; 9/48] START max_depth=7, min_child_weight=1, n_estimators=100, random_state=2020\n",
            "[16:37:29] WARNING: /workspace/src/objective/regression_obj.cu:152: reg:linear is now deprecated in favor of reg:squarederror.\n",
            "[CV 4/5; 9/48] END max_depth=7, min_child_weight=1, n_estimators=100, random_state=2020;, score=0.042 total time=   4.1s\n",
            "[CV 5/5; 9/48] START max_depth=7, min_child_weight=1, n_estimators=100, random_state=2020\n",
            "[16:37:33] WARNING: /workspace/src/objective/regression_obj.cu:152: reg:linear is now deprecated in favor of reg:squarederror.\n",
            "[CV 5/5; 9/48] END max_depth=7, min_child_weight=1, n_estimators=100, random_state=2020;, score=0.042 total time=   4.0s\n",
            "[CV 1/5; 10/48] START max_depth=7, min_child_weight=300, n_estimators=100, random_state=24\n",
            "[16:37:37] WARNING: /workspace/src/objective/regression_obj.cu:152: reg:linear is now deprecated in favor of reg:squarederror.\n",
            "[CV 1/5; 10/48] END max_depth=7, min_child_weight=300, n_estimators=100, random_state=24;, score=0.028 total time=   3.5s\n",
            "[CV 2/5; 10/48] START max_depth=7, min_child_weight=300, n_estimators=100, random_state=24\n",
            "[16:37:41] WARNING: /workspace/src/objective/regression_obj.cu:152: reg:linear is now deprecated in favor of reg:squarederror.\n",
            "[CV 2/5; 10/48] END max_depth=7, min_child_weight=300, n_estimators=100, random_state=24;, score=0.036 total time=   3.4s\n",
            "[CV 3/5; 10/48] START max_depth=7, min_child_weight=300, n_estimators=100, random_state=24\n",
            "[16:37:44] WARNING: /workspace/src/objective/regression_obj.cu:152: reg:linear is now deprecated in favor of reg:squarederror.\n",
            "[CV 3/5; 10/48] END max_depth=7, min_child_weight=300, n_estimators=100, random_state=24;, score=0.028 total time=   3.5s\n",
            "[CV 4/5; 10/48] START max_depth=7, min_child_weight=300, n_estimators=100, random_state=24\n",
            "[16:37:48] WARNING: /workspace/src/objective/regression_obj.cu:152: reg:linear is now deprecated in favor of reg:squarederror.\n",
            "[CV 4/5; 10/48] END max_depth=7, min_child_weight=300, n_estimators=100, random_state=24;, score=0.037 total time=   3.5s\n",
            "[CV 5/5; 10/48] START max_depth=7, min_child_weight=300, n_estimators=100, random_state=24\n",
            "[16:37:51] WARNING: /workspace/src/objective/regression_obj.cu:152: reg:linear is now deprecated in favor of reg:squarederror.\n",
            "[CV 5/5; 10/48] END max_depth=7, min_child_weight=300, n_estimators=100, random_state=24;, score=0.027 total time=   3.5s\n",
            "[CV 1/5; 11/48] START max_depth=7, min_child_weight=300, n_estimators=100, random_state=48\n",
            "[16:37:55] WARNING: /workspace/src/objective/regression_obj.cu:152: reg:linear is now deprecated in favor of reg:squarederror.\n",
            "[CV 1/5; 11/48] END max_depth=7, min_child_weight=300, n_estimators=100, random_state=48;, score=0.028 total time=   3.5s\n",
            "[CV 2/5; 11/48] START max_depth=7, min_child_weight=300, n_estimators=100, random_state=48\n",
            "[16:37:58] WARNING: /workspace/src/objective/regression_obj.cu:152: reg:linear is now deprecated in favor of reg:squarederror.\n",
            "[CV 2/5; 11/48] END max_depth=7, min_child_weight=300, n_estimators=100, random_state=48;, score=0.036 total time=   3.5s\n",
            "[CV 3/5; 11/48] START max_depth=7, min_child_weight=300, n_estimators=100, random_state=48\n",
            "[16:38:02] WARNING: /workspace/src/objective/regression_obj.cu:152: reg:linear is now deprecated in favor of reg:squarederror.\n",
            "[CV 3/5; 11/48] END max_depth=7, min_child_weight=300, n_estimators=100, random_state=48;, score=0.028 total time=   3.5s\n",
            "[CV 4/5; 11/48] START max_depth=7, min_child_weight=300, n_estimators=100, random_state=48\n",
            "[16:38:05] WARNING: /workspace/src/objective/regression_obj.cu:152: reg:linear is now deprecated in favor of reg:squarederror.\n",
            "[CV 4/5; 11/48] END max_depth=7, min_child_weight=300, n_estimators=100, random_state=48;, score=0.037 total time=   3.5s\n",
            "[CV 5/5; 11/48] START max_depth=7, min_child_weight=300, n_estimators=100, random_state=48\n",
            "[16:38:09] WARNING: /workspace/src/objective/regression_obj.cu:152: reg:linear is now deprecated in favor of reg:squarederror.\n",
            "[CV 5/5; 11/48] END max_depth=7, min_child_weight=300, n_estimators=100, random_state=48;, score=0.027 total time=   3.5s\n",
            "[CV 1/5; 12/48] START max_depth=7, min_child_weight=300, n_estimators=100, random_state=2020\n",
            "[16:38:12] WARNING: /workspace/src/objective/regression_obj.cu:152: reg:linear is now deprecated in favor of reg:squarederror.\n",
            "[CV 1/5; 12/48] END max_depth=7, min_child_weight=300, n_estimators=100, random_state=2020;, score=0.028 total time=   3.5s\n",
            "[CV 2/5; 12/48] START max_depth=7, min_child_weight=300, n_estimators=100, random_state=2020\n",
            "[16:38:16] WARNING: /workspace/src/objective/regression_obj.cu:152: reg:linear is now deprecated in favor of reg:squarederror.\n",
            "[CV 2/5; 12/48] END max_depth=7, min_child_weight=300, n_estimators=100, random_state=2020;, score=0.036 total time=   3.4s\n",
            "[CV 3/5; 12/48] START max_depth=7, min_child_weight=300, n_estimators=100, random_state=2020\n",
            "[16:38:19] WARNING: /workspace/src/objective/regression_obj.cu:152: reg:linear is now deprecated in favor of reg:squarederror.\n",
            "[CV 3/5; 12/48] END max_depth=7, min_child_weight=300, n_estimators=100, random_state=2020;, score=0.028 total time=   3.4s\n",
            "[CV 4/5; 12/48] START max_depth=7, min_child_weight=300, n_estimators=100, random_state=2020\n",
            "[16:38:23] WARNING: /workspace/src/objective/regression_obj.cu:152: reg:linear is now deprecated in favor of reg:squarederror.\n",
            "[CV 4/5; 12/48] END max_depth=7, min_child_weight=300, n_estimators=100, random_state=2020;, score=0.037 total time=   3.5s\n",
            "[CV 5/5; 12/48] START max_depth=7, min_child_weight=300, n_estimators=100, random_state=2020\n",
            "[16:38:26] WARNING: /workspace/src/objective/regression_obj.cu:152: reg:linear is now deprecated in favor of reg:squarederror.\n",
            "[CV 5/5; 12/48] END max_depth=7, min_child_weight=300, n_estimators=100, random_state=2020;, score=0.027 total time=   3.5s\n",
            "[CV 1/5; 13/48] START max_depth=9, min_child_weight=1, n_estimators=100, random_state=24\n",
            "[16:38:30] WARNING: /workspace/src/objective/regression_obj.cu:152: reg:linear is now deprecated in favor of reg:squarederror.\n",
            "[CV 1/5; 13/48] END max_depth=9, min_child_weight=1, n_estimators=100, random_state=24;, score=0.031 total time=   5.6s\n",
            "[CV 2/5; 13/48] START max_depth=9, min_child_weight=1, n_estimators=100, random_state=24\n",
            "[16:38:35] WARNING: /workspace/src/objective/regression_obj.cu:152: reg:linear is now deprecated in favor of reg:squarederror.\n",
            "[CV 2/5; 13/48] END max_depth=9, min_child_weight=1, n_estimators=100, random_state=24;, score=0.042 total time=   5.5s\n",
            "[CV 3/5; 13/48] START max_depth=9, min_child_weight=1, n_estimators=100, random_state=24\n",
            "[16:38:41] WARNING: /workspace/src/objective/regression_obj.cu:152: reg:linear is now deprecated in favor of reg:squarederror.\n",
            "[CV 3/5; 13/48] END max_depth=9, min_child_weight=1, n_estimators=100, random_state=24;, score=0.030 total time=   5.5s\n",
            "[CV 4/5; 13/48] START max_depth=9, min_child_weight=1, n_estimators=100, random_state=24\n",
            "[16:38:46] WARNING: /workspace/src/objective/regression_obj.cu:152: reg:linear is now deprecated in favor of reg:squarederror.\n",
            "[CV 4/5; 13/48] END max_depth=9, min_child_weight=1, n_estimators=100, random_state=24;, score=0.043 total time=   5.5s\n",
            "[CV 5/5; 13/48] START max_depth=9, min_child_weight=1, n_estimators=100, random_state=24\n",
            "[16:38:52] WARNING: /workspace/src/objective/regression_obj.cu:152: reg:linear is now deprecated in favor of reg:squarederror.\n",
            "[CV 5/5; 13/48] END max_depth=9, min_child_weight=1, n_estimators=100, random_state=24;, score=0.029 total time=   5.8s\n",
            "[CV 1/5; 14/48] START max_depth=9, min_child_weight=1, n_estimators=100, random_state=48\n",
            "[16:38:58] WARNING: /workspace/src/objective/regression_obj.cu:152: reg:linear is now deprecated in favor of reg:squarederror.\n",
            "[CV 1/5; 14/48] END max_depth=9, min_child_weight=1, n_estimators=100, random_state=48;, score=0.031 total time=   5.5s\n",
            "[CV 2/5; 14/48] START max_depth=9, min_child_weight=1, n_estimators=100, random_state=48\n",
            "[16:39:03] WARNING: /workspace/src/objective/regression_obj.cu:152: reg:linear is now deprecated in favor of reg:squarederror.\n",
            "[CV 2/5; 14/48] END max_depth=9, min_child_weight=1, n_estimators=100, random_state=48;, score=0.042 total time=   5.5s\n",
            "[CV 3/5; 14/48] START max_depth=9, min_child_weight=1, n_estimators=100, random_state=48\n",
            "[16:39:09] WARNING: /workspace/src/objective/regression_obj.cu:152: reg:linear is now deprecated in favor of reg:squarederror.\n",
            "[CV 3/5; 14/48] END max_depth=9, min_child_weight=1, n_estimators=100, random_state=48;, score=0.030 total time=   5.5s\n",
            "[CV 4/5; 14/48] START max_depth=9, min_child_weight=1, n_estimators=100, random_state=48\n",
            "[16:39:14] WARNING: /workspace/src/objective/regression_obj.cu:152: reg:linear is now deprecated in favor of reg:squarederror.\n",
            "[CV 4/5; 14/48] END max_depth=9, min_child_weight=1, n_estimators=100, random_state=48;, score=0.043 total time=   5.5s\n",
            "[CV 5/5; 14/48] START max_depth=9, min_child_weight=1, n_estimators=100, random_state=48\n",
            "[16:39:20] WARNING: /workspace/src/objective/regression_obj.cu:152: reg:linear is now deprecated in favor of reg:squarederror.\n",
            "[CV 5/5; 14/48] END max_depth=9, min_child_weight=1, n_estimators=100, random_state=48;, score=0.029 total time=   5.4s\n",
            "[CV 1/5; 15/48] START max_depth=9, min_child_weight=1, n_estimators=100, random_state=2020\n",
            "[16:39:25] WARNING: /workspace/src/objective/regression_obj.cu:152: reg:linear is now deprecated in favor of reg:squarederror.\n",
            "[CV 1/5; 15/48] END max_depth=9, min_child_weight=1, n_estimators=100, random_state=2020;, score=0.031 total time=   5.6s\n",
            "[CV 2/5; 15/48] START max_depth=9, min_child_weight=1, n_estimators=100, random_state=2020\n",
            "[16:39:31] WARNING: /workspace/src/objective/regression_obj.cu:152: reg:linear is now deprecated in favor of reg:squarederror.\n",
            "[CV 2/5; 15/48] END max_depth=9, min_child_weight=1, n_estimators=100, random_state=2020;, score=0.042 total time=   5.5s\n",
            "[CV 3/5; 15/48] START max_depth=9, min_child_weight=1, n_estimators=100, random_state=2020\n",
            "[16:39:36] WARNING: /workspace/src/objective/regression_obj.cu:152: reg:linear is now deprecated in favor of reg:squarederror.\n",
            "[CV 3/5; 15/48] END max_depth=9, min_child_weight=1, n_estimators=100, random_state=2020;, score=0.030 total time=   5.6s\n",
            "[CV 4/5; 15/48] START max_depth=9, min_child_weight=1, n_estimators=100, random_state=2020\n",
            "[16:39:42] WARNING: /workspace/src/objective/regression_obj.cu:152: reg:linear is now deprecated in favor of reg:squarederror.\n",
            "[CV 4/5; 15/48] END max_depth=9, min_child_weight=1, n_estimators=100, random_state=2020;, score=0.043 total time=   5.6s\n",
            "[CV 5/5; 15/48] START max_depth=9, min_child_weight=1, n_estimators=100, random_state=2020\n",
            "[16:39:47] WARNING: /workspace/src/objective/regression_obj.cu:152: reg:linear is now deprecated in favor of reg:squarederror.\n",
            "[CV 5/5; 15/48] END max_depth=9, min_child_weight=1, n_estimators=100, random_state=2020;, score=0.029 total time=   5.4s\n",
            "[CV 1/5; 16/48] START max_depth=9, min_child_weight=300, n_estimators=100, random_state=24\n",
            "[16:39:53] WARNING: /workspace/src/objective/regression_obj.cu:152: reg:linear is now deprecated in favor of reg:squarederror.\n",
            "[CV 1/5; 16/48] END max_depth=9, min_child_weight=300, n_estimators=100, random_state=24;, score=0.029 total time=   4.4s\n",
            "[CV 2/5; 16/48] START max_depth=9, min_child_weight=300, n_estimators=100, random_state=24\n",
            "[16:39:57] WARNING: /workspace/src/objective/regression_obj.cu:152: reg:linear is now deprecated in favor of reg:squarederror.\n",
            "[CV 2/5; 16/48] END max_depth=9, min_child_weight=300, n_estimators=100, random_state=24;, score=0.035 total time=   4.3s\n",
            "[CV 3/5; 16/48] START max_depth=9, min_child_weight=300, n_estimators=100, random_state=24\n",
            "[16:40:02] WARNING: /workspace/src/objective/regression_obj.cu:152: reg:linear is now deprecated in favor of reg:squarederror.\n",
            "[CV 3/5; 16/48] END max_depth=9, min_child_weight=300, n_estimators=100, random_state=24;, score=0.028 total time=   4.3s\n",
            "[CV 4/5; 16/48] START max_depth=9, min_child_weight=300, n_estimators=100, random_state=24\n",
            "[16:40:06] WARNING: /workspace/src/objective/regression_obj.cu:152: reg:linear is now deprecated in favor of reg:squarederror.\n",
            "[CV 4/5; 16/48] END max_depth=9, min_child_weight=300, n_estimators=100, random_state=24;, score=0.038 total time=   4.4s\n",
            "[CV 5/5; 16/48] START max_depth=9, min_child_weight=300, n_estimators=100, random_state=24\n",
            "[16:40:10] WARNING: /workspace/src/objective/regression_obj.cu:152: reg:linear is now deprecated in favor of reg:squarederror.\n",
            "[CV 5/5; 16/48] END max_depth=9, min_child_weight=300, n_estimators=100, random_state=24;, score=0.028 total time=   4.3s\n",
            "[CV 1/5; 17/48] START max_depth=9, min_child_weight=300, n_estimators=100, random_state=48\n",
            "[16:40:15] WARNING: /workspace/src/objective/regression_obj.cu:152: reg:linear is now deprecated in favor of reg:squarederror.\n",
            "[CV 1/5; 17/48] END max_depth=9, min_child_weight=300, n_estimators=100, random_state=48;, score=0.029 total time=   4.4s\n",
            "[CV 2/5; 17/48] START max_depth=9, min_child_weight=300, n_estimators=100, random_state=48\n",
            "[16:40:19] WARNING: /workspace/src/objective/regression_obj.cu:152: reg:linear is now deprecated in favor of reg:squarederror.\n",
            "[CV 2/5; 17/48] END max_depth=9, min_child_weight=300, n_estimators=100, random_state=48;, score=0.035 total time=   4.3s\n",
            "[CV 3/5; 17/48] START max_depth=9, min_child_weight=300, n_estimators=100, random_state=48\n",
            "[16:40:23] WARNING: /workspace/src/objective/regression_obj.cu:152: reg:linear is now deprecated in favor of reg:squarederror.\n",
            "[CV 3/5; 17/48] END max_depth=9, min_child_weight=300, n_estimators=100, random_state=48;, score=0.028 total time=   4.3s\n",
            "[CV 4/5; 17/48] START max_depth=9, min_child_weight=300, n_estimators=100, random_state=48\n",
            "[16:40:28] WARNING: /workspace/src/objective/regression_obj.cu:152: reg:linear is now deprecated in favor of reg:squarederror.\n",
            "[CV 4/5; 17/48] END max_depth=9, min_child_weight=300, n_estimators=100, random_state=48;, score=0.038 total time=   4.4s\n",
            "[CV 5/5; 17/48] START max_depth=9, min_child_weight=300, n_estimators=100, random_state=48\n",
            "[16:40:32] WARNING: /workspace/src/objective/regression_obj.cu:152: reg:linear is now deprecated in favor of reg:squarederror.\n",
            "[CV 5/5; 17/48] END max_depth=9, min_child_weight=300, n_estimators=100, random_state=48;, score=0.028 total time=   4.3s\n",
            "[CV 1/5; 18/48] START max_depth=9, min_child_weight=300, n_estimators=100, random_state=2020\n",
            "[16:40:36] WARNING: /workspace/src/objective/regression_obj.cu:152: reg:linear is now deprecated in favor of reg:squarederror.\n",
            "[CV 1/5; 18/48] END max_depth=9, min_child_weight=300, n_estimators=100, random_state=2020;, score=0.029 total time=   4.4s\n",
            "[CV 2/5; 18/48] START max_depth=9, min_child_weight=300, n_estimators=100, random_state=2020\n",
            "[16:40:41] WARNING: /workspace/src/objective/regression_obj.cu:152: reg:linear is now deprecated in favor of reg:squarederror.\n",
            "[CV 2/5; 18/48] END max_depth=9, min_child_weight=300, n_estimators=100, random_state=2020;, score=0.035 total time=   4.3s\n",
            "[CV 3/5; 18/48] START max_depth=9, min_child_weight=300, n_estimators=100, random_state=2020\n",
            "[16:40:45] WARNING: /workspace/src/objective/regression_obj.cu:152: reg:linear is now deprecated in favor of reg:squarederror.\n",
            "[CV 3/5; 18/48] END max_depth=9, min_child_weight=300, n_estimators=100, random_state=2020;, score=0.028 total time=   4.3s\n",
            "[CV 4/5; 18/48] START max_depth=9, min_child_weight=300, n_estimators=100, random_state=2020\n",
            "[16:40:49] WARNING: /workspace/src/objective/regression_obj.cu:152: reg:linear is now deprecated in favor of reg:squarederror.\n",
            "[CV 4/5; 18/48] END max_depth=9, min_child_weight=300, n_estimators=100, random_state=2020;, score=0.038 total time=   4.3s\n",
            "[CV 5/5; 18/48] START max_depth=9, min_child_weight=300, n_estimators=100, random_state=2020\n",
            "[16:40:54] WARNING: /workspace/src/objective/regression_obj.cu:152: reg:linear is now deprecated in favor of reg:squarederror.\n",
            "[CV 5/5; 18/48] END max_depth=9, min_child_weight=300, n_estimators=100, random_state=2020;, score=0.028 total time=   4.3s\n",
            "[CV 1/5; 19/48] START max_depth=11, min_child_weight=1, n_estimators=100, random_state=24\n",
            "[16:40:58] WARNING: /workspace/src/objective/regression_obj.cu:152: reg:linear is now deprecated in favor of reg:squarederror.\n",
            "[CV 1/5; 19/48] END max_depth=11, min_child_weight=1, n_estimators=100, random_state=24;, score=0.018 total time=   7.2s\n",
            "[CV 2/5; 19/48] START max_depth=11, min_child_weight=1, n_estimators=100, random_state=24\n",
            "[16:41:05] WARNING: /workspace/src/objective/regression_obj.cu:152: reg:linear is now deprecated in favor of reg:squarederror.\n",
            "[CV 2/5; 19/48] END max_depth=11, min_child_weight=1, n_estimators=100, random_state=24;, score=0.038 total time=   7.2s\n",
            "[CV 3/5; 19/48] START max_depth=11, min_child_weight=1, n_estimators=100, random_state=24\n",
            "[16:41:12] WARNING: /workspace/src/objective/regression_obj.cu:152: reg:linear is now deprecated in favor of reg:squarederror.\n",
            "[CV 3/5; 19/48] END max_depth=11, min_child_weight=1, n_estimators=100, random_state=24;, score=0.013 total time=   7.3s\n",
            "[CV 4/5; 19/48] START max_depth=11, min_child_weight=1, n_estimators=100, random_state=24\n",
            "[16:41:20] WARNING: /workspace/src/objective/regression_obj.cu:152: reg:linear is now deprecated in favor of reg:squarederror.\n",
            "[CV 4/5; 19/48] END max_depth=11, min_child_weight=1, n_estimators=100, random_state=24;, score=0.021 total time=   7.2s\n",
            "[CV 5/5; 19/48] START max_depth=11, min_child_weight=1, n_estimators=100, random_state=24\n",
            "[16:41:27] WARNING: /workspace/src/objective/regression_obj.cu:152: reg:linear is now deprecated in favor of reg:squarederror.\n",
            "[CV 5/5; 19/48] END max_depth=11, min_child_weight=1, n_estimators=100, random_state=24;, score=-0.005 total time=   7.2s\n",
            "[CV 1/5; 20/48] START max_depth=11, min_child_weight=1, n_estimators=100, random_state=48\n",
            "[16:41:34] WARNING: /workspace/src/objective/regression_obj.cu:152: reg:linear is now deprecated in favor of reg:squarederror.\n",
            "[CV 1/5; 20/48] END max_depth=11, min_child_weight=1, n_estimators=100, random_state=48;, score=0.018 total time=   7.2s\n",
            "[CV 2/5; 20/48] START max_depth=11, min_child_weight=1, n_estimators=100, random_state=48\n",
            "[16:41:41] WARNING: /workspace/src/objective/regression_obj.cu:152: reg:linear is now deprecated in favor of reg:squarederror.\n",
            "[CV 2/5; 20/48] END max_depth=11, min_child_weight=1, n_estimators=100, random_state=48;, score=0.038 total time=   7.1s\n",
            "[CV 3/5; 20/48] START max_depth=11, min_child_weight=1, n_estimators=100, random_state=48\n",
            "[16:41:48] WARNING: /workspace/src/objective/regression_obj.cu:152: reg:linear is now deprecated in favor of reg:squarederror.\n",
            "[CV 3/5; 20/48] END max_depth=11, min_child_weight=1, n_estimators=100, random_state=48;, score=0.013 total time=   7.4s\n",
            "[CV 4/5; 20/48] START max_depth=11, min_child_weight=1, n_estimators=100, random_state=48\n",
            "[16:41:56] WARNING: /workspace/src/objective/regression_obj.cu:152: reg:linear is now deprecated in favor of reg:squarederror.\n",
            "[CV 4/5; 20/48] END max_depth=11, min_child_weight=1, n_estimators=100, random_state=48;, score=0.021 total time=   7.2s\n",
            "[CV 5/5; 20/48] START max_depth=11, min_child_weight=1, n_estimators=100, random_state=48\n",
            "[16:42:03] WARNING: /workspace/src/objective/regression_obj.cu:152: reg:linear is now deprecated in favor of reg:squarederror.\n",
            "[CV 5/5; 20/48] END max_depth=11, min_child_weight=1, n_estimators=100, random_state=48;, score=-0.005 total time=   7.3s\n",
            "[CV 1/5; 21/48] START max_depth=11, min_child_weight=1, n_estimators=100, random_state=2020\n",
            "[16:42:10] WARNING: /workspace/src/objective/regression_obj.cu:152: reg:linear is now deprecated in favor of reg:squarederror.\n",
            "[CV 1/5; 21/48] END max_depth=11, min_child_weight=1, n_estimators=100, random_state=2020;, score=0.018 total time=   7.3s\n",
            "[CV 2/5; 21/48] START max_depth=11, min_child_weight=1, n_estimators=100, random_state=2020\n",
            "[16:42:17] WARNING: /workspace/src/objective/regression_obj.cu:152: reg:linear is now deprecated in favor of reg:squarederror.\n",
            "[CV 2/5; 21/48] END max_depth=11, min_child_weight=1, n_estimators=100, random_state=2020;, score=0.038 total time=   7.0s\n",
            "[CV 3/5; 21/48] START max_depth=11, min_child_weight=1, n_estimators=100, random_state=2020\n",
            "[16:42:24] WARNING: /workspace/src/objective/regression_obj.cu:152: reg:linear is now deprecated in favor of reg:squarederror.\n",
            "[CV 3/5; 21/48] END max_depth=11, min_child_weight=1, n_estimators=100, random_state=2020;, score=0.013 total time=   7.2s\n",
            "[CV 4/5; 21/48] START max_depth=11, min_child_weight=1, n_estimators=100, random_state=2020\n",
            "[16:42:32] WARNING: /workspace/src/objective/regression_obj.cu:152: reg:linear is now deprecated in favor of reg:squarederror.\n",
            "[CV 4/5; 21/48] END max_depth=11, min_child_weight=1, n_estimators=100, random_state=2020;, score=0.021 total time=   7.2s\n",
            "[CV 5/5; 21/48] START max_depth=11, min_child_weight=1, n_estimators=100, random_state=2020\n",
            "[16:42:39] WARNING: /workspace/src/objective/regression_obj.cu:152: reg:linear is now deprecated in favor of reg:squarederror.\n",
            "[CV 5/5; 21/48] END max_depth=11, min_child_weight=1, n_estimators=100, random_state=2020;, score=-0.005 total time=   7.2s\n",
            "[CV 1/5; 22/48] START max_depth=11, min_child_weight=300, n_estimators=100, random_state=24\n",
            "[16:42:46] WARNING: /workspace/src/objective/regression_obj.cu:152: reg:linear is now deprecated in favor of reg:squarederror.\n",
            "[CV 1/5; 22/48] END max_depth=11, min_child_weight=300, n_estimators=100, random_state=24;, score=0.027 total time=   5.2s\n",
            "[CV 2/5; 22/48] START max_depth=11, min_child_weight=300, n_estimators=100, random_state=24\n",
            "[16:42:51] WARNING: /workspace/src/objective/regression_obj.cu:152: reg:linear is now deprecated in favor of reg:squarederror.\n",
            "[CV 2/5; 22/48] END max_depth=11, min_child_weight=300, n_estimators=100, random_state=24;, score=0.036 total time=   5.1s\n",
            "[CV 3/5; 22/48] START max_depth=11, min_child_weight=300, n_estimators=100, random_state=24\n",
            "[16:42:56] WARNING: /workspace/src/objective/regression_obj.cu:152: reg:linear is now deprecated in favor of reg:squarederror.\n",
            "[CV 3/5; 22/48] END max_depth=11, min_child_weight=300, n_estimators=100, random_state=24;, score=0.029 total time=   5.1s\n",
            "[CV 4/5; 22/48] START max_depth=11, min_child_weight=300, n_estimators=100, random_state=24\n",
            "[16:43:02] WARNING: /workspace/src/objective/regression_obj.cu:152: reg:linear is now deprecated in favor of reg:squarederror.\n",
            "[CV 4/5; 22/48] END max_depth=11, min_child_weight=300, n_estimators=100, random_state=24;, score=0.037 total time=   5.2s\n",
            "[CV 5/5; 22/48] START max_depth=11, min_child_weight=300, n_estimators=100, random_state=24\n",
            "[16:43:07] WARNING: /workspace/src/objective/regression_obj.cu:152: reg:linear is now deprecated in favor of reg:squarederror.\n",
            "[CV 5/5; 22/48] END max_depth=11, min_child_weight=300, n_estimators=100, random_state=24;, score=0.030 total time=   5.2s\n",
            "[CV 1/5; 23/48] START max_depth=11, min_child_weight=300, n_estimators=100, random_state=48\n",
            "[16:43:12] WARNING: /workspace/src/objective/regression_obj.cu:152: reg:linear is now deprecated in favor of reg:squarederror.\n",
            "[CV 1/5; 23/48] END max_depth=11, min_child_weight=300, n_estimators=100, random_state=48;, score=0.027 total time=   5.2s\n",
            "[CV 2/5; 23/48] START max_depth=11, min_child_weight=300, n_estimators=100, random_state=48\n",
            "[16:43:17] WARNING: /workspace/src/objective/regression_obj.cu:152: reg:linear is now deprecated in favor of reg:squarederror.\n",
            "[CV 2/5; 23/48] END max_depth=11, min_child_weight=300, n_estimators=100, random_state=48;, score=0.036 total time=   5.1s\n",
            "[CV 3/5; 23/48] START max_depth=11, min_child_weight=300, n_estimators=100, random_state=48\n",
            "[16:43:22] WARNING: /workspace/src/objective/regression_obj.cu:152: reg:linear is now deprecated in favor of reg:squarederror.\n",
            "[CV 3/5; 23/48] END max_depth=11, min_child_weight=300, n_estimators=100, random_state=48;, score=0.029 total time=   5.1s\n",
            "[CV 4/5; 23/48] START max_depth=11, min_child_weight=300, n_estimators=100, random_state=48\n",
            "[16:43:27] WARNING: /workspace/src/objective/regression_obj.cu:152: reg:linear is now deprecated in favor of reg:squarederror.\n",
            "[CV 4/5; 23/48] END max_depth=11, min_child_weight=300, n_estimators=100, random_state=48;, score=0.037 total time=   5.2s\n",
            "[CV 5/5; 23/48] START max_depth=11, min_child_weight=300, n_estimators=100, random_state=48\n",
            "[16:43:33] WARNING: /workspace/src/objective/regression_obj.cu:152: reg:linear is now deprecated in favor of reg:squarederror.\n",
            "[CV 5/5; 23/48] END max_depth=11, min_child_weight=300, n_estimators=100, random_state=48;, score=0.030 total time=   5.1s\n",
            "[CV 1/5; 24/48] START max_depth=11, min_child_weight=300, n_estimators=100, random_state=2020\n",
            "[16:43:38] WARNING: /workspace/src/objective/regression_obj.cu:152: reg:linear is now deprecated in favor of reg:squarederror.\n",
            "[CV 1/5; 24/48] END max_depth=11, min_child_weight=300, n_estimators=100, random_state=2020;, score=0.027 total time=   5.2s\n",
            "[CV 2/5; 24/48] START max_depth=11, min_child_weight=300, n_estimators=100, random_state=2020\n",
            "[16:43:43] WARNING: /workspace/src/objective/regression_obj.cu:152: reg:linear is now deprecated in favor of reg:squarederror.\n",
            "[CV 2/5; 24/48] END max_depth=11, min_child_weight=300, n_estimators=100, random_state=2020;, score=0.036 total time=   5.1s\n",
            "[CV 3/5; 24/48] START max_depth=11, min_child_weight=300, n_estimators=100, random_state=2020\n",
            "[16:43:48] WARNING: /workspace/src/objective/regression_obj.cu:152: reg:linear is now deprecated in favor of reg:squarederror.\n",
            "[CV 3/5; 24/48] END max_depth=11, min_child_weight=300, n_estimators=100, random_state=2020;, score=0.029 total time=   5.2s\n",
            "[CV 4/5; 24/48] START max_depth=11, min_child_weight=300, n_estimators=100, random_state=2020\n",
            "[16:43:53] WARNING: /workspace/src/objective/regression_obj.cu:152: reg:linear is now deprecated in favor of reg:squarederror.\n",
            "[CV 4/5; 24/48] END max_depth=11, min_child_weight=300, n_estimators=100, random_state=2020;, score=0.037 total time=   5.2s\n",
            "[CV 5/5; 24/48] START max_depth=11, min_child_weight=300, n_estimators=100, random_state=2020\n",
            "[16:43:58] WARNING: /workspace/src/objective/regression_obj.cu:152: reg:linear is now deprecated in favor of reg:squarederror.\n",
            "[CV 5/5; 24/48] END max_depth=11, min_child_weight=300, n_estimators=100, random_state=2020;, score=0.030 total time=   6.5s\n",
            "[CV 1/5; 25/48] START max_depth=13, min_child_weight=1, n_estimators=100, random_state=24\n",
            "[16:44:05] WARNING: /workspace/src/objective/regression_obj.cu:152: reg:linear is now deprecated in favor of reg:squarederror.\n",
            "[CV 1/5; 25/48] END max_depth=13, min_child_weight=1, n_estimators=100, random_state=24;, score=-0.012 total time=   9.1s\n",
            "[CV 2/5; 25/48] START max_depth=13, min_child_weight=1, n_estimators=100, random_state=24\n",
            "[16:44:14] WARNING: /workspace/src/objective/regression_obj.cu:152: reg:linear is now deprecated in favor of reg:squarederror.\n",
            "[CV 2/5; 25/48] END max_depth=13, min_child_weight=1, n_estimators=100, random_state=24;, score=0.021 total time=   9.0s\n",
            "[CV 3/5; 25/48] START max_depth=13, min_child_weight=1, n_estimators=100, random_state=24\n",
            "[16:44:23] WARNING: /workspace/src/objective/regression_obj.cu:152: reg:linear is now deprecated in favor of reg:squarederror.\n",
            "[CV 3/5; 25/48] END max_depth=13, min_child_weight=1, n_estimators=100, random_state=24;, score=0.005 total time=   9.0s\n",
            "[CV 4/5; 25/48] START max_depth=13, min_child_weight=1, n_estimators=100, random_state=24\n",
            "[16:44:32] WARNING: /workspace/src/objective/regression_obj.cu:152: reg:linear is now deprecated in favor of reg:squarederror.\n",
            "[CV 4/5; 25/48] END max_depth=13, min_child_weight=1, n_estimators=100, random_state=24;, score=0.007 total time=   8.9s\n",
            "[CV 5/5; 25/48] START max_depth=13, min_child_weight=1, n_estimators=100, random_state=24\n",
            "[16:44:41] WARNING: /workspace/src/objective/regression_obj.cu:152: reg:linear is now deprecated in favor of reg:squarederror.\n",
            "[CV 5/5; 25/48] END max_depth=13, min_child_weight=1, n_estimators=100, random_state=24;, score=-0.038 total time=   9.0s\n",
            "[CV 1/5; 26/48] START max_depth=13, min_child_weight=1, n_estimators=100, random_state=48\n",
            "[16:44:50] WARNING: /workspace/src/objective/regression_obj.cu:152: reg:linear is now deprecated in favor of reg:squarederror.\n",
            "[CV 1/5; 26/48] END max_depth=13, min_child_weight=1, n_estimators=100, random_state=48;, score=-0.012 total time=   9.0s\n",
            "[CV 2/5; 26/48] START max_depth=13, min_child_weight=1, n_estimators=100, random_state=48\n",
            "[16:44:59] WARNING: /workspace/src/objective/regression_obj.cu:152: reg:linear is now deprecated in favor of reg:squarederror.\n",
            "[CV 2/5; 26/48] END max_depth=13, min_child_weight=1, n_estimators=100, random_state=48;, score=0.021 total time=   9.0s\n",
            "[CV 3/5; 26/48] START max_depth=13, min_child_weight=1, n_estimators=100, random_state=48\n",
            "[16:45:08] WARNING: /workspace/src/objective/regression_obj.cu:152: reg:linear is now deprecated in favor of reg:squarederror.\n",
            "[CV 3/5; 26/48] END max_depth=13, min_child_weight=1, n_estimators=100, random_state=48;, score=0.005 total time=   9.0s\n",
            "[CV 4/5; 26/48] START max_depth=13, min_child_weight=1, n_estimators=100, random_state=48\n",
            "[16:45:17] WARNING: /workspace/src/objective/regression_obj.cu:152: reg:linear is now deprecated in favor of reg:squarederror.\n",
            "[CV 4/5; 26/48] END max_depth=13, min_child_weight=1, n_estimators=100, random_state=48;, score=0.007 total time=   9.0s\n",
            "[CV 5/5; 26/48] START max_depth=13, min_child_weight=1, n_estimators=100, random_state=48\n",
            "[16:45:26] WARNING: /workspace/src/objective/regression_obj.cu:152: reg:linear is now deprecated in favor of reg:squarederror.\n",
            "[CV 5/5; 26/48] END max_depth=13, min_child_weight=1, n_estimators=100, random_state=48;, score=-0.038 total time=   9.1s\n",
            "[CV 1/5; 27/48] START max_depth=13, min_child_weight=1, n_estimators=100, random_state=2020\n",
            "[16:45:35] WARNING: /workspace/src/objective/regression_obj.cu:152: reg:linear is now deprecated in favor of reg:squarederror.\n",
            "[CV 1/5; 27/48] END max_depth=13, min_child_weight=1, n_estimators=100, random_state=2020;, score=-0.012 total time=   9.1s\n",
            "[CV 2/5; 27/48] START max_depth=13, min_child_weight=1, n_estimators=100, random_state=2020\n",
            "[16:45:44] WARNING: /workspace/src/objective/regression_obj.cu:152: reg:linear is now deprecated in favor of reg:squarederror.\n",
            "[CV 2/5; 27/48] END max_depth=13, min_child_weight=1, n_estimators=100, random_state=2020;, score=0.021 total time=   9.0s\n",
            "[CV 3/5; 27/48] START max_depth=13, min_child_weight=1, n_estimators=100, random_state=2020\n",
            "[16:45:53] WARNING: /workspace/src/objective/regression_obj.cu:152: reg:linear is now deprecated in favor of reg:squarederror.\n",
            "[CV 3/5; 27/48] END max_depth=13, min_child_weight=1, n_estimators=100, random_state=2020;, score=0.005 total time=   9.0s\n",
            "[CV 4/5; 27/48] START max_depth=13, min_child_weight=1, n_estimators=100, random_state=2020\n",
            "[16:46:02] WARNING: /workspace/src/objective/regression_obj.cu:152: reg:linear is now deprecated in favor of reg:squarederror.\n",
            "[CV 4/5; 27/48] END max_depth=13, min_child_weight=1, n_estimators=100, random_state=2020;, score=0.007 total time=   9.0s\n",
            "[CV 5/5; 27/48] START max_depth=13, min_child_weight=1, n_estimators=100, random_state=2020\n",
            "[16:46:11] WARNING: /workspace/src/objective/regression_obj.cu:152: reg:linear is now deprecated in favor of reg:squarederror.\n",
            "[CV 5/5; 27/48] END max_depth=13, min_child_weight=1, n_estimators=100, random_state=2020;, score=-0.038 total time=   9.1s\n",
            "[CV 1/5; 28/48] START max_depth=13, min_child_weight=300, n_estimators=100, random_state=24\n",
            "[16:46:20] WARNING: /workspace/src/objective/regression_obj.cu:152: reg:linear is now deprecated in favor of reg:squarederror.\n",
            "[CV 1/5; 28/48] END max_depth=13, min_child_weight=300, n_estimators=100, random_state=24;, score=0.027 total time=   5.9s\n",
            "[CV 2/5; 28/48] START max_depth=13, min_child_weight=300, n_estimators=100, random_state=24\n",
            "[16:46:26] WARNING: /workspace/src/objective/regression_obj.cu:152: reg:linear is now deprecated in favor of reg:squarederror.\n",
            "[CV 2/5; 28/48] END max_depth=13, min_child_weight=300, n_estimators=100, random_state=24;, score=0.034 total time=   5.8s\n",
            "[CV 3/5; 28/48] START max_depth=13, min_child_weight=300, n_estimators=100, random_state=24\n",
            "[16:46:32] WARNING: /workspace/src/objective/regression_obj.cu:152: reg:linear is now deprecated in favor of reg:squarederror.\n",
            "[CV 3/5; 28/48] END max_depth=13, min_child_weight=300, n_estimators=100, random_state=24;, score=0.029 total time=   5.9s\n",
            "[CV 4/5; 28/48] START max_depth=13, min_child_weight=300, n_estimators=100, random_state=24\n",
            "[16:46:38] WARNING: /workspace/src/objective/regression_obj.cu:152: reg:linear is now deprecated in favor of reg:squarederror.\n",
            "[CV 4/5; 28/48] END max_depth=13, min_child_weight=300, n_estimators=100, random_state=24;, score=0.036 total time=   5.8s\n",
            "[CV 5/5; 28/48] START max_depth=13, min_child_weight=300, n_estimators=100, random_state=24\n",
            "[16:46:44] WARNING: /workspace/src/objective/regression_obj.cu:152: reg:linear is now deprecated in favor of reg:squarederror.\n",
            "[CV 5/5; 28/48] END max_depth=13, min_child_weight=300, n_estimators=100, random_state=24;, score=0.025 total time=   5.9s\n",
            "[CV 1/5; 29/48] START max_depth=13, min_child_weight=300, n_estimators=100, random_state=48\n",
            "[16:46:50] WARNING: /workspace/src/objective/regression_obj.cu:152: reg:linear is now deprecated in favor of reg:squarederror.\n",
            "[CV 1/5; 29/48] END max_depth=13, min_child_weight=300, n_estimators=100, random_state=48;, score=0.027 total time=   5.9s\n",
            "[CV 2/5; 29/48] START max_depth=13, min_child_weight=300, n_estimators=100, random_state=48\n",
            "[16:46:55] WARNING: /workspace/src/objective/regression_obj.cu:152: reg:linear is now deprecated in favor of reg:squarederror.\n",
            "[CV 2/5; 29/48] END max_depth=13, min_child_weight=300, n_estimators=100, random_state=48;, score=0.034 total time=   5.8s\n",
            "[CV 3/5; 29/48] START max_depth=13, min_child_weight=300, n_estimators=100, random_state=48\n",
            "[16:47:01] WARNING: /workspace/src/objective/regression_obj.cu:152: reg:linear is now deprecated in favor of reg:squarederror.\n",
            "[CV 3/5; 29/48] END max_depth=13, min_child_weight=300, n_estimators=100, random_state=48;, score=0.029 total time=   5.9s\n",
            "[CV 4/5; 29/48] START max_depth=13, min_child_weight=300, n_estimators=100, random_state=48\n",
            "[16:47:07] WARNING: /workspace/src/objective/regression_obj.cu:152: reg:linear is now deprecated in favor of reg:squarederror.\n",
            "[CV 4/5; 29/48] END max_depth=13, min_child_weight=300, n_estimators=100, random_state=48;, score=0.036 total time=   6.0s\n",
            "[CV 5/5; 29/48] START max_depth=13, min_child_weight=300, n_estimators=100, random_state=48\n",
            "[16:47:13] WARNING: /workspace/src/objective/regression_obj.cu:152: reg:linear is now deprecated in favor of reg:squarederror.\n",
            "[CV 5/5; 29/48] END max_depth=13, min_child_weight=300, n_estimators=100, random_state=48;, score=0.025 total time=   5.9s\n",
            "[CV 1/5; 30/48] START max_depth=13, min_child_weight=300, n_estimators=100, random_state=2020\n",
            "[16:47:19] WARNING: /workspace/src/objective/regression_obj.cu:152: reg:linear is now deprecated in favor of reg:squarederror.\n",
            "[CV 1/5; 30/48] END max_depth=13, min_child_weight=300, n_estimators=100, random_state=2020;, score=0.027 total time=   5.9s\n",
            "[CV 2/5; 30/48] START max_depth=13, min_child_weight=300, n_estimators=100, random_state=2020\n",
            "[16:47:25] WARNING: /workspace/src/objective/regression_obj.cu:152: reg:linear is now deprecated in favor of reg:squarederror.\n",
            "[CV 2/5; 30/48] END max_depth=13, min_child_weight=300, n_estimators=100, random_state=2020;, score=0.034 total time=   5.8s\n",
            "[CV 3/5; 30/48] START max_depth=13, min_child_weight=300, n_estimators=100, random_state=2020\n",
            "[16:47:31] WARNING: /workspace/src/objective/regression_obj.cu:152: reg:linear is now deprecated in favor of reg:squarederror.\n",
            "[CV 3/5; 30/48] END max_depth=13, min_child_weight=300, n_estimators=100, random_state=2020;, score=0.029 total time=   5.9s\n",
            "[CV 4/5; 30/48] START max_depth=13, min_child_weight=300, n_estimators=100, random_state=2020\n",
            "[16:47:37] WARNING: /workspace/src/objective/regression_obj.cu:152: reg:linear is now deprecated in favor of reg:squarederror.\n",
            "[CV 4/5; 30/48] END max_depth=13, min_child_weight=300, n_estimators=100, random_state=2020;, score=0.036 total time=   5.9s\n",
            "[CV 5/5; 30/48] START max_depth=13, min_child_weight=300, n_estimators=100, random_state=2020\n",
            "[16:47:43] WARNING: /workspace/src/objective/regression_obj.cu:152: reg:linear is now deprecated in favor of reg:squarederror.\n",
            "[CV 5/5; 30/48] END max_depth=13, min_child_weight=300, n_estimators=100, random_state=2020;, score=0.025 total time=   5.9s\n",
            "[CV 1/5; 31/48] START max_depth=15, min_child_weight=1, n_estimators=100, random_state=24\n",
            "[16:47:49] WARNING: /workspace/src/objective/regression_obj.cu:152: reg:linear is now deprecated in favor of reg:squarederror.\n",
            "[CV 1/5; 31/48] END max_depth=15, min_child_weight=1, n_estimators=100, random_state=24;, score=-0.015 total time=  10.8s\n",
            "[CV 2/5; 31/48] START max_depth=15, min_child_weight=1, n_estimators=100, random_state=24\n",
            "[16:47:59] WARNING: /workspace/src/objective/regression_obj.cu:152: reg:linear is now deprecated in favor of reg:squarederror.\n",
            "[CV 2/5; 31/48] END max_depth=15, min_child_weight=1, n_estimators=100, random_state=24;, score=0.003 total time=  10.9s\n",
            "[CV 3/5; 31/48] START max_depth=15, min_child_weight=1, n_estimators=100, random_state=24\n",
            "[16:48:10] WARNING: /workspace/src/objective/regression_obj.cu:152: reg:linear is now deprecated in favor of reg:squarederror.\n",
            "[CV 3/5; 31/48] END max_depth=15, min_child_weight=1, n_estimators=100, random_state=24;, score=-0.044 total time=  11.1s\n",
            "[CV 4/5; 31/48] START max_depth=15, min_child_weight=1, n_estimators=100, random_state=24\n",
            "[16:48:21] WARNING: /workspace/src/objective/regression_obj.cu:152: reg:linear is now deprecated in favor of reg:squarederror.\n",
            "[CV 4/5; 31/48] END max_depth=15, min_child_weight=1, n_estimators=100, random_state=24;, score=-0.038 total time=  11.0s\n",
            "[CV 5/5; 31/48] START max_depth=15, min_child_weight=1, n_estimators=100, random_state=24\n",
            "[16:48:32] WARNING: /workspace/src/objective/regression_obj.cu:152: reg:linear is now deprecated in favor of reg:squarederror.\n",
            "[CV 5/5; 31/48] END max_depth=15, min_child_weight=1, n_estimators=100, random_state=24;, score=-0.041 total time=  10.7s\n",
            "[CV 1/5; 32/48] START max_depth=15, min_child_weight=1, n_estimators=100, random_state=48\n",
            "[16:48:43] WARNING: /workspace/src/objective/regression_obj.cu:152: reg:linear is now deprecated in favor of reg:squarederror.\n",
            "[CV 1/5; 32/48] END max_depth=15, min_child_weight=1, n_estimators=100, random_state=48;, score=-0.015 total time=  10.9s\n",
            "[CV 2/5; 32/48] START max_depth=15, min_child_weight=1, n_estimators=100, random_state=48\n",
            "[16:48:54] WARNING: /workspace/src/objective/regression_obj.cu:152: reg:linear is now deprecated in favor of reg:squarederror.\n",
            "[CV 2/5; 32/48] END max_depth=15, min_child_weight=1, n_estimators=100, random_state=48;, score=0.003 total time=  10.7s\n",
            "[CV 3/5; 32/48] START max_depth=15, min_child_weight=1, n_estimators=100, random_state=48\n",
            "[16:49:05] WARNING: /workspace/src/objective/regression_obj.cu:152: reg:linear is now deprecated in favor of reg:squarederror.\n",
            "[CV 3/5; 32/48] END max_depth=15, min_child_weight=1, n_estimators=100, random_state=48;, score=-0.044 total time=  11.1s\n",
            "[CV 4/5; 32/48] START max_depth=15, min_child_weight=1, n_estimators=100, random_state=48\n",
            "[16:49:16] WARNING: /workspace/src/objective/regression_obj.cu:152: reg:linear is now deprecated in favor of reg:squarederror.\n",
            "[CV 4/5; 32/48] END max_depth=15, min_child_weight=1, n_estimators=100, random_state=48;, score=-0.038 total time=  10.9s\n",
            "[CV 5/5; 32/48] START max_depth=15, min_child_weight=1, n_estimators=100, random_state=48\n",
            "[16:49:27] WARNING: /workspace/src/objective/regression_obj.cu:152: reg:linear is now deprecated in favor of reg:squarederror.\n",
            "[CV 5/5; 32/48] END max_depth=15, min_child_weight=1, n_estimators=100, random_state=48;, score=-0.041 total time=  10.6s\n",
            "[CV 1/5; 33/48] START max_depth=15, min_child_weight=1, n_estimators=100, random_state=2020\n",
            "[16:49:37] WARNING: /workspace/src/objective/regression_obj.cu:152: reg:linear is now deprecated in favor of reg:squarederror.\n",
            "[CV 1/5; 33/48] END max_depth=15, min_child_weight=1, n_estimators=100, random_state=2020;, score=-0.015 total time=  10.9s\n",
            "[CV 2/5; 33/48] START max_depth=15, min_child_weight=1, n_estimators=100, random_state=2020\n",
            "[16:49:48] WARNING: /workspace/src/objective/regression_obj.cu:152: reg:linear is now deprecated in favor of reg:squarederror.\n",
            "[CV 2/5; 33/48] END max_depth=15, min_child_weight=1, n_estimators=100, random_state=2020;, score=0.003 total time=  10.7s\n",
            "[CV 3/5; 33/48] START max_depth=15, min_child_weight=1, n_estimators=100, random_state=2020\n",
            "[16:49:59] WARNING: /workspace/src/objective/regression_obj.cu:152: reg:linear is now deprecated in favor of reg:squarederror.\n",
            "[CV 3/5; 33/48] END max_depth=15, min_child_weight=1, n_estimators=100, random_state=2020;, score=-0.044 total time=  11.1s\n",
            "[CV 4/5; 33/48] START max_depth=15, min_child_weight=1, n_estimators=100, random_state=2020\n",
            "[16:50:10] WARNING: /workspace/src/objective/regression_obj.cu:152: reg:linear is now deprecated in favor of reg:squarederror.\n",
            "[CV 4/5; 33/48] END max_depth=15, min_child_weight=1, n_estimators=100, random_state=2020;, score=-0.038 total time=  10.9s\n",
            "[CV 5/5; 33/48] START max_depth=15, min_child_weight=1, n_estimators=100, random_state=2020\n",
            "[16:50:21] WARNING: /workspace/src/objective/regression_obj.cu:152: reg:linear is now deprecated in favor of reg:squarederror.\n",
            "[CV 5/5; 33/48] END max_depth=15, min_child_weight=1, n_estimators=100, random_state=2020;, score=-0.041 total time=  10.7s\n",
            "[CV 1/5; 34/48] START max_depth=15, min_child_weight=300, n_estimators=100, random_state=24\n",
            "[16:50:31] WARNING: /workspace/src/objective/regression_obj.cu:152: reg:linear is now deprecated in favor of reg:squarederror.\n",
            "[CV 1/5; 34/48] END max_depth=15, min_child_weight=300, n_estimators=100, random_state=24;, score=0.026 total time=   6.5s\n",
            "[CV 2/5; 34/48] START max_depth=15, min_child_weight=300, n_estimators=100, random_state=24\n",
            "[16:50:38] WARNING: /workspace/src/objective/regression_obj.cu:152: reg:linear is now deprecated in favor of reg:squarederror.\n",
            "[CV 2/5; 34/48] END max_depth=15, min_child_weight=300, n_estimators=100, random_state=24;, score=0.035 total time=   6.5s\n",
            "[CV 3/5; 34/48] START max_depth=15, min_child_weight=300, n_estimators=100, random_state=24\n",
            "[16:50:44] WARNING: /workspace/src/objective/regression_obj.cu:152: reg:linear is now deprecated in favor of reg:squarederror.\n",
            "[CV 3/5; 34/48] END max_depth=15, min_child_weight=300, n_estimators=100, random_state=24;, score=0.030 total time=   6.5s\n",
            "[CV 4/5; 34/48] START max_depth=15, min_child_weight=300, n_estimators=100, random_state=24\n",
            "[16:50:51] WARNING: /workspace/src/objective/regression_obj.cu:152: reg:linear is now deprecated in favor of reg:squarederror.\n",
            "[CV 4/5; 34/48] END max_depth=15, min_child_weight=300, n_estimators=100, random_state=24;, score=0.036 total time=   6.5s\n",
            "[CV 5/5; 34/48] START max_depth=15, min_child_weight=300, n_estimators=100, random_state=24\n",
            "[16:50:57] WARNING: /workspace/src/objective/regression_obj.cu:152: reg:linear is now deprecated in favor of reg:squarederror.\n",
            "[CV 5/5; 34/48] END max_depth=15, min_child_weight=300, n_estimators=100, random_state=24;, score=0.028 total time=   6.5s\n",
            "[CV 1/5; 35/48] START max_depth=15, min_child_weight=300, n_estimators=100, random_state=48\n",
            "[16:51:04] WARNING: /workspace/src/objective/regression_obj.cu:152: reg:linear is now deprecated in favor of reg:squarederror.\n",
            "[CV 1/5; 35/48] END max_depth=15, min_child_weight=300, n_estimators=100, random_state=48;, score=0.026 total time=   6.6s\n",
            "[CV 2/5; 35/48] START max_depth=15, min_child_weight=300, n_estimators=100, random_state=48\n",
            "[16:51:10] WARNING: /workspace/src/objective/regression_obj.cu:152: reg:linear is now deprecated in favor of reg:squarederror.\n",
            "[CV 2/5; 35/48] END max_depth=15, min_child_weight=300, n_estimators=100, random_state=48;, score=0.035 total time=   6.5s\n",
            "[CV 3/5; 35/48] START max_depth=15, min_child_weight=300, n_estimators=100, random_state=48\n",
            "[16:51:17] WARNING: /workspace/src/objective/regression_obj.cu:152: reg:linear is now deprecated in favor of reg:squarederror.\n",
            "[CV 3/5; 35/48] END max_depth=15, min_child_weight=300, n_estimators=100, random_state=48;, score=0.030 total time=   6.6s\n",
            "[CV 4/5; 35/48] START max_depth=15, min_child_weight=300, n_estimators=100, random_state=48\n",
            "[16:51:24] WARNING: /workspace/src/objective/regression_obj.cu:152: reg:linear is now deprecated in favor of reg:squarederror.\n",
            "[CV 4/5; 35/48] END max_depth=15, min_child_weight=300, n_estimators=100, random_state=48;, score=0.036 total time=   6.5s\n",
            "[CV 5/5; 35/48] START max_depth=15, min_child_weight=300, n_estimators=100, random_state=48\n",
            "[16:51:30] WARNING: /workspace/src/objective/regression_obj.cu:152: reg:linear is now deprecated in favor of reg:squarederror.\n",
            "[CV 5/5; 35/48] END max_depth=15, min_child_weight=300, n_estimators=100, random_state=48;, score=0.028 total time=   6.5s\n",
            "[CV 1/5; 36/48] START max_depth=15, min_child_weight=300, n_estimators=100, random_state=2020\n",
            "[16:51:36] WARNING: /workspace/src/objective/regression_obj.cu:152: reg:linear is now deprecated in favor of reg:squarederror.\n",
            "[CV 1/5; 36/48] END max_depth=15, min_child_weight=300, n_estimators=100, random_state=2020;, score=0.026 total time=   6.5s\n",
            "[CV 2/5; 36/48] START max_depth=15, min_child_weight=300, n_estimators=100, random_state=2020\n",
            "[16:51:43] WARNING: /workspace/src/objective/regression_obj.cu:152: reg:linear is now deprecated in favor of reg:squarederror.\n",
            "[CV 2/5; 36/48] END max_depth=15, min_child_weight=300, n_estimators=100, random_state=2020;, score=0.035 total time=   6.4s\n",
            "[CV 3/5; 36/48] START max_depth=15, min_child_weight=300, n_estimators=100, random_state=2020\n",
            "[16:51:49] WARNING: /workspace/src/objective/regression_obj.cu:152: reg:linear is now deprecated in favor of reg:squarederror.\n",
            "[CV 3/5; 36/48] END max_depth=15, min_child_weight=300, n_estimators=100, random_state=2020;, score=0.030 total time=   6.5s\n",
            "[CV 4/5; 36/48] START max_depth=15, min_child_weight=300, n_estimators=100, random_state=2020\n",
            "[16:51:56] WARNING: /workspace/src/objective/regression_obj.cu:152: reg:linear is now deprecated in favor of reg:squarederror.\n",
            "[CV 4/5; 36/48] END max_depth=15, min_child_weight=300, n_estimators=100, random_state=2020;, score=0.036 total time=   6.5s\n",
            "[CV 5/5; 36/48] START max_depth=15, min_child_weight=300, n_estimators=100, random_state=2020\n",
            "[16:52:02] WARNING: /workspace/src/objective/regression_obj.cu:152: reg:linear is now deprecated in favor of reg:squarederror.\n",
            "[CV 5/5; 36/48] END max_depth=15, min_child_weight=300, n_estimators=100, random_state=2020;, score=0.028 total time=   6.6s\n",
            "[CV 1/5; 37/48] START max_depth=17, min_child_weight=1, n_estimators=100, random_state=24\n",
            "[16:52:09] WARNING: /workspace/src/objective/regression_obj.cu:152: reg:linear is now deprecated in favor of reg:squarederror.\n",
            "[CV 1/5; 37/48] END max_depth=17, min_child_weight=1, n_estimators=100, random_state=24;, score=-0.063 total time=  13.2s\n",
            "[CV 2/5; 37/48] START max_depth=17, min_child_weight=1, n_estimators=100, random_state=24\n",
            "[16:52:22] WARNING: /workspace/src/objective/regression_obj.cu:152: reg:linear is now deprecated in favor of reg:squarederror.\n",
            "[CV 2/5; 37/48] END max_depth=17, min_child_weight=1, n_estimators=100, random_state=24;, score=-0.042 total time=  12.9s\n",
            "[CV 3/5; 37/48] START max_depth=17, min_child_weight=1, n_estimators=100, random_state=24\n",
            "[16:52:35] WARNING: /workspace/src/objective/regression_obj.cu:152: reg:linear is now deprecated in favor of reg:squarederror.\n",
            "[CV 3/5; 37/48] END max_depth=17, min_child_weight=1, n_estimators=100, random_state=24;, score=-0.056 total time=  12.9s\n",
            "[CV 4/5; 37/48] START max_depth=17, min_child_weight=1, n_estimators=100, random_state=24\n",
            "[16:52:48] WARNING: /workspace/src/objective/regression_obj.cu:152: reg:linear is now deprecated in favor of reg:squarederror.\n",
            "[CV 4/5; 37/48] END max_depth=17, min_child_weight=1, n_estimators=100, random_state=24;, score=-0.058 total time=  12.9s\n",
            "[CV 5/5; 37/48] START max_depth=17, min_child_weight=1, n_estimators=100, random_state=24\n",
            "[16:53:01] WARNING: /workspace/src/objective/regression_obj.cu:152: reg:linear is now deprecated in favor of reg:squarederror.\n",
            "[CV 5/5; 37/48] END max_depth=17, min_child_weight=1, n_estimators=100, random_state=24;, score=-0.098 total time=  12.9s\n",
            "[CV 1/5; 38/48] START max_depth=17, min_child_weight=1, n_estimators=100, random_state=48\n",
            "[16:53:14] WARNING: /workspace/src/objective/regression_obj.cu:152: reg:linear is now deprecated in favor of reg:squarederror.\n",
            "[CV 1/5; 38/48] END max_depth=17, min_child_weight=1, n_estimators=100, random_state=48;, score=-0.063 total time=  13.1s\n",
            "[CV 2/5; 38/48] START max_depth=17, min_child_weight=1, n_estimators=100, random_state=48\n",
            "[16:53:27] WARNING: /workspace/src/objective/regression_obj.cu:152: reg:linear is now deprecated in favor of reg:squarederror.\n",
            "[CV 2/5; 38/48] END max_depth=17, min_child_weight=1, n_estimators=100, random_state=48;, score=-0.042 total time=  13.0s\n",
            "[CV 3/5; 38/48] START max_depth=17, min_child_weight=1, n_estimators=100, random_state=48\n",
            "[16:53:40] WARNING: /workspace/src/objective/regression_obj.cu:152: reg:linear is now deprecated in favor of reg:squarederror.\n",
            "[CV 3/5; 38/48] END max_depth=17, min_child_weight=1, n_estimators=100, random_state=48;, score=-0.056 total time=  13.0s\n",
            "[CV 4/5; 38/48] START max_depth=17, min_child_weight=1, n_estimators=100, random_state=48\n",
            "[16:53:53] WARNING: /workspace/src/objective/regression_obj.cu:152: reg:linear is now deprecated in favor of reg:squarederror.\n",
            "[CV 4/5; 38/48] END max_depth=17, min_child_weight=1, n_estimators=100, random_state=48;, score=-0.058 total time=  13.0s\n",
            "[CV 5/5; 38/48] START max_depth=17, min_child_weight=1, n_estimators=100, random_state=48\n",
            "[16:54:06] WARNING: /workspace/src/objective/regression_obj.cu:152: reg:linear is now deprecated in favor of reg:squarederror.\n",
            "[CV 5/5; 38/48] END max_depth=17, min_child_weight=1, n_estimators=100, random_state=48;, score=-0.098 total time=  12.8s\n",
            "[CV 1/5; 39/48] START max_depth=17, min_child_weight=1, n_estimators=100, random_state=2020\n",
            "[16:54:19] WARNING: /workspace/src/objective/regression_obj.cu:152: reg:linear is now deprecated in favor of reg:squarederror.\n",
            "[CV 1/5; 39/48] END max_depth=17, min_child_weight=1, n_estimators=100, random_state=2020;, score=-0.063 total time=  13.0s\n",
            "[CV 2/5; 39/48] START max_depth=17, min_child_weight=1, n_estimators=100, random_state=2020\n",
            "[16:54:32] WARNING: /workspace/src/objective/regression_obj.cu:152: reg:linear is now deprecated in favor of reg:squarederror.\n",
            "[CV 2/5; 39/48] END max_depth=17, min_child_weight=1, n_estimators=100, random_state=2020;, score=-0.042 total time=  12.9s\n",
            "[CV 3/5; 39/48] START max_depth=17, min_child_weight=1, n_estimators=100, random_state=2020\n",
            "[16:54:45] WARNING: /workspace/src/objective/regression_obj.cu:152: reg:linear is now deprecated in favor of reg:squarederror.\n",
            "[CV 3/5; 39/48] END max_depth=17, min_child_weight=1, n_estimators=100, random_state=2020;, score=-0.056 total time=  12.9s\n",
            "[CV 4/5; 39/48] START max_depth=17, min_child_weight=1, n_estimators=100, random_state=2020\n",
            "[16:54:58] WARNING: /workspace/src/objective/regression_obj.cu:152: reg:linear is now deprecated in favor of reg:squarederror.\n",
            "[CV 4/5; 39/48] END max_depth=17, min_child_weight=1, n_estimators=100, random_state=2020;, score=-0.058 total time=  13.1s\n",
            "[CV 5/5; 39/48] START max_depth=17, min_child_weight=1, n_estimators=100, random_state=2020\n",
            "[16:55:11] WARNING: /workspace/src/objective/regression_obj.cu:152: reg:linear is now deprecated in favor of reg:squarederror.\n",
            "[CV 5/5; 39/48] END max_depth=17, min_child_weight=1, n_estimators=100, random_state=2020;, score=-0.098 total time=  12.8s\n",
            "[CV 1/5; 40/48] START max_depth=17, min_child_weight=300, n_estimators=100, random_state=24\n",
            "[16:55:24] WARNING: /workspace/src/objective/regression_obj.cu:152: reg:linear is now deprecated in favor of reg:squarederror.\n",
            "[CV 1/5; 40/48] END max_depth=17, min_child_weight=300, n_estimators=100, random_state=24;, score=0.027 total time=   7.0s\n",
            "[CV 2/5; 40/48] START max_depth=17, min_child_weight=300, n_estimators=100, random_state=24\n",
            "[16:55:31] WARNING: /workspace/src/objective/regression_obj.cu:152: reg:linear is now deprecated in favor of reg:squarederror.\n",
            "[CV 2/5; 40/48] END max_depth=17, min_child_weight=300, n_estimators=100, random_state=24;, score=0.035 total time=   7.0s\n",
            "[CV 3/5; 40/48] START max_depth=17, min_child_weight=300, n_estimators=100, random_state=24\n",
            "[16:55:38] WARNING: /workspace/src/objective/regression_obj.cu:152: reg:linear is now deprecated in favor of reg:squarederror.\n",
            "[CV 3/5; 40/48] END max_depth=17, min_child_weight=300, n_estimators=100, random_state=24;, score=0.026 total time=   7.1s\n",
            "[CV 4/5; 40/48] START max_depth=17, min_child_weight=300, n_estimators=100, random_state=24\n",
            "[16:55:45] WARNING: /workspace/src/objective/regression_obj.cu:152: reg:linear is now deprecated in favor of reg:squarederror.\n",
            "[CV 4/5; 40/48] END max_depth=17, min_child_weight=300, n_estimators=100, random_state=24;, score=0.037 total time=   7.0s\n",
            "[CV 5/5; 40/48] START max_depth=17, min_child_weight=300, n_estimators=100, random_state=24\n",
            "[16:55:52] WARNING: /workspace/src/objective/regression_obj.cu:152: reg:linear is now deprecated in favor of reg:squarederror.\n",
            "[CV 5/5; 40/48] END max_depth=17, min_child_weight=300, n_estimators=100, random_state=24;, score=0.028 total time=   7.1s\n",
            "[CV 1/5; 41/48] START max_depth=17, min_child_weight=300, n_estimators=100, random_state=48\n",
            "[16:55:59] WARNING: /workspace/src/objective/regression_obj.cu:152: reg:linear is now deprecated in favor of reg:squarederror.\n",
            "[CV 1/5; 41/48] END max_depth=17, min_child_weight=300, n_estimators=100, random_state=48;, score=0.027 total time=   7.0s\n",
            "[CV 2/5; 41/48] START max_depth=17, min_child_weight=300, n_estimators=100, random_state=48\n",
            "[16:56:06] WARNING: /workspace/src/objective/regression_obj.cu:152: reg:linear is now deprecated in favor of reg:squarederror.\n",
            "[CV 2/5; 41/48] END max_depth=17, min_child_weight=300, n_estimators=100, random_state=48;, score=0.035 total time=   7.1s\n",
            "[CV 3/5; 41/48] START max_depth=17, min_child_weight=300, n_estimators=100, random_state=48\n",
            "[16:56:13] WARNING: /workspace/src/objective/regression_obj.cu:152: reg:linear is now deprecated in favor of reg:squarederror.\n",
            "[CV 3/5; 41/48] END max_depth=17, min_child_weight=300, n_estimators=100, random_state=48;, score=0.026 total time=   7.2s\n",
            "[CV 4/5; 41/48] START max_depth=17, min_child_weight=300, n_estimators=100, random_state=48\n",
            "[16:56:20] WARNING: /workspace/src/objective/regression_obj.cu:152: reg:linear is now deprecated in favor of reg:squarederror.\n",
            "[CV 4/5; 41/48] END max_depth=17, min_child_weight=300, n_estimators=100, random_state=48;, score=0.037 total time=   7.0s\n",
            "[CV 5/5; 41/48] START max_depth=17, min_child_weight=300, n_estimators=100, random_state=48\n",
            "[16:56:27] WARNING: /workspace/src/objective/regression_obj.cu:152: reg:linear is now deprecated in favor of reg:squarederror.\n",
            "[CV 5/5; 41/48] END max_depth=17, min_child_weight=300, n_estimators=100, random_state=48;, score=0.028 total time=   7.0s\n",
            "[CV 1/5; 42/48] START max_depth=17, min_child_weight=300, n_estimators=100, random_state=2020\n",
            "[16:56:34] WARNING: /workspace/src/objective/regression_obj.cu:152: reg:linear is now deprecated in favor of reg:squarederror.\n",
            "[CV 1/5; 42/48] END max_depth=17, min_child_weight=300, n_estimators=100, random_state=2020;, score=0.027 total time=   7.1s\n",
            "[CV 2/5; 42/48] START max_depth=17, min_child_weight=300, n_estimators=100, random_state=2020\n",
            "[16:56:41] WARNING: /workspace/src/objective/regression_obj.cu:152: reg:linear is now deprecated in favor of reg:squarederror.\n",
            "[CV 2/5; 42/48] END max_depth=17, min_child_weight=300, n_estimators=100, random_state=2020;, score=0.035 total time=   7.0s\n",
            "[CV 3/5; 42/48] START max_depth=17, min_child_weight=300, n_estimators=100, random_state=2020\n",
            "[16:56:48] WARNING: /workspace/src/objective/regression_obj.cu:152: reg:linear is now deprecated in favor of reg:squarederror.\n",
            "[CV 3/5; 42/48] END max_depth=17, min_child_weight=300, n_estimators=100, random_state=2020;, score=0.026 total time=   7.1s\n",
            "[CV 4/5; 42/48] START max_depth=17, min_child_weight=300, n_estimators=100, random_state=2020\n",
            "[16:56:55] WARNING: /workspace/src/objective/regression_obj.cu:152: reg:linear is now deprecated in favor of reg:squarederror.\n",
            "[CV 4/5; 42/48] END max_depth=17, min_child_weight=300, n_estimators=100, random_state=2020;, score=0.037 total time=   7.1s\n",
            "[CV 5/5; 42/48] START max_depth=17, min_child_weight=300, n_estimators=100, random_state=2020\n",
            "[16:57:02] WARNING: /workspace/src/objective/regression_obj.cu:152: reg:linear is now deprecated in favor of reg:squarederror.\n",
            "[CV 5/5; 42/48] END max_depth=17, min_child_weight=300, n_estimators=100, random_state=2020;, score=0.028 total time=   7.2s\n",
            "[CV 1/5; 43/48] START max_depth=20, min_child_weight=1, n_estimators=100, random_state=24\n",
            "[16:57:10] WARNING: /workspace/src/objective/regression_obj.cu:152: reg:linear is now deprecated in favor of reg:squarederror.\n",
            "[CV 1/5; 43/48] END max_depth=20, min_child_weight=1, n_estimators=100, random_state=24;, score=-0.090 total time=  16.1s\n",
            "[CV 2/5; 43/48] START max_depth=20, min_child_weight=1, n_estimators=100, random_state=24\n",
            "[16:57:26] WARNING: /workspace/src/objective/regression_obj.cu:152: reg:linear is now deprecated in favor of reg:squarederror.\n",
            "[CV 2/5; 43/48] END max_depth=20, min_child_weight=1, n_estimators=100, random_state=24;, score=-0.086 total time=  16.2s\n",
            "[CV 3/5; 43/48] START max_depth=20, min_child_weight=1, n_estimators=100, random_state=24\n",
            "[16:57:42] WARNING: /workspace/src/objective/regression_obj.cu:152: reg:linear is now deprecated in favor of reg:squarederror.\n",
            "[CV 3/5; 43/48] END max_depth=20, min_child_weight=1, n_estimators=100, random_state=24;, score=-0.103 total time=  16.2s\n",
            "[CV 4/5; 43/48] START max_depth=20, min_child_weight=1, n_estimators=100, random_state=24\n",
            "[16:57:58] WARNING: /workspace/src/objective/regression_obj.cu:152: reg:linear is now deprecated in favor of reg:squarederror.\n",
            "[CV 4/5; 43/48] END max_depth=20, min_child_weight=1, n_estimators=100, random_state=24;, score=-0.123 total time=  16.2s\n",
            "[CV 5/5; 43/48] START max_depth=20, min_child_weight=1, n_estimators=100, random_state=24\n",
            "[16:58:14] WARNING: /workspace/src/objective/regression_obj.cu:152: reg:linear is now deprecated in favor of reg:squarederror.\n",
            "[CV 5/5; 43/48] END max_depth=20, min_child_weight=1, n_estimators=100, random_state=24;, score=-0.152 total time=  17.1s\n",
            "[CV 1/5; 44/48] START max_depth=20, min_child_weight=1, n_estimators=100, random_state=48\n",
            "[16:58:31] WARNING: /workspace/src/objective/regression_obj.cu:152: reg:linear is now deprecated in favor of reg:squarederror.\n",
            "[CV 1/5; 44/48] END max_depth=20, min_child_weight=1, n_estimators=100, random_state=48;, score=-0.090 total time=  17.0s\n",
            "[CV 2/5; 44/48] START max_depth=20, min_child_weight=1, n_estimators=100, random_state=48\n",
            "[16:58:48] WARNING: /workspace/src/objective/regression_obj.cu:152: reg:linear is now deprecated in favor of reg:squarederror.\n",
            "[CV 2/5; 44/48] END max_depth=20, min_child_weight=1, n_estimators=100, random_state=48;, score=-0.086 total time=  17.6s\n",
            "[CV 3/5; 44/48] START max_depth=20, min_child_weight=1, n_estimators=100, random_state=48\n",
            "[16:59:06] WARNING: /workspace/src/objective/regression_obj.cu:152: reg:linear is now deprecated in favor of reg:squarederror.\n",
            "[CV 3/5; 44/48] END max_depth=20, min_child_weight=1, n_estimators=100, random_state=48;, score=-0.103 total time=  17.3s\n",
            "[CV 4/5; 44/48] START max_depth=20, min_child_weight=1, n_estimators=100, random_state=48\n",
            "[16:59:23] WARNING: /workspace/src/objective/regression_obj.cu:152: reg:linear is now deprecated in favor of reg:squarederror.\n",
            "[CV 4/5; 44/48] END max_depth=20, min_child_weight=1, n_estimators=100, random_state=48;, score=-0.123 total time=  15.9s\n",
            "[CV 5/5; 44/48] START max_depth=20, min_child_weight=1, n_estimators=100, random_state=48\n",
            "[16:59:39] WARNING: /workspace/src/objective/regression_obj.cu:152: reg:linear is now deprecated in favor of reg:squarederror.\n",
            "[CV 5/5; 44/48] END max_depth=20, min_child_weight=1, n_estimators=100, random_state=48;, score=-0.152 total time=  16.0s\n",
            "[CV 1/5; 45/48] START max_depth=20, min_child_weight=1, n_estimators=100, random_state=2020\n",
            "[16:59:55] WARNING: /workspace/src/objective/regression_obj.cu:152: reg:linear is now deprecated in favor of reg:squarederror.\n",
            "[CV 1/5; 45/48] END max_depth=20, min_child_weight=1, n_estimators=100, random_state=2020;, score=-0.090 total time=  16.3s\n",
            "[CV 2/5; 45/48] START max_depth=20, min_child_weight=1, n_estimators=100, random_state=2020\n",
            "[17:00:11] WARNING: /workspace/src/objective/regression_obj.cu:152: reg:linear is now deprecated in favor of reg:squarederror.\n",
            "[CV 2/5; 45/48] END max_depth=20, min_child_weight=1, n_estimators=100, random_state=2020;, score=-0.086 total time=  16.2s\n",
            "[CV 3/5; 45/48] START max_depth=20, min_child_weight=1, n_estimators=100, random_state=2020\n",
            "[17:00:28] WARNING: /workspace/src/objective/regression_obj.cu:152: reg:linear is now deprecated in favor of reg:squarederror.\n",
            "[CV 3/5; 45/48] END max_depth=20, min_child_weight=1, n_estimators=100, random_state=2020;, score=-0.103 total time=  16.1s\n",
            "[CV 4/5; 45/48] START max_depth=20, min_child_weight=1, n_estimators=100, random_state=2020\n",
            "[17:00:44] WARNING: /workspace/src/objective/regression_obj.cu:152: reg:linear is now deprecated in favor of reg:squarederror.\n",
            "[CV 4/5; 45/48] END max_depth=20, min_child_weight=1, n_estimators=100, random_state=2020;, score=-0.123 total time=  16.0s\n",
            "[CV 5/5; 45/48] START max_depth=20, min_child_weight=1, n_estimators=100, random_state=2020\n",
            "[17:01:00] WARNING: /workspace/src/objective/regression_obj.cu:152: reg:linear is now deprecated in favor of reg:squarederror.\n",
            "[CV 5/5; 45/48] END max_depth=20, min_child_weight=1, n_estimators=100, random_state=2020;, score=-0.152 total time=  16.2s\n",
            "[CV 1/5; 46/48] START max_depth=20, min_child_weight=300, n_estimators=100, random_state=24\n",
            "[17:01:16] WARNING: /workspace/src/objective/regression_obj.cu:152: reg:linear is now deprecated in favor of reg:squarederror.\n",
            "[CV 1/5; 46/48] END max_depth=20, min_child_weight=300, n_estimators=100, random_state=24;, score=0.025 total time=   7.9s\n",
            "[CV 2/5; 46/48] START max_depth=20, min_child_weight=300, n_estimators=100, random_state=24\n",
            "[17:01:24] WARNING: /workspace/src/objective/regression_obj.cu:152: reg:linear is now deprecated in favor of reg:squarederror.\n",
            "[CV 2/5; 46/48] END max_depth=20, min_child_weight=300, n_estimators=100, random_state=24;, score=0.037 total time=   7.8s\n",
            "[CV 3/5; 46/48] START max_depth=20, min_child_weight=300, n_estimators=100, random_state=24\n",
            "[17:01:32] WARNING: /workspace/src/objective/regression_obj.cu:152: reg:linear is now deprecated in favor of reg:squarederror.\n",
            "[CV 3/5; 46/48] END max_depth=20, min_child_weight=300, n_estimators=100, random_state=24;, score=0.028 total time=   7.9s\n",
            "[CV 4/5; 46/48] START max_depth=20, min_child_weight=300, n_estimators=100, random_state=24\n",
            "[17:01:40] WARNING: /workspace/src/objective/regression_obj.cu:152: reg:linear is now deprecated in favor of reg:squarederror.\n",
            "[CV 4/5; 46/48] END max_depth=20, min_child_weight=300, n_estimators=100, random_state=24;, score=0.037 total time=   7.8s\n",
            "[CV 5/5; 46/48] START max_depth=20, min_child_weight=300, n_estimators=100, random_state=24\n",
            "[17:01:47] WARNING: /workspace/src/objective/regression_obj.cu:152: reg:linear is now deprecated in favor of reg:squarederror.\n",
            "[CV 5/5; 46/48] END max_depth=20, min_child_weight=300, n_estimators=100, random_state=24;, score=0.028 total time=   7.9s\n",
            "[CV 1/5; 47/48] START max_depth=20, min_child_weight=300, n_estimators=100, random_state=48\n",
            "[17:01:55] WARNING: /workspace/src/objective/regression_obj.cu:152: reg:linear is now deprecated in favor of reg:squarederror.\n",
            "[CV 1/5; 47/48] END max_depth=20, min_child_weight=300, n_estimators=100, random_state=48;, score=0.025 total time=   7.8s\n",
            "[CV 2/5; 47/48] START max_depth=20, min_child_weight=300, n_estimators=100, random_state=48\n",
            "[17:02:03] WARNING: /workspace/src/objective/regression_obj.cu:152: reg:linear is now deprecated in favor of reg:squarederror.\n",
            "[CV 2/5; 47/48] END max_depth=20, min_child_weight=300, n_estimators=100, random_state=48;, score=0.037 total time=   7.9s\n",
            "[CV 3/5; 47/48] START max_depth=20, min_child_weight=300, n_estimators=100, random_state=48\n",
            "[17:02:11] WARNING: /workspace/src/objective/regression_obj.cu:152: reg:linear is now deprecated in favor of reg:squarederror.\n",
            "[CV 3/5; 47/48] END max_depth=20, min_child_weight=300, n_estimators=100, random_state=48;, score=0.028 total time=   7.9s\n",
            "[CV 4/5; 47/48] START max_depth=20, min_child_weight=300, n_estimators=100, random_state=48\n",
            "[17:02:19] WARNING: /workspace/src/objective/regression_obj.cu:152: reg:linear is now deprecated in favor of reg:squarederror.\n",
            "[CV 4/5; 47/48] END max_depth=20, min_child_weight=300, n_estimators=100, random_state=48;, score=0.037 total time=   7.8s\n",
            "[CV 5/5; 47/48] START max_depth=20, min_child_weight=300, n_estimators=100, random_state=48\n",
            "[17:02:27] WARNING: /workspace/src/objective/regression_obj.cu:152: reg:linear is now deprecated in favor of reg:squarederror.\n",
            "[CV 5/5; 47/48] END max_depth=20, min_child_weight=300, n_estimators=100, random_state=48;, score=0.028 total time=   7.8s\n",
            "[CV 1/5; 48/48] START max_depth=20, min_child_weight=300, n_estimators=100, random_state=2020\n",
            "[17:02:34] WARNING: /workspace/src/objective/regression_obj.cu:152: reg:linear is now deprecated in favor of reg:squarederror.\n",
            "[CV 1/5; 48/48] END max_depth=20, min_child_weight=300, n_estimators=100, random_state=2020;, score=0.025 total time=   7.9s\n",
            "[CV 2/5; 48/48] START max_depth=20, min_child_weight=300, n_estimators=100, random_state=2020\n",
            "[17:02:42] WARNING: /workspace/src/objective/regression_obj.cu:152: reg:linear is now deprecated in favor of reg:squarederror.\n",
            "[CV 2/5; 48/48] END max_depth=20, min_child_weight=300, n_estimators=100, random_state=2020;, score=0.037 total time=   7.9s\n",
            "[CV 3/5; 48/48] START max_depth=20, min_child_weight=300, n_estimators=100, random_state=2020\n",
            "[17:02:50] WARNING: /workspace/src/objective/regression_obj.cu:152: reg:linear is now deprecated in favor of reg:squarederror.\n",
            "[CV 3/5; 48/48] END max_depth=20, min_child_weight=300, n_estimators=100, random_state=2020;, score=0.028 total time=   7.9s\n",
            "[CV 4/5; 48/48] START max_depth=20, min_child_weight=300, n_estimators=100, random_state=2020\n",
            "[17:02:58] WARNING: /workspace/src/objective/regression_obj.cu:152: reg:linear is now deprecated in favor of reg:squarederror.\n",
            "[CV 4/5; 48/48] END max_depth=20, min_child_weight=300, n_estimators=100, random_state=2020;, score=0.037 total time=   7.9s\n",
            "[CV 5/5; 48/48] START max_depth=20, min_child_weight=300, n_estimators=100, random_state=2020\n",
            "[17:03:06] WARNING: /workspace/src/objective/regression_obj.cu:152: reg:linear is now deprecated in favor of reg:squarederror.\n",
            "[CV 5/5; 48/48] END max_depth=20, min_child_weight=300, n_estimators=100, random_state=2020;, score=0.028 total time=   7.9s\n",
            "[17:03:14] WARNING: /workspace/src/objective/regression_obj.cu:152: reg:linear is now deprecated in favor of reg:squarederror.\n"
          ]
        },
        {
          "output_type": "execute_result",
          "data": {
            "text/plain": [
              "GridSearchCV(cv=5, estimator=XGBRegressor(),\n",
              "             param_grid=[{'max_depth': [5, 7, 9, 11, 13, 15, 17, 20],\n",
              "                          'min_child_weight': [1, 300], 'n_estimators': [100],\n",
              "                          'random_state': [24, 48, 2020]}],\n",
              "             verbose=10)"
            ]
          },
          "metadata": {},
          "execution_count": 60
        }
      ]
    },
    {
      "cell_type": "code",
      "source": [
        "print(gbr_grid_search.best_params_)\n",
        "print(gbr_grid_search.best_score_)\n",
        "print(gbr_grid_search.best_estimator_)"
      ],
      "metadata": {
        "colab": {
          "base_uri": "https://localhost:8080/"
        },
        "id": "qmIpK4NzgMdU",
        "outputId": "a57ed59f-d844-40d2-a6af-ca6d7ae4489a"
      },
      "execution_count": 61,
      "outputs": [
        {
          "output_type": "stream",
          "name": "stdout",
          "text": [
            "{'max_depth': 7, 'min_child_weight': 1, 'n_estimators': 100, 'random_state': 24}\n",
            "0.040665218316743613\n",
            "XGBRegressor(max_depth=7, random_state=24)\n"
          ]
        }
      ]
    },
    {
      "cell_type": "code",
      "source": [
        "#2 модель - ElasticNet\n",
        "from sklearn.linear_model import ElasticNet\n",
        "\n",
        "param2 = {\n",
        "        'alpha' : [0.1, 0.3, 0.5, 1],\n",
        "        'max_iter': [1000],\n",
        "        'random_state': [24, 48,2020],\n",
        "        'tol': [0.0001, 0.001],\n",
        "        'l1_ratio' : [0.001, 0.1, 0.5, 0.6, 1]\n",
        "    }\n",
        "\n",
        "gbr_grid_search = GridSearchCV(ElasticNet(), \n",
        "                               [param2],\n",
        "                               cv=5,\n",
        "                               verbose=10)\n",
        "gbr_grid_search.fit(X_train, y_train)"
      ],
      "metadata": {
        "colab": {
          "base_uri": "https://localhost:8080/"
        },
        "id": "bOt-V5avleyJ",
        "outputId": "3bbeeeec-72ec-432e-ef22-3bb0c7095c69"
      },
      "execution_count": 15,
      "outputs": [
        {
          "output_type": "stream",
          "name": "stdout",
          "text": [
            "Fitting 5 folds for each of 120 candidates, totalling 600 fits\n",
            "[CV 1/5; 1/120] START alpha=0.1, l1_ratio=0.001, max_iter=1000, random_state=24, tol=0.0001\n",
            "[CV 1/5; 1/120] END alpha=0.1, l1_ratio=0.001, max_iter=1000, random_state=24, tol=0.0001;, score=0.011 total time=   0.3s\n",
            "[CV 2/5; 1/120] START alpha=0.1, l1_ratio=0.001, max_iter=1000, random_state=24, tol=0.0001\n",
            "[CV 2/5; 1/120] END alpha=0.1, l1_ratio=0.001, max_iter=1000, random_state=24, tol=0.0001;, score=0.020 total time=   0.2s\n",
            "[CV 3/5; 1/120] START alpha=0.1, l1_ratio=0.001, max_iter=1000, random_state=24, tol=0.0001\n",
            "[CV 3/5; 1/120] END alpha=0.1, l1_ratio=0.001, max_iter=1000, random_state=24, tol=0.0001;, score=0.017 total time=   0.3s\n",
            "[CV 4/5; 1/120] START alpha=0.1, l1_ratio=0.001, max_iter=1000, random_state=24, tol=0.0001\n",
            "[CV 4/5; 1/120] END alpha=0.1, l1_ratio=0.001, max_iter=1000, random_state=24, tol=0.0001;, score=0.022 total time=   0.2s\n",
            "[CV 5/5; 1/120] START alpha=0.1, l1_ratio=0.001, max_iter=1000, random_state=24, tol=0.0001\n",
            "[CV 5/5; 1/120] END alpha=0.1, l1_ratio=0.001, max_iter=1000, random_state=24, tol=0.0001;, score=0.020 total time=   0.3s\n",
            "[CV 1/5; 2/120] START alpha=0.1, l1_ratio=0.001, max_iter=1000, random_state=24, tol=0.001\n",
            "[CV 1/5; 2/120] END alpha=0.1, l1_ratio=0.001, max_iter=1000, random_state=24, tol=0.001;, score=0.011 total time=   0.3s\n",
            "[CV 2/5; 2/120] START alpha=0.1, l1_ratio=0.001, max_iter=1000, random_state=24, tol=0.001\n",
            "[CV 2/5; 2/120] END alpha=0.1, l1_ratio=0.001, max_iter=1000, random_state=24, tol=0.001;, score=0.020 total time=   0.2s\n",
            "[CV 3/5; 2/120] START alpha=0.1, l1_ratio=0.001, max_iter=1000, random_state=24, tol=0.001\n",
            "[CV 3/5; 2/120] END alpha=0.1, l1_ratio=0.001, max_iter=1000, random_state=24, tol=0.001;, score=0.017 total time=   0.3s\n",
            "[CV 4/5; 2/120] START alpha=0.1, l1_ratio=0.001, max_iter=1000, random_state=24, tol=0.001\n",
            "[CV 4/5; 2/120] END alpha=0.1, l1_ratio=0.001, max_iter=1000, random_state=24, tol=0.001;, score=0.022 total time=   0.2s\n",
            "[CV 5/5; 2/120] START alpha=0.1, l1_ratio=0.001, max_iter=1000, random_state=24, tol=0.001\n",
            "[CV 5/5; 2/120] END alpha=0.1, l1_ratio=0.001, max_iter=1000, random_state=24, tol=0.001;, score=0.020 total time=   0.3s\n",
            "[CV 1/5; 3/120] START alpha=0.1, l1_ratio=0.001, max_iter=1000, random_state=48, tol=0.0001\n",
            "[CV 1/5; 3/120] END alpha=0.1, l1_ratio=0.001, max_iter=1000, random_state=48, tol=0.0001;, score=0.011 total time=   0.3s\n",
            "[CV 2/5; 3/120] START alpha=0.1, l1_ratio=0.001, max_iter=1000, random_state=48, tol=0.0001\n",
            "[CV 2/5; 3/120] END alpha=0.1, l1_ratio=0.001, max_iter=1000, random_state=48, tol=0.0001;, score=0.020 total time=   0.2s\n",
            "[CV 3/5; 3/120] START alpha=0.1, l1_ratio=0.001, max_iter=1000, random_state=48, tol=0.0001\n",
            "[CV 3/5; 3/120] END alpha=0.1, l1_ratio=0.001, max_iter=1000, random_state=48, tol=0.0001;, score=0.017 total time=   0.3s\n",
            "[CV 4/5; 3/120] START alpha=0.1, l1_ratio=0.001, max_iter=1000, random_state=48, tol=0.0001\n",
            "[CV 4/5; 3/120] END alpha=0.1, l1_ratio=0.001, max_iter=1000, random_state=48, tol=0.0001;, score=0.022 total time=   0.2s\n",
            "[CV 5/5; 3/120] START alpha=0.1, l1_ratio=0.001, max_iter=1000, random_state=48, tol=0.0001\n",
            "[CV 5/5; 3/120] END alpha=0.1, l1_ratio=0.001, max_iter=1000, random_state=48, tol=0.0001;, score=0.020 total time=   0.3s\n",
            "[CV 1/5; 4/120] START alpha=0.1, l1_ratio=0.001, max_iter=1000, random_state=48, tol=0.001\n",
            "[CV 1/5; 4/120] END alpha=0.1, l1_ratio=0.001, max_iter=1000, random_state=48, tol=0.001;, score=0.011 total time=   0.3s\n",
            "[CV 2/5; 4/120] START alpha=0.1, l1_ratio=0.001, max_iter=1000, random_state=48, tol=0.001\n",
            "[CV 2/5; 4/120] END alpha=0.1, l1_ratio=0.001, max_iter=1000, random_state=48, tol=0.001;, score=0.020 total time=   0.2s\n",
            "[CV 3/5; 4/120] START alpha=0.1, l1_ratio=0.001, max_iter=1000, random_state=48, tol=0.001\n",
            "[CV 3/5; 4/120] END alpha=0.1, l1_ratio=0.001, max_iter=1000, random_state=48, tol=0.001;, score=0.017 total time=   0.3s\n",
            "[CV 4/5; 4/120] START alpha=0.1, l1_ratio=0.001, max_iter=1000, random_state=48, tol=0.001\n",
            "[CV 4/5; 4/120] END alpha=0.1, l1_ratio=0.001, max_iter=1000, random_state=48, tol=0.001;, score=0.022 total time=   0.2s\n",
            "[CV 5/5; 4/120] START alpha=0.1, l1_ratio=0.001, max_iter=1000, random_state=48, tol=0.001\n",
            "[CV 5/5; 4/120] END alpha=0.1, l1_ratio=0.001, max_iter=1000, random_state=48, tol=0.001;, score=0.020 total time=   0.3s\n",
            "[CV 1/5; 5/120] START alpha=0.1, l1_ratio=0.001, max_iter=1000, random_state=2020, tol=0.0001\n",
            "[CV 1/5; 5/120] END alpha=0.1, l1_ratio=0.001, max_iter=1000, random_state=2020, tol=0.0001;, score=0.011 total time=   0.3s\n",
            "[CV 2/5; 5/120] START alpha=0.1, l1_ratio=0.001, max_iter=1000, random_state=2020, tol=0.0001\n",
            "[CV 2/5; 5/120] END alpha=0.1, l1_ratio=0.001, max_iter=1000, random_state=2020, tol=0.0001;, score=0.020 total time=   0.2s\n",
            "[CV 3/5; 5/120] START alpha=0.1, l1_ratio=0.001, max_iter=1000, random_state=2020, tol=0.0001\n",
            "[CV 3/5; 5/120] END alpha=0.1, l1_ratio=0.001, max_iter=1000, random_state=2020, tol=0.0001;, score=0.017 total time=   0.3s\n",
            "[CV 4/5; 5/120] START alpha=0.1, l1_ratio=0.001, max_iter=1000, random_state=2020, tol=0.0001\n",
            "[CV 4/5; 5/120] END alpha=0.1, l1_ratio=0.001, max_iter=1000, random_state=2020, tol=0.0001;, score=0.022 total time=   0.2s\n",
            "[CV 5/5; 5/120] START alpha=0.1, l1_ratio=0.001, max_iter=1000, random_state=2020, tol=0.0001\n",
            "[CV 5/5; 5/120] END alpha=0.1, l1_ratio=0.001, max_iter=1000, random_state=2020, tol=0.0001;, score=0.020 total time=   0.3s\n",
            "[CV 1/5; 6/120] START alpha=0.1, l1_ratio=0.001, max_iter=1000, random_state=2020, tol=0.001\n",
            "[CV 1/5; 6/120] END alpha=0.1, l1_ratio=0.001, max_iter=1000, random_state=2020, tol=0.001;, score=0.011 total time=   0.3s\n",
            "[CV 2/5; 6/120] START alpha=0.1, l1_ratio=0.001, max_iter=1000, random_state=2020, tol=0.001\n",
            "[CV 2/5; 6/120] END alpha=0.1, l1_ratio=0.001, max_iter=1000, random_state=2020, tol=0.001;, score=0.020 total time=   0.2s\n",
            "[CV 3/5; 6/120] START alpha=0.1, l1_ratio=0.001, max_iter=1000, random_state=2020, tol=0.001\n",
            "[CV 3/5; 6/120] END alpha=0.1, l1_ratio=0.001, max_iter=1000, random_state=2020, tol=0.001;, score=0.017 total time=   0.3s\n",
            "[CV 4/5; 6/120] START alpha=0.1, l1_ratio=0.001, max_iter=1000, random_state=2020, tol=0.001\n",
            "[CV 4/5; 6/120] END alpha=0.1, l1_ratio=0.001, max_iter=1000, random_state=2020, tol=0.001;, score=0.022 total time=   0.2s\n",
            "[CV 5/5; 6/120] START alpha=0.1, l1_ratio=0.001, max_iter=1000, random_state=2020, tol=0.001\n",
            "[CV 5/5; 6/120] END alpha=0.1, l1_ratio=0.001, max_iter=1000, random_state=2020, tol=0.001;, score=0.020 total time=   0.3s\n",
            "[CV 1/5; 7/120] START alpha=0.1, l1_ratio=0.1, max_iter=1000, random_state=24, tol=0.0001\n",
            "[CV 1/5; 7/120] END alpha=0.1, l1_ratio=0.1, max_iter=1000, random_state=24, tol=0.0001;, score=0.011 total time=   0.2s\n",
            "[CV 2/5; 7/120] START alpha=0.1, l1_ratio=0.1, max_iter=1000, random_state=24, tol=0.0001\n",
            "[CV 2/5; 7/120] END alpha=0.1, l1_ratio=0.1, max_iter=1000, random_state=24, tol=0.0001;, score=0.020 total time=   0.2s\n",
            "[CV 3/5; 7/120] START alpha=0.1, l1_ratio=0.1, max_iter=1000, random_state=24, tol=0.0001\n",
            "[CV 3/5; 7/120] END alpha=0.1, l1_ratio=0.1, max_iter=1000, random_state=24, tol=0.0001;, score=0.017 total time=   0.2s\n",
            "[CV 4/5; 7/120] START alpha=0.1, l1_ratio=0.1, max_iter=1000, random_state=24, tol=0.0001\n",
            "[CV 4/5; 7/120] END alpha=0.1, l1_ratio=0.1, max_iter=1000, random_state=24, tol=0.0001;, score=0.022 total time=   0.2s\n",
            "[CV 5/5; 7/120] START alpha=0.1, l1_ratio=0.1, max_iter=1000, random_state=24, tol=0.0001\n",
            "[CV 5/5; 7/120] END alpha=0.1, l1_ratio=0.1, max_iter=1000, random_state=24, tol=0.0001;, score=0.020 total time=   0.2s\n",
            "[CV 1/5; 8/120] START alpha=0.1, l1_ratio=0.1, max_iter=1000, random_state=24, tol=0.001\n",
            "[CV 1/5; 8/120] END alpha=0.1, l1_ratio=0.1, max_iter=1000, random_state=24, tol=0.001;, score=0.011 total time=   0.2s\n",
            "[CV 2/5; 8/120] START alpha=0.1, l1_ratio=0.1, max_iter=1000, random_state=24, tol=0.001\n",
            "[CV 2/5; 8/120] END alpha=0.1, l1_ratio=0.1, max_iter=1000, random_state=24, tol=0.001;, score=0.020 total time=   0.2s\n",
            "[CV 3/5; 8/120] START alpha=0.1, l1_ratio=0.1, max_iter=1000, random_state=24, tol=0.001\n",
            "[CV 3/5; 8/120] END alpha=0.1, l1_ratio=0.1, max_iter=1000, random_state=24, tol=0.001;, score=0.017 total time=   0.2s\n",
            "[CV 4/5; 8/120] START alpha=0.1, l1_ratio=0.1, max_iter=1000, random_state=24, tol=0.001\n",
            "[CV 4/5; 8/120] END alpha=0.1, l1_ratio=0.1, max_iter=1000, random_state=24, tol=0.001;, score=0.022 total time=   0.2s\n",
            "[CV 5/5; 8/120] START alpha=0.1, l1_ratio=0.1, max_iter=1000, random_state=24, tol=0.001\n",
            "[CV 5/5; 8/120] END alpha=0.1, l1_ratio=0.1, max_iter=1000, random_state=24, tol=0.001;, score=0.020 total time=   0.2s\n",
            "[CV 1/5; 9/120] START alpha=0.1, l1_ratio=0.1, max_iter=1000, random_state=48, tol=0.0001\n",
            "[CV 1/5; 9/120] END alpha=0.1, l1_ratio=0.1, max_iter=1000, random_state=48, tol=0.0001;, score=0.011 total time=   0.2s\n",
            "[CV 2/5; 9/120] START alpha=0.1, l1_ratio=0.1, max_iter=1000, random_state=48, tol=0.0001\n",
            "[CV 2/5; 9/120] END alpha=0.1, l1_ratio=0.1, max_iter=1000, random_state=48, tol=0.0001;, score=0.020 total time=   0.2s\n",
            "[CV 3/5; 9/120] START alpha=0.1, l1_ratio=0.1, max_iter=1000, random_state=48, tol=0.0001\n",
            "[CV 3/5; 9/120] END alpha=0.1, l1_ratio=0.1, max_iter=1000, random_state=48, tol=0.0001;, score=0.017 total time=   0.2s\n",
            "[CV 4/5; 9/120] START alpha=0.1, l1_ratio=0.1, max_iter=1000, random_state=48, tol=0.0001\n",
            "[CV 4/5; 9/120] END alpha=0.1, l1_ratio=0.1, max_iter=1000, random_state=48, tol=0.0001;, score=0.022 total time=   0.2s\n",
            "[CV 5/5; 9/120] START alpha=0.1, l1_ratio=0.1, max_iter=1000, random_state=48, tol=0.0001\n",
            "[CV 5/5; 9/120] END alpha=0.1, l1_ratio=0.1, max_iter=1000, random_state=48, tol=0.0001;, score=0.020 total time=   0.2s\n",
            "[CV 1/5; 10/120] START alpha=0.1, l1_ratio=0.1, max_iter=1000, random_state=48, tol=0.001\n",
            "[CV 1/5; 10/120] END alpha=0.1, l1_ratio=0.1, max_iter=1000, random_state=48, tol=0.001;, score=0.011 total time=   0.2s\n",
            "[CV 2/5; 10/120] START alpha=0.1, l1_ratio=0.1, max_iter=1000, random_state=48, tol=0.001\n",
            "[CV 2/5; 10/120] END alpha=0.1, l1_ratio=0.1, max_iter=1000, random_state=48, tol=0.001;, score=0.020 total time=   0.2s\n",
            "[CV 3/5; 10/120] START alpha=0.1, l1_ratio=0.1, max_iter=1000, random_state=48, tol=0.001\n",
            "[CV 3/5; 10/120] END alpha=0.1, l1_ratio=0.1, max_iter=1000, random_state=48, tol=0.001;, score=0.017 total time=   0.2s\n",
            "[CV 4/5; 10/120] START alpha=0.1, l1_ratio=0.1, max_iter=1000, random_state=48, tol=0.001\n",
            "[CV 4/5; 10/120] END alpha=0.1, l1_ratio=0.1, max_iter=1000, random_state=48, tol=0.001;, score=0.022 total time=   0.2s\n",
            "[CV 5/5; 10/120] START alpha=0.1, l1_ratio=0.1, max_iter=1000, random_state=48, tol=0.001\n",
            "[CV 5/5; 10/120] END alpha=0.1, l1_ratio=0.1, max_iter=1000, random_state=48, tol=0.001;, score=0.020 total time=   0.2s\n",
            "[CV 1/5; 11/120] START alpha=0.1, l1_ratio=0.1, max_iter=1000, random_state=2020, tol=0.0001\n",
            "[CV 1/5; 11/120] END alpha=0.1, l1_ratio=0.1, max_iter=1000, random_state=2020, tol=0.0001;, score=0.011 total time=   0.2s\n",
            "[CV 2/5; 11/120] START alpha=0.1, l1_ratio=0.1, max_iter=1000, random_state=2020, tol=0.0001\n",
            "[CV 2/5; 11/120] END alpha=0.1, l1_ratio=0.1, max_iter=1000, random_state=2020, tol=0.0001;, score=0.020 total time=   0.2s\n",
            "[CV 3/5; 11/120] START alpha=0.1, l1_ratio=0.1, max_iter=1000, random_state=2020, tol=0.0001\n",
            "[CV 3/5; 11/120] END alpha=0.1, l1_ratio=0.1, max_iter=1000, random_state=2020, tol=0.0001;, score=0.017 total time=   0.2s\n",
            "[CV 4/5; 11/120] START alpha=0.1, l1_ratio=0.1, max_iter=1000, random_state=2020, tol=0.0001\n",
            "[CV 4/5; 11/120] END alpha=0.1, l1_ratio=0.1, max_iter=1000, random_state=2020, tol=0.0001;, score=0.022 total time=   0.2s\n",
            "[CV 5/5; 11/120] START alpha=0.1, l1_ratio=0.1, max_iter=1000, random_state=2020, tol=0.0001\n",
            "[CV 5/5; 11/120] END alpha=0.1, l1_ratio=0.1, max_iter=1000, random_state=2020, tol=0.0001;, score=0.020 total time=   0.2s\n",
            "[CV 1/5; 12/120] START alpha=0.1, l1_ratio=0.1, max_iter=1000, random_state=2020, tol=0.001\n",
            "[CV 1/5; 12/120] END alpha=0.1, l1_ratio=0.1, max_iter=1000, random_state=2020, tol=0.001;, score=0.011 total time=   0.2s\n",
            "[CV 2/5; 12/120] START alpha=0.1, l1_ratio=0.1, max_iter=1000, random_state=2020, tol=0.001\n",
            "[CV 2/5; 12/120] END alpha=0.1, l1_ratio=0.1, max_iter=1000, random_state=2020, tol=0.001;, score=0.020 total time=   0.2s\n",
            "[CV 3/5; 12/120] START alpha=0.1, l1_ratio=0.1, max_iter=1000, random_state=2020, tol=0.001\n",
            "[CV 3/5; 12/120] END alpha=0.1, l1_ratio=0.1, max_iter=1000, random_state=2020, tol=0.001;, score=0.017 total time=   0.2s\n",
            "[CV 4/5; 12/120] START alpha=0.1, l1_ratio=0.1, max_iter=1000, random_state=2020, tol=0.001\n",
            "[CV 4/5; 12/120] END alpha=0.1, l1_ratio=0.1, max_iter=1000, random_state=2020, tol=0.001;, score=0.022 total time=   0.2s\n",
            "[CV 5/5; 12/120] START alpha=0.1, l1_ratio=0.1, max_iter=1000, random_state=2020, tol=0.001\n",
            "[CV 5/5; 12/120] END alpha=0.1, l1_ratio=0.1, max_iter=1000, random_state=2020, tol=0.001;, score=0.020 total time=   0.2s\n",
            "[CV 1/5; 13/120] START alpha=0.1, l1_ratio=0.5, max_iter=1000, random_state=24, tol=0.0001\n",
            "[CV 1/5; 13/120] END alpha=0.1, l1_ratio=0.5, max_iter=1000, random_state=24, tol=0.0001;, score=0.011 total time=   0.2s\n",
            "[CV 2/5; 13/120] START alpha=0.1, l1_ratio=0.5, max_iter=1000, random_state=24, tol=0.0001\n",
            "[CV 2/5; 13/120] END alpha=0.1, l1_ratio=0.5, max_iter=1000, random_state=24, tol=0.0001;, score=0.019 total time=   0.2s\n",
            "[CV 3/5; 13/120] START alpha=0.1, l1_ratio=0.5, max_iter=1000, random_state=24, tol=0.0001\n",
            "[CV 3/5; 13/120] END alpha=0.1, l1_ratio=0.5, max_iter=1000, random_state=24, tol=0.0001;, score=0.017 total time=   0.2s\n",
            "[CV 4/5; 13/120] START alpha=0.1, l1_ratio=0.5, max_iter=1000, random_state=24, tol=0.0001\n",
            "[CV 4/5; 13/120] END alpha=0.1, l1_ratio=0.5, max_iter=1000, random_state=24, tol=0.0001;, score=0.022 total time=   0.2s\n",
            "[CV 5/5; 13/120] START alpha=0.1, l1_ratio=0.5, max_iter=1000, random_state=24, tol=0.0001\n",
            "[CV 5/5; 13/120] END alpha=0.1, l1_ratio=0.5, max_iter=1000, random_state=24, tol=0.0001;, score=0.018 total time=   0.2s\n",
            "[CV 1/5; 14/120] START alpha=0.1, l1_ratio=0.5, max_iter=1000, random_state=24, tol=0.001\n",
            "[CV 1/5; 14/120] END alpha=0.1, l1_ratio=0.5, max_iter=1000, random_state=24, tol=0.001;, score=0.011 total time=   0.2s\n",
            "[CV 2/5; 14/120] START alpha=0.1, l1_ratio=0.5, max_iter=1000, random_state=24, tol=0.001\n",
            "[CV 2/5; 14/120] END alpha=0.1, l1_ratio=0.5, max_iter=1000, random_state=24, tol=0.001;, score=0.019 total time=   0.2s\n",
            "[CV 3/5; 14/120] START alpha=0.1, l1_ratio=0.5, max_iter=1000, random_state=24, tol=0.001\n",
            "[CV 3/5; 14/120] END alpha=0.1, l1_ratio=0.5, max_iter=1000, random_state=24, tol=0.001;, score=0.017 total time=   0.2s\n",
            "[CV 4/5; 14/120] START alpha=0.1, l1_ratio=0.5, max_iter=1000, random_state=24, tol=0.001\n",
            "[CV 4/5; 14/120] END alpha=0.1, l1_ratio=0.5, max_iter=1000, random_state=24, tol=0.001;, score=0.022 total time=   0.2s\n",
            "[CV 5/5; 14/120] START alpha=0.1, l1_ratio=0.5, max_iter=1000, random_state=24, tol=0.001\n",
            "[CV 5/5; 14/120] END alpha=0.1, l1_ratio=0.5, max_iter=1000, random_state=24, tol=0.001;, score=0.018 total time=   0.2s\n",
            "[CV 1/5; 15/120] START alpha=0.1, l1_ratio=0.5, max_iter=1000, random_state=48, tol=0.0001\n",
            "[CV 1/5; 15/120] END alpha=0.1, l1_ratio=0.5, max_iter=1000, random_state=48, tol=0.0001;, score=0.011 total time=   0.2s\n",
            "[CV 2/5; 15/120] START alpha=0.1, l1_ratio=0.5, max_iter=1000, random_state=48, tol=0.0001\n",
            "[CV 2/5; 15/120] END alpha=0.1, l1_ratio=0.5, max_iter=1000, random_state=48, tol=0.0001;, score=0.019 total time=   0.2s\n",
            "[CV 3/5; 15/120] START alpha=0.1, l1_ratio=0.5, max_iter=1000, random_state=48, tol=0.0001\n",
            "[CV 3/5; 15/120] END alpha=0.1, l1_ratio=0.5, max_iter=1000, random_state=48, tol=0.0001;, score=0.017 total time=   0.2s\n",
            "[CV 4/5; 15/120] START alpha=0.1, l1_ratio=0.5, max_iter=1000, random_state=48, tol=0.0001\n",
            "[CV 4/5; 15/120] END alpha=0.1, l1_ratio=0.5, max_iter=1000, random_state=48, tol=0.0001;, score=0.022 total time=   0.2s\n",
            "[CV 5/5; 15/120] START alpha=0.1, l1_ratio=0.5, max_iter=1000, random_state=48, tol=0.0001\n",
            "[CV 5/5; 15/120] END alpha=0.1, l1_ratio=0.5, max_iter=1000, random_state=48, tol=0.0001;, score=0.018 total time=   0.2s\n",
            "[CV 1/5; 16/120] START alpha=0.1, l1_ratio=0.5, max_iter=1000, random_state=48, tol=0.001\n",
            "[CV 1/5; 16/120] END alpha=0.1, l1_ratio=0.5, max_iter=1000, random_state=48, tol=0.001;, score=0.011 total time=   0.2s\n",
            "[CV 2/5; 16/120] START alpha=0.1, l1_ratio=0.5, max_iter=1000, random_state=48, tol=0.001\n",
            "[CV 2/5; 16/120] END alpha=0.1, l1_ratio=0.5, max_iter=1000, random_state=48, tol=0.001;, score=0.019 total time=   0.1s\n",
            "[CV 3/5; 16/120] START alpha=0.1, l1_ratio=0.5, max_iter=1000, random_state=48, tol=0.001\n",
            "[CV 3/5; 16/120] END alpha=0.1, l1_ratio=0.5, max_iter=1000, random_state=48, tol=0.001;, score=0.017 total time=   0.2s\n",
            "[CV 4/5; 16/120] START alpha=0.1, l1_ratio=0.5, max_iter=1000, random_state=48, tol=0.001\n",
            "[CV 4/5; 16/120] END alpha=0.1, l1_ratio=0.5, max_iter=1000, random_state=48, tol=0.001;, score=0.022 total time=   0.1s\n",
            "[CV 5/5; 16/120] START alpha=0.1, l1_ratio=0.5, max_iter=1000, random_state=48, tol=0.001\n",
            "[CV 5/5; 16/120] END alpha=0.1, l1_ratio=0.5, max_iter=1000, random_state=48, tol=0.001;, score=0.018 total time=   0.2s\n",
            "[CV 1/5; 17/120] START alpha=0.1, l1_ratio=0.5, max_iter=1000, random_state=2020, tol=0.0001\n",
            "[CV 1/5; 17/120] END alpha=0.1, l1_ratio=0.5, max_iter=1000, random_state=2020, tol=0.0001;, score=0.011 total time=   0.2s\n",
            "[CV 2/5; 17/120] START alpha=0.1, l1_ratio=0.5, max_iter=1000, random_state=2020, tol=0.0001\n",
            "[CV 2/5; 17/120] END alpha=0.1, l1_ratio=0.5, max_iter=1000, random_state=2020, tol=0.0001;, score=0.019 total time=   0.2s\n",
            "[CV 3/5; 17/120] START alpha=0.1, l1_ratio=0.5, max_iter=1000, random_state=2020, tol=0.0001\n",
            "[CV 3/5; 17/120] END alpha=0.1, l1_ratio=0.5, max_iter=1000, random_state=2020, tol=0.0001;, score=0.017 total time=   0.2s\n",
            "[CV 4/5; 17/120] START alpha=0.1, l1_ratio=0.5, max_iter=1000, random_state=2020, tol=0.0001\n",
            "[CV 4/5; 17/120] END alpha=0.1, l1_ratio=0.5, max_iter=1000, random_state=2020, tol=0.0001;, score=0.022 total time=   0.2s\n",
            "[CV 5/5; 17/120] START alpha=0.1, l1_ratio=0.5, max_iter=1000, random_state=2020, tol=0.0001\n",
            "[CV 5/5; 17/120] END alpha=0.1, l1_ratio=0.5, max_iter=1000, random_state=2020, tol=0.0001;, score=0.018 total time=   0.2s\n",
            "[CV 1/5; 18/120] START alpha=0.1, l1_ratio=0.5, max_iter=1000, random_state=2020, tol=0.001\n",
            "[CV 1/5; 18/120] END alpha=0.1, l1_ratio=0.5, max_iter=1000, random_state=2020, tol=0.001;, score=0.011 total time=   0.2s\n",
            "[CV 2/5; 18/120] START alpha=0.1, l1_ratio=0.5, max_iter=1000, random_state=2020, tol=0.001\n",
            "[CV 2/5; 18/120] END alpha=0.1, l1_ratio=0.5, max_iter=1000, random_state=2020, tol=0.001;, score=0.019 total time=   0.1s\n",
            "[CV 3/5; 18/120] START alpha=0.1, l1_ratio=0.5, max_iter=1000, random_state=2020, tol=0.001\n",
            "[CV 3/5; 18/120] END alpha=0.1, l1_ratio=0.5, max_iter=1000, random_state=2020, tol=0.001;, score=0.017 total time=   0.2s\n",
            "[CV 4/5; 18/120] START alpha=0.1, l1_ratio=0.5, max_iter=1000, random_state=2020, tol=0.001\n",
            "[CV 4/5; 18/120] END alpha=0.1, l1_ratio=0.5, max_iter=1000, random_state=2020, tol=0.001;, score=0.022 total time=   0.2s\n",
            "[CV 5/5; 18/120] START alpha=0.1, l1_ratio=0.5, max_iter=1000, random_state=2020, tol=0.001\n",
            "[CV 5/5; 18/120] END alpha=0.1, l1_ratio=0.5, max_iter=1000, random_state=2020, tol=0.001;, score=0.018 total time=   0.2s\n",
            "[CV 1/5; 19/120] START alpha=0.1, l1_ratio=0.6, max_iter=1000, random_state=24, tol=0.0001\n",
            "[CV 1/5; 19/120] END alpha=0.1, l1_ratio=0.6, max_iter=1000, random_state=24, tol=0.0001;, score=0.011 total time=   0.2s\n",
            "[CV 2/5; 19/120] START alpha=0.1, l1_ratio=0.6, max_iter=1000, random_state=24, tol=0.0001\n",
            "[CV 2/5; 19/120] END alpha=0.1, l1_ratio=0.6, max_iter=1000, random_state=24, tol=0.0001;, score=0.019 total time=   0.2s\n",
            "[CV 3/5; 19/120] START alpha=0.1, l1_ratio=0.6, max_iter=1000, random_state=24, tol=0.0001\n",
            "[CV 3/5; 19/120] END alpha=0.1, l1_ratio=0.6, max_iter=1000, random_state=24, tol=0.0001;, score=0.017 total time=   0.2s\n",
            "[CV 4/5; 19/120] START alpha=0.1, l1_ratio=0.6, max_iter=1000, random_state=24, tol=0.0001\n",
            "[CV 4/5; 19/120] END alpha=0.1, l1_ratio=0.6, max_iter=1000, random_state=24, tol=0.0001;, score=0.021 total time=   0.2s\n",
            "[CV 5/5; 19/120] START alpha=0.1, l1_ratio=0.6, max_iter=1000, random_state=24, tol=0.0001\n",
            "[CV 5/5; 19/120] END alpha=0.1, l1_ratio=0.6, max_iter=1000, random_state=24, tol=0.0001;, score=0.018 total time=   0.2s\n",
            "[CV 1/5; 20/120] START alpha=0.1, l1_ratio=0.6, max_iter=1000, random_state=24, tol=0.001\n",
            "[CV 1/5; 20/120] END alpha=0.1, l1_ratio=0.6, max_iter=1000, random_state=24, tol=0.001;, score=0.011 total time=   0.2s\n",
            "[CV 2/5; 20/120] START alpha=0.1, l1_ratio=0.6, max_iter=1000, random_state=24, tol=0.001\n",
            "[CV 2/5; 20/120] END alpha=0.1, l1_ratio=0.6, max_iter=1000, random_state=24, tol=0.001;, score=0.019 total time=   0.1s\n",
            "[CV 3/5; 20/120] START alpha=0.1, l1_ratio=0.6, max_iter=1000, random_state=24, tol=0.001\n",
            "[CV 3/5; 20/120] END alpha=0.1, l1_ratio=0.6, max_iter=1000, random_state=24, tol=0.001;, score=0.017 total time=   0.2s\n",
            "[CV 4/5; 20/120] START alpha=0.1, l1_ratio=0.6, max_iter=1000, random_state=24, tol=0.001\n",
            "[CV 4/5; 20/120] END alpha=0.1, l1_ratio=0.6, max_iter=1000, random_state=24, tol=0.001;, score=0.021 total time=   0.1s\n",
            "[CV 5/5; 20/120] START alpha=0.1, l1_ratio=0.6, max_iter=1000, random_state=24, tol=0.001\n",
            "[CV 5/5; 20/120] END alpha=0.1, l1_ratio=0.6, max_iter=1000, random_state=24, tol=0.001;, score=0.018 total time=   0.2s\n",
            "[CV 1/5; 21/120] START alpha=0.1, l1_ratio=0.6, max_iter=1000, random_state=48, tol=0.0001\n",
            "[CV 1/5; 21/120] END alpha=0.1, l1_ratio=0.6, max_iter=1000, random_state=48, tol=0.0001;, score=0.011 total time=   0.2s\n",
            "[CV 2/5; 21/120] START alpha=0.1, l1_ratio=0.6, max_iter=1000, random_state=48, tol=0.0001\n",
            "[CV 2/5; 21/120] END alpha=0.1, l1_ratio=0.6, max_iter=1000, random_state=48, tol=0.0001;, score=0.019 total time=   0.2s\n",
            "[CV 3/5; 21/120] START alpha=0.1, l1_ratio=0.6, max_iter=1000, random_state=48, tol=0.0001\n",
            "[CV 3/5; 21/120] END alpha=0.1, l1_ratio=0.6, max_iter=1000, random_state=48, tol=0.0001;, score=0.017 total time=   0.2s\n",
            "[CV 4/5; 21/120] START alpha=0.1, l1_ratio=0.6, max_iter=1000, random_state=48, tol=0.0001\n",
            "[CV 4/5; 21/120] END alpha=0.1, l1_ratio=0.6, max_iter=1000, random_state=48, tol=0.0001;, score=0.021 total time=   0.1s\n",
            "[CV 5/5; 21/120] START alpha=0.1, l1_ratio=0.6, max_iter=1000, random_state=48, tol=0.0001\n",
            "[CV 5/5; 21/120] END alpha=0.1, l1_ratio=0.6, max_iter=1000, random_state=48, tol=0.0001;, score=0.018 total time=   0.2s\n",
            "[CV 1/5; 22/120] START alpha=0.1, l1_ratio=0.6, max_iter=1000, random_state=48, tol=0.001\n",
            "[CV 1/5; 22/120] END alpha=0.1, l1_ratio=0.6, max_iter=1000, random_state=48, tol=0.001;, score=0.011 total time=   0.2s\n",
            "[CV 2/5; 22/120] START alpha=0.1, l1_ratio=0.6, max_iter=1000, random_state=48, tol=0.001\n",
            "[CV 2/5; 22/120] END alpha=0.1, l1_ratio=0.6, max_iter=1000, random_state=48, tol=0.001;, score=0.019 total time=   0.1s\n",
            "[CV 3/5; 22/120] START alpha=0.1, l1_ratio=0.6, max_iter=1000, random_state=48, tol=0.001\n",
            "[CV 3/5; 22/120] END alpha=0.1, l1_ratio=0.6, max_iter=1000, random_state=48, tol=0.001;, score=0.017 total time=   0.2s\n",
            "[CV 4/5; 22/120] START alpha=0.1, l1_ratio=0.6, max_iter=1000, random_state=48, tol=0.001\n",
            "[CV 4/5; 22/120] END alpha=0.1, l1_ratio=0.6, max_iter=1000, random_state=48, tol=0.001;, score=0.021 total time=   0.2s\n",
            "[CV 5/5; 22/120] START alpha=0.1, l1_ratio=0.6, max_iter=1000, random_state=48, tol=0.001\n",
            "[CV 5/5; 22/120] END alpha=0.1, l1_ratio=0.6, max_iter=1000, random_state=48, tol=0.001;, score=0.018 total time=   0.2s\n",
            "[CV 1/5; 23/120] START alpha=0.1, l1_ratio=0.6, max_iter=1000, random_state=2020, tol=0.0001\n",
            "[CV 1/5; 23/120] END alpha=0.1, l1_ratio=0.6, max_iter=1000, random_state=2020, tol=0.0001;, score=0.011 total time=   0.2s\n",
            "[CV 2/5; 23/120] START alpha=0.1, l1_ratio=0.6, max_iter=1000, random_state=2020, tol=0.0001\n",
            "[CV 2/5; 23/120] END alpha=0.1, l1_ratio=0.6, max_iter=1000, random_state=2020, tol=0.0001;, score=0.019 total time=   0.1s\n",
            "[CV 3/5; 23/120] START alpha=0.1, l1_ratio=0.6, max_iter=1000, random_state=2020, tol=0.0001\n",
            "[CV 3/5; 23/120] END alpha=0.1, l1_ratio=0.6, max_iter=1000, random_state=2020, tol=0.0001;, score=0.017 total time=   0.2s\n",
            "[CV 4/5; 23/120] START alpha=0.1, l1_ratio=0.6, max_iter=1000, random_state=2020, tol=0.0001\n",
            "[CV 4/5; 23/120] END alpha=0.1, l1_ratio=0.6, max_iter=1000, random_state=2020, tol=0.0001;, score=0.021 total time=   0.2s\n",
            "[CV 5/5; 23/120] START alpha=0.1, l1_ratio=0.6, max_iter=1000, random_state=2020, tol=0.0001\n",
            "[CV 5/5; 23/120] END alpha=0.1, l1_ratio=0.6, max_iter=1000, random_state=2020, tol=0.0001;, score=0.018 total time=   0.2s\n",
            "[CV 1/5; 24/120] START alpha=0.1, l1_ratio=0.6, max_iter=1000, random_state=2020, tol=0.001\n",
            "[CV 1/5; 24/120] END alpha=0.1, l1_ratio=0.6, max_iter=1000, random_state=2020, tol=0.001;, score=0.011 total time=   0.2s\n",
            "[CV 2/5; 24/120] START alpha=0.1, l1_ratio=0.6, max_iter=1000, random_state=2020, tol=0.001\n",
            "[CV 2/5; 24/120] END alpha=0.1, l1_ratio=0.6, max_iter=1000, random_state=2020, tol=0.001;, score=0.019 total time=   0.2s\n",
            "[CV 3/5; 24/120] START alpha=0.1, l1_ratio=0.6, max_iter=1000, random_state=2020, tol=0.001\n",
            "[CV 3/5; 24/120] END alpha=0.1, l1_ratio=0.6, max_iter=1000, random_state=2020, tol=0.001;, score=0.017 total time=   0.2s\n",
            "[CV 4/5; 24/120] START alpha=0.1, l1_ratio=0.6, max_iter=1000, random_state=2020, tol=0.001\n",
            "[CV 4/5; 24/120] END alpha=0.1, l1_ratio=0.6, max_iter=1000, random_state=2020, tol=0.001;, score=0.021 total time=   0.2s\n",
            "[CV 5/5; 24/120] START alpha=0.1, l1_ratio=0.6, max_iter=1000, random_state=2020, tol=0.001\n",
            "[CV 5/5; 24/120] END alpha=0.1, l1_ratio=0.6, max_iter=1000, random_state=2020, tol=0.001;, score=0.018 total time=   0.2s\n",
            "[CV 1/5; 25/120] START alpha=0.1, l1_ratio=1, max_iter=1000, random_state=24, tol=0.0001\n",
            "[CV 1/5; 25/120] END alpha=0.1, l1_ratio=1, max_iter=1000, random_state=24, tol=0.0001;, score=0.011 total time=   0.2s\n",
            "[CV 2/5; 25/120] START alpha=0.1, l1_ratio=1, max_iter=1000, random_state=24, tol=0.0001\n",
            "[CV 2/5; 25/120] END alpha=0.1, l1_ratio=1, max_iter=1000, random_state=24, tol=0.0001;, score=0.018 total time=   0.1s\n",
            "[CV 3/5; 25/120] START alpha=0.1, l1_ratio=1, max_iter=1000, random_state=24, tol=0.0001\n",
            "[CV 3/5; 25/120] END alpha=0.1, l1_ratio=1, max_iter=1000, random_state=24, tol=0.0001;, score=0.017 total time=   0.2s\n",
            "[CV 4/5; 25/120] START alpha=0.1, l1_ratio=1, max_iter=1000, random_state=24, tol=0.0001\n",
            "[CV 4/5; 25/120] END alpha=0.1, l1_ratio=1, max_iter=1000, random_state=24, tol=0.0001;, score=0.021 total time=   0.2s\n",
            "[CV 5/5; 25/120] START alpha=0.1, l1_ratio=1, max_iter=1000, random_state=24, tol=0.0001\n",
            "[CV 5/5; 25/120] END alpha=0.1, l1_ratio=1, max_iter=1000, random_state=24, tol=0.0001;, score=0.017 total time=   0.2s\n",
            "[CV 1/5; 26/120] START alpha=0.1, l1_ratio=1, max_iter=1000, random_state=24, tol=0.001\n",
            "[CV 1/5; 26/120] END alpha=0.1, l1_ratio=1, max_iter=1000, random_state=24, tol=0.001;, score=0.011 total time=   0.2s\n",
            "[CV 2/5; 26/120] START alpha=0.1, l1_ratio=1, max_iter=1000, random_state=24, tol=0.001\n",
            "[CV 2/5; 26/120] END alpha=0.1, l1_ratio=1, max_iter=1000, random_state=24, tol=0.001;, score=0.018 total time=   0.2s\n",
            "[CV 3/5; 26/120] START alpha=0.1, l1_ratio=1, max_iter=1000, random_state=24, tol=0.001\n",
            "[CV 3/5; 26/120] END alpha=0.1, l1_ratio=1, max_iter=1000, random_state=24, tol=0.001;, score=0.017 total time=   0.2s\n",
            "[CV 4/5; 26/120] START alpha=0.1, l1_ratio=1, max_iter=1000, random_state=24, tol=0.001\n",
            "[CV 4/5; 26/120] END alpha=0.1, l1_ratio=1, max_iter=1000, random_state=24, tol=0.001;, score=0.021 total time=   0.1s\n",
            "[CV 5/5; 26/120] START alpha=0.1, l1_ratio=1, max_iter=1000, random_state=24, tol=0.001\n",
            "[CV 5/5; 26/120] END alpha=0.1, l1_ratio=1, max_iter=1000, random_state=24, tol=0.001;, score=0.017 total time=   0.2s\n",
            "[CV 1/5; 27/120] START alpha=0.1, l1_ratio=1, max_iter=1000, random_state=48, tol=0.0001\n",
            "[CV 1/5; 27/120] END alpha=0.1, l1_ratio=1, max_iter=1000, random_state=48, tol=0.0001;, score=0.011 total time=   0.2s\n",
            "[CV 2/5; 27/120] START alpha=0.1, l1_ratio=1, max_iter=1000, random_state=48, tol=0.0001\n",
            "[CV 2/5; 27/120] END alpha=0.1, l1_ratio=1, max_iter=1000, random_state=48, tol=0.0001;, score=0.018 total time=   0.1s\n",
            "[CV 3/5; 27/120] START alpha=0.1, l1_ratio=1, max_iter=1000, random_state=48, tol=0.0001\n",
            "[CV 3/5; 27/120] END alpha=0.1, l1_ratio=1, max_iter=1000, random_state=48, tol=0.0001;, score=0.017 total time=   0.2s\n",
            "[CV 4/5; 27/120] START alpha=0.1, l1_ratio=1, max_iter=1000, random_state=48, tol=0.0001\n",
            "[CV 4/5; 27/120] END alpha=0.1, l1_ratio=1, max_iter=1000, random_state=48, tol=0.0001;, score=0.021 total time=   0.2s\n",
            "[CV 5/5; 27/120] START alpha=0.1, l1_ratio=1, max_iter=1000, random_state=48, tol=0.0001\n",
            "[CV 5/5; 27/120] END alpha=0.1, l1_ratio=1, max_iter=1000, random_state=48, tol=0.0001;, score=0.017 total time=   0.2s\n",
            "[CV 1/5; 28/120] START alpha=0.1, l1_ratio=1, max_iter=1000, random_state=48, tol=0.001\n",
            "[CV 1/5; 28/120] END alpha=0.1, l1_ratio=1, max_iter=1000, random_state=48, tol=0.001;, score=0.011 total time=   0.2s\n",
            "[CV 2/5; 28/120] START alpha=0.1, l1_ratio=1, max_iter=1000, random_state=48, tol=0.001\n",
            "[CV 2/5; 28/120] END alpha=0.1, l1_ratio=1, max_iter=1000, random_state=48, tol=0.001;, score=0.018 total time=   0.1s\n",
            "[CV 3/5; 28/120] START alpha=0.1, l1_ratio=1, max_iter=1000, random_state=48, tol=0.001\n",
            "[CV 3/5; 28/120] END alpha=0.1, l1_ratio=1, max_iter=1000, random_state=48, tol=0.001;, score=0.017 total time=   0.2s\n",
            "[CV 4/5; 28/120] START alpha=0.1, l1_ratio=1, max_iter=1000, random_state=48, tol=0.001\n",
            "[CV 4/5; 28/120] END alpha=0.1, l1_ratio=1, max_iter=1000, random_state=48, tol=0.001;, score=0.021 total time=   0.2s\n",
            "[CV 5/5; 28/120] START alpha=0.1, l1_ratio=1, max_iter=1000, random_state=48, tol=0.001\n",
            "[CV 5/5; 28/120] END alpha=0.1, l1_ratio=1, max_iter=1000, random_state=48, tol=0.001;, score=0.017 total time=   0.2s\n",
            "[CV 1/5; 29/120] START alpha=0.1, l1_ratio=1, max_iter=1000, random_state=2020, tol=0.0001\n",
            "[CV 1/5; 29/120] END alpha=0.1, l1_ratio=1, max_iter=1000, random_state=2020, tol=0.0001;, score=0.011 total time=   0.2s\n",
            "[CV 2/5; 29/120] START alpha=0.1, l1_ratio=1, max_iter=1000, random_state=2020, tol=0.0001\n",
            "[CV 2/5; 29/120] END alpha=0.1, l1_ratio=1, max_iter=1000, random_state=2020, tol=0.0001;, score=0.018 total time=   0.1s\n",
            "[CV 3/5; 29/120] START alpha=0.1, l1_ratio=1, max_iter=1000, random_state=2020, tol=0.0001\n",
            "[CV 3/5; 29/120] END alpha=0.1, l1_ratio=1, max_iter=1000, random_state=2020, tol=0.0001;, score=0.017 total time=   0.2s\n",
            "[CV 4/5; 29/120] START alpha=0.1, l1_ratio=1, max_iter=1000, random_state=2020, tol=0.0001\n",
            "[CV 4/5; 29/120] END alpha=0.1, l1_ratio=1, max_iter=1000, random_state=2020, tol=0.0001;, score=0.021 total time=   0.2s\n",
            "[CV 5/5; 29/120] START alpha=0.1, l1_ratio=1, max_iter=1000, random_state=2020, tol=0.0001\n",
            "[CV 5/5; 29/120] END alpha=0.1, l1_ratio=1, max_iter=1000, random_state=2020, tol=0.0001;, score=0.017 total time=   0.2s\n",
            "[CV 1/5; 30/120] START alpha=0.1, l1_ratio=1, max_iter=1000, random_state=2020, tol=0.001\n",
            "[CV 1/5; 30/120] END alpha=0.1, l1_ratio=1, max_iter=1000, random_state=2020, tol=0.001;, score=0.011 total time=   0.2s\n",
            "[CV 2/5; 30/120] START alpha=0.1, l1_ratio=1, max_iter=1000, random_state=2020, tol=0.001\n",
            "[CV 2/5; 30/120] END alpha=0.1, l1_ratio=1, max_iter=1000, random_state=2020, tol=0.001;, score=0.018 total time=   0.1s\n",
            "[CV 3/5; 30/120] START alpha=0.1, l1_ratio=1, max_iter=1000, random_state=2020, tol=0.001\n",
            "[CV 3/5; 30/120] END alpha=0.1, l1_ratio=1, max_iter=1000, random_state=2020, tol=0.001;, score=0.017 total time=   0.2s\n",
            "[CV 4/5; 30/120] START alpha=0.1, l1_ratio=1, max_iter=1000, random_state=2020, tol=0.001\n",
            "[CV 4/5; 30/120] END alpha=0.1, l1_ratio=1, max_iter=1000, random_state=2020, tol=0.001;, score=0.021 total time=   0.1s\n",
            "[CV 5/5; 30/120] START alpha=0.1, l1_ratio=1, max_iter=1000, random_state=2020, tol=0.001\n",
            "[CV 5/5; 30/120] END alpha=0.1, l1_ratio=1, max_iter=1000, random_state=2020, tol=0.001;, score=0.017 total time=   0.2s\n",
            "[CV 1/5; 31/120] START alpha=0.3, l1_ratio=0.001, max_iter=1000, random_state=24, tol=0.0001\n",
            "[CV 1/5; 31/120] END alpha=0.3, l1_ratio=0.001, max_iter=1000, random_state=24, tol=0.0001;, score=0.011 total time=   0.3s\n",
            "[CV 2/5; 31/120] START alpha=0.3, l1_ratio=0.001, max_iter=1000, random_state=24, tol=0.0001\n",
            "[CV 2/5; 31/120] END alpha=0.3, l1_ratio=0.001, max_iter=1000, random_state=24, tol=0.0001;, score=0.020 total time=   0.2s\n",
            "[CV 3/5; 31/120] START alpha=0.3, l1_ratio=0.001, max_iter=1000, random_state=24, tol=0.0001\n",
            "[CV 3/5; 31/120] END alpha=0.3, l1_ratio=0.001, max_iter=1000, random_state=24, tol=0.0001;, score=0.017 total time=   0.3s\n",
            "[CV 4/5; 31/120] START alpha=0.3, l1_ratio=0.001, max_iter=1000, random_state=24, tol=0.0001\n",
            "[CV 4/5; 31/120] END alpha=0.3, l1_ratio=0.001, max_iter=1000, random_state=24, tol=0.0001;, score=0.022 total time=   0.2s\n",
            "[CV 5/5; 31/120] START alpha=0.3, l1_ratio=0.001, max_iter=1000, random_state=24, tol=0.0001\n",
            "[CV 5/5; 31/120] END alpha=0.3, l1_ratio=0.001, max_iter=1000, random_state=24, tol=0.0001;, score=0.020 total time=   0.3s\n",
            "[CV 1/5; 32/120] START alpha=0.3, l1_ratio=0.001, max_iter=1000, random_state=24, tol=0.001\n",
            "[CV 1/5; 32/120] END alpha=0.3, l1_ratio=0.001, max_iter=1000, random_state=24, tol=0.001;, score=0.011 total time=   0.3s\n",
            "[CV 2/5; 32/120] START alpha=0.3, l1_ratio=0.001, max_iter=1000, random_state=24, tol=0.001\n",
            "[CV 2/5; 32/120] END alpha=0.3, l1_ratio=0.001, max_iter=1000, random_state=24, tol=0.001;, score=0.020 total time=   0.2s\n",
            "[CV 3/5; 32/120] START alpha=0.3, l1_ratio=0.001, max_iter=1000, random_state=24, tol=0.001\n",
            "[CV 3/5; 32/120] END alpha=0.3, l1_ratio=0.001, max_iter=1000, random_state=24, tol=0.001;, score=0.017 total time=   0.3s\n",
            "[CV 4/5; 32/120] START alpha=0.3, l1_ratio=0.001, max_iter=1000, random_state=24, tol=0.001\n",
            "[CV 4/5; 32/120] END alpha=0.3, l1_ratio=0.001, max_iter=1000, random_state=24, tol=0.001;, score=0.022 total time=   0.2s\n",
            "[CV 5/5; 32/120] START alpha=0.3, l1_ratio=0.001, max_iter=1000, random_state=24, tol=0.001\n",
            "[CV 5/5; 32/120] END alpha=0.3, l1_ratio=0.001, max_iter=1000, random_state=24, tol=0.001;, score=0.020 total time=   0.3s\n",
            "[CV 1/5; 33/120] START alpha=0.3, l1_ratio=0.001, max_iter=1000, random_state=48, tol=0.0001\n",
            "[CV 1/5; 33/120] END alpha=0.3, l1_ratio=0.001, max_iter=1000, random_state=48, tol=0.0001;, score=0.011 total time=   0.3s\n",
            "[CV 2/5; 33/120] START alpha=0.3, l1_ratio=0.001, max_iter=1000, random_state=48, tol=0.0001\n",
            "[CV 2/5; 33/120] END alpha=0.3, l1_ratio=0.001, max_iter=1000, random_state=48, tol=0.0001;, score=0.020 total time=   0.2s\n",
            "[CV 3/5; 33/120] START alpha=0.3, l1_ratio=0.001, max_iter=1000, random_state=48, tol=0.0001\n",
            "[CV 3/5; 33/120] END alpha=0.3, l1_ratio=0.001, max_iter=1000, random_state=48, tol=0.0001;, score=0.017 total time=   0.3s\n",
            "[CV 4/5; 33/120] START alpha=0.3, l1_ratio=0.001, max_iter=1000, random_state=48, tol=0.0001\n",
            "[CV 4/5; 33/120] END alpha=0.3, l1_ratio=0.001, max_iter=1000, random_state=48, tol=0.0001;, score=0.022 total time=   0.2s\n",
            "[CV 5/5; 33/120] START alpha=0.3, l1_ratio=0.001, max_iter=1000, random_state=48, tol=0.0001\n",
            "[CV 5/5; 33/120] END alpha=0.3, l1_ratio=0.001, max_iter=1000, random_state=48, tol=0.0001;, score=0.020 total time=   0.3s\n",
            "[CV 1/5; 34/120] START alpha=0.3, l1_ratio=0.001, max_iter=1000, random_state=48, tol=0.001\n",
            "[CV 1/5; 34/120] END alpha=0.3, l1_ratio=0.001, max_iter=1000, random_state=48, tol=0.001;, score=0.011 total time=   0.3s\n",
            "[CV 2/5; 34/120] START alpha=0.3, l1_ratio=0.001, max_iter=1000, random_state=48, tol=0.001\n",
            "[CV 2/5; 34/120] END alpha=0.3, l1_ratio=0.001, max_iter=1000, random_state=48, tol=0.001;, score=0.020 total time=   0.2s\n",
            "[CV 3/5; 34/120] START alpha=0.3, l1_ratio=0.001, max_iter=1000, random_state=48, tol=0.001\n",
            "[CV 3/5; 34/120] END alpha=0.3, l1_ratio=0.001, max_iter=1000, random_state=48, tol=0.001;, score=0.017 total time=   0.3s\n",
            "[CV 4/5; 34/120] START alpha=0.3, l1_ratio=0.001, max_iter=1000, random_state=48, tol=0.001\n",
            "[CV 4/5; 34/120] END alpha=0.3, l1_ratio=0.001, max_iter=1000, random_state=48, tol=0.001;, score=0.022 total time=   0.2s\n",
            "[CV 5/5; 34/120] START alpha=0.3, l1_ratio=0.001, max_iter=1000, random_state=48, tol=0.001\n",
            "[CV 5/5; 34/120] END alpha=0.3, l1_ratio=0.001, max_iter=1000, random_state=48, tol=0.001;, score=0.020 total time=   0.3s\n",
            "[CV 1/5; 35/120] START alpha=0.3, l1_ratio=0.001, max_iter=1000, random_state=2020, tol=0.0001\n",
            "[CV 1/5; 35/120] END alpha=0.3, l1_ratio=0.001, max_iter=1000, random_state=2020, tol=0.0001;, score=0.011 total time=   0.3s\n",
            "[CV 2/5; 35/120] START alpha=0.3, l1_ratio=0.001, max_iter=1000, random_state=2020, tol=0.0001\n",
            "[CV 2/5; 35/120] END alpha=0.3, l1_ratio=0.001, max_iter=1000, random_state=2020, tol=0.0001;, score=0.020 total time=   0.2s\n",
            "[CV 3/5; 35/120] START alpha=0.3, l1_ratio=0.001, max_iter=1000, random_state=2020, tol=0.0001\n",
            "[CV 3/5; 35/120] END alpha=0.3, l1_ratio=0.001, max_iter=1000, random_state=2020, tol=0.0001;, score=0.017 total time=   0.2s\n",
            "[CV 4/5; 35/120] START alpha=0.3, l1_ratio=0.001, max_iter=1000, random_state=2020, tol=0.0001\n",
            "[CV 4/5; 35/120] END alpha=0.3, l1_ratio=0.001, max_iter=1000, random_state=2020, tol=0.0001;, score=0.022 total time=   0.2s\n",
            "[CV 5/5; 35/120] START alpha=0.3, l1_ratio=0.001, max_iter=1000, random_state=2020, tol=0.0001\n",
            "[CV 5/5; 35/120] END alpha=0.3, l1_ratio=0.001, max_iter=1000, random_state=2020, tol=0.0001;, score=0.020 total time=   0.3s\n",
            "[CV 1/5; 36/120] START alpha=0.3, l1_ratio=0.001, max_iter=1000, random_state=2020, tol=0.001\n",
            "[CV 1/5; 36/120] END alpha=0.3, l1_ratio=0.001, max_iter=1000, random_state=2020, tol=0.001;, score=0.011 total time=   0.3s\n",
            "[CV 2/5; 36/120] START alpha=0.3, l1_ratio=0.001, max_iter=1000, random_state=2020, tol=0.001\n",
            "[CV 2/5; 36/120] END alpha=0.3, l1_ratio=0.001, max_iter=1000, random_state=2020, tol=0.001;, score=0.020 total time=   0.2s\n",
            "[CV 3/5; 36/120] START alpha=0.3, l1_ratio=0.001, max_iter=1000, random_state=2020, tol=0.001\n",
            "[CV 3/5; 36/120] END alpha=0.3, l1_ratio=0.001, max_iter=1000, random_state=2020, tol=0.001;, score=0.017 total time=   0.2s\n",
            "[CV 4/5; 36/120] START alpha=0.3, l1_ratio=0.001, max_iter=1000, random_state=2020, tol=0.001\n",
            "[CV 4/5; 36/120] END alpha=0.3, l1_ratio=0.001, max_iter=1000, random_state=2020, tol=0.001;, score=0.022 total time=   0.2s\n",
            "[CV 5/5; 36/120] START alpha=0.3, l1_ratio=0.001, max_iter=1000, random_state=2020, tol=0.001\n",
            "[CV 5/5; 36/120] END alpha=0.3, l1_ratio=0.001, max_iter=1000, random_state=2020, tol=0.001;, score=0.020 total time=   0.3s\n",
            "[CV 1/5; 37/120] START alpha=0.3, l1_ratio=0.1, max_iter=1000, random_state=24, tol=0.0001\n",
            "[CV 1/5; 37/120] END alpha=0.3, l1_ratio=0.1, max_iter=1000, random_state=24, tol=0.0001;, score=0.012 total time=   0.2s\n",
            "[CV 2/5; 37/120] START alpha=0.3, l1_ratio=0.1, max_iter=1000, random_state=24, tol=0.0001\n",
            "[CV 2/5; 37/120] END alpha=0.3, l1_ratio=0.1, max_iter=1000, random_state=24, tol=0.0001;, score=0.020 total time=   0.2s\n",
            "[CV 3/5; 37/120] START alpha=0.3, l1_ratio=0.1, max_iter=1000, random_state=24, tol=0.0001\n",
            "[CV 3/5; 37/120] END alpha=0.3, l1_ratio=0.1, max_iter=1000, random_state=24, tol=0.0001;, score=0.017 total time=   0.2s\n",
            "[CV 4/5; 37/120] START alpha=0.3, l1_ratio=0.1, max_iter=1000, random_state=24, tol=0.0001\n",
            "[CV 4/5; 37/120] END alpha=0.3, l1_ratio=0.1, max_iter=1000, random_state=24, tol=0.0001;, score=0.022 total time=   0.2s\n",
            "[CV 5/5; 37/120] START alpha=0.3, l1_ratio=0.1, max_iter=1000, random_state=24, tol=0.0001\n",
            "[CV 5/5; 37/120] END alpha=0.3, l1_ratio=0.1, max_iter=1000, random_state=24, tol=0.0001;, score=0.019 total time=   0.2s\n",
            "[CV 1/5; 38/120] START alpha=0.3, l1_ratio=0.1, max_iter=1000, random_state=24, tol=0.001\n",
            "[CV 1/5; 38/120] END alpha=0.3, l1_ratio=0.1, max_iter=1000, random_state=24, tol=0.001;, score=0.012 total time=   0.2s\n",
            "[CV 2/5; 38/120] START alpha=0.3, l1_ratio=0.1, max_iter=1000, random_state=24, tol=0.001\n",
            "[CV 2/5; 38/120] END alpha=0.3, l1_ratio=0.1, max_iter=1000, random_state=24, tol=0.001;, score=0.020 total time=   0.1s\n",
            "[CV 3/5; 38/120] START alpha=0.3, l1_ratio=0.1, max_iter=1000, random_state=24, tol=0.001\n",
            "[CV 3/5; 38/120] END alpha=0.3, l1_ratio=0.1, max_iter=1000, random_state=24, tol=0.001;, score=0.017 total time=   0.2s\n",
            "[CV 4/5; 38/120] START alpha=0.3, l1_ratio=0.1, max_iter=1000, random_state=24, tol=0.001\n",
            "[CV 4/5; 38/120] END alpha=0.3, l1_ratio=0.1, max_iter=1000, random_state=24, tol=0.001;, score=0.022 total time=   0.2s\n",
            "[CV 5/5; 38/120] START alpha=0.3, l1_ratio=0.1, max_iter=1000, random_state=24, tol=0.001\n",
            "[CV 5/5; 38/120] END alpha=0.3, l1_ratio=0.1, max_iter=1000, random_state=24, tol=0.001;, score=0.019 total time=   0.2s\n",
            "[CV 1/5; 39/120] START alpha=0.3, l1_ratio=0.1, max_iter=1000, random_state=48, tol=0.0001\n",
            "[CV 1/5; 39/120] END alpha=0.3, l1_ratio=0.1, max_iter=1000, random_state=48, tol=0.0001;, score=0.012 total time=   0.2s\n",
            "[CV 2/5; 39/120] START alpha=0.3, l1_ratio=0.1, max_iter=1000, random_state=48, tol=0.0001\n",
            "[CV 2/5; 39/120] END alpha=0.3, l1_ratio=0.1, max_iter=1000, random_state=48, tol=0.0001;, score=0.020 total time=   0.2s\n",
            "[CV 3/5; 39/120] START alpha=0.3, l1_ratio=0.1, max_iter=1000, random_state=48, tol=0.0001\n",
            "[CV 3/5; 39/120] END alpha=0.3, l1_ratio=0.1, max_iter=1000, random_state=48, tol=0.0001;, score=0.017 total time=   0.2s\n",
            "[CV 4/5; 39/120] START alpha=0.3, l1_ratio=0.1, max_iter=1000, random_state=48, tol=0.0001\n",
            "[CV 4/5; 39/120] END alpha=0.3, l1_ratio=0.1, max_iter=1000, random_state=48, tol=0.0001;, score=0.022 total time=   0.2s\n",
            "[CV 5/5; 39/120] START alpha=0.3, l1_ratio=0.1, max_iter=1000, random_state=48, tol=0.0001\n",
            "[CV 5/5; 39/120] END alpha=0.3, l1_ratio=0.1, max_iter=1000, random_state=48, tol=0.0001;, score=0.019 total time=   0.2s\n",
            "[CV 1/5; 40/120] START alpha=0.3, l1_ratio=0.1, max_iter=1000, random_state=48, tol=0.001\n",
            "[CV 1/5; 40/120] END alpha=0.3, l1_ratio=0.1, max_iter=1000, random_state=48, tol=0.001;, score=0.012 total time=   0.2s\n",
            "[CV 2/5; 40/120] START alpha=0.3, l1_ratio=0.1, max_iter=1000, random_state=48, tol=0.001\n",
            "[CV 2/5; 40/120] END alpha=0.3, l1_ratio=0.1, max_iter=1000, random_state=48, tol=0.001;, score=0.020 total time=   0.1s\n",
            "[CV 3/5; 40/120] START alpha=0.3, l1_ratio=0.1, max_iter=1000, random_state=48, tol=0.001\n",
            "[CV 3/5; 40/120] END alpha=0.3, l1_ratio=0.1, max_iter=1000, random_state=48, tol=0.001;, score=0.017 total time=   0.2s\n",
            "[CV 4/5; 40/120] START alpha=0.3, l1_ratio=0.1, max_iter=1000, random_state=48, tol=0.001\n",
            "[CV 4/5; 40/120] END alpha=0.3, l1_ratio=0.1, max_iter=1000, random_state=48, tol=0.001;, score=0.022 total time=   0.2s\n",
            "[CV 5/5; 40/120] START alpha=0.3, l1_ratio=0.1, max_iter=1000, random_state=48, tol=0.001\n",
            "[CV 5/5; 40/120] END alpha=0.3, l1_ratio=0.1, max_iter=1000, random_state=48, tol=0.001;, score=0.019 total time=   0.2s\n",
            "[CV 1/5; 41/120] START alpha=0.3, l1_ratio=0.1, max_iter=1000, random_state=2020, tol=0.0001\n",
            "[CV 1/5; 41/120] END alpha=0.3, l1_ratio=0.1, max_iter=1000, random_state=2020, tol=0.0001;, score=0.012 total time=   0.2s\n",
            "[CV 2/5; 41/120] START alpha=0.3, l1_ratio=0.1, max_iter=1000, random_state=2020, tol=0.0001\n",
            "[CV 2/5; 41/120] END alpha=0.3, l1_ratio=0.1, max_iter=1000, random_state=2020, tol=0.0001;, score=0.020 total time=   0.2s\n",
            "[CV 3/5; 41/120] START alpha=0.3, l1_ratio=0.1, max_iter=1000, random_state=2020, tol=0.0001\n",
            "[CV 3/5; 41/120] END alpha=0.3, l1_ratio=0.1, max_iter=1000, random_state=2020, tol=0.0001;, score=0.017 total time=   0.2s\n",
            "[CV 4/5; 41/120] START alpha=0.3, l1_ratio=0.1, max_iter=1000, random_state=2020, tol=0.0001\n",
            "[CV 4/5; 41/120] END alpha=0.3, l1_ratio=0.1, max_iter=1000, random_state=2020, tol=0.0001;, score=0.022 total time=   0.2s\n",
            "[CV 5/5; 41/120] START alpha=0.3, l1_ratio=0.1, max_iter=1000, random_state=2020, tol=0.0001\n",
            "[CV 5/5; 41/120] END alpha=0.3, l1_ratio=0.1, max_iter=1000, random_state=2020, tol=0.0001;, score=0.019 total time=   0.2s\n",
            "[CV 1/5; 42/120] START alpha=0.3, l1_ratio=0.1, max_iter=1000, random_state=2020, tol=0.001\n",
            "[CV 1/5; 42/120] END alpha=0.3, l1_ratio=0.1, max_iter=1000, random_state=2020, tol=0.001;, score=0.012 total time=   0.2s\n",
            "[CV 2/5; 42/120] START alpha=0.3, l1_ratio=0.1, max_iter=1000, random_state=2020, tol=0.001\n",
            "[CV 2/5; 42/120] END alpha=0.3, l1_ratio=0.1, max_iter=1000, random_state=2020, tol=0.001;, score=0.020 total time=   0.2s\n",
            "[CV 3/5; 42/120] START alpha=0.3, l1_ratio=0.1, max_iter=1000, random_state=2020, tol=0.001\n",
            "[CV 3/5; 42/120] END alpha=0.3, l1_ratio=0.1, max_iter=1000, random_state=2020, tol=0.001;, score=0.017 total time=   0.2s\n",
            "[CV 4/5; 42/120] START alpha=0.3, l1_ratio=0.1, max_iter=1000, random_state=2020, tol=0.001\n",
            "[CV 4/5; 42/120] END alpha=0.3, l1_ratio=0.1, max_iter=1000, random_state=2020, tol=0.001;, score=0.022 total time=   0.1s\n",
            "[CV 5/5; 42/120] START alpha=0.3, l1_ratio=0.1, max_iter=1000, random_state=2020, tol=0.001\n",
            "[CV 5/5; 42/120] END alpha=0.3, l1_ratio=0.1, max_iter=1000, random_state=2020, tol=0.001;, score=0.019 total time=   0.2s\n",
            "[CV 1/5; 43/120] START alpha=0.3, l1_ratio=0.5, max_iter=1000, random_state=24, tol=0.0001\n",
            "[CV 1/5; 43/120] END alpha=0.3, l1_ratio=0.5, max_iter=1000, random_state=24, tol=0.0001;, score=0.011 total time=   0.2s\n",
            "[CV 2/5; 43/120] START alpha=0.3, l1_ratio=0.5, max_iter=1000, random_state=24, tol=0.0001\n",
            "[CV 2/5; 43/120] END alpha=0.3, l1_ratio=0.5, max_iter=1000, random_state=24, tol=0.0001;, score=0.018 total time=   0.1s\n",
            "[CV 3/5; 43/120] START alpha=0.3, l1_ratio=0.5, max_iter=1000, random_state=24, tol=0.0001\n",
            "[CV 3/5; 43/120] END alpha=0.3, l1_ratio=0.5, max_iter=1000, random_state=24, tol=0.0001;, score=0.017 total time=   0.2s\n",
            "[CV 4/5; 43/120] START alpha=0.3, l1_ratio=0.5, max_iter=1000, random_state=24, tol=0.0001\n",
            "[CV 4/5; 43/120] END alpha=0.3, l1_ratio=0.5, max_iter=1000, random_state=24, tol=0.0001;, score=0.020 total time=   0.1s\n",
            "[CV 5/5; 43/120] START alpha=0.3, l1_ratio=0.5, max_iter=1000, random_state=24, tol=0.0001\n",
            "[CV 5/5; 43/120] END alpha=0.3, l1_ratio=0.5, max_iter=1000, random_state=24, tol=0.0001;, score=0.017 total time=   0.2s\n",
            "[CV 1/5; 44/120] START alpha=0.3, l1_ratio=0.5, max_iter=1000, random_state=24, tol=0.001\n",
            "[CV 1/5; 44/120] END alpha=0.3, l1_ratio=0.5, max_iter=1000, random_state=24, tol=0.001;, score=0.011 total time=   0.2s\n",
            "[CV 2/5; 44/120] START alpha=0.3, l1_ratio=0.5, max_iter=1000, random_state=24, tol=0.001\n",
            "[CV 2/5; 44/120] END alpha=0.3, l1_ratio=0.5, max_iter=1000, random_state=24, tol=0.001;, score=0.018 total time=   0.1s\n",
            "[CV 3/5; 44/120] START alpha=0.3, l1_ratio=0.5, max_iter=1000, random_state=24, tol=0.001\n",
            "[CV 3/5; 44/120] END alpha=0.3, l1_ratio=0.5, max_iter=1000, random_state=24, tol=0.001;, score=0.017 total time=   0.2s\n",
            "[CV 4/5; 44/120] START alpha=0.3, l1_ratio=0.5, max_iter=1000, random_state=24, tol=0.001\n",
            "[CV 4/5; 44/120] END alpha=0.3, l1_ratio=0.5, max_iter=1000, random_state=24, tol=0.001;, score=0.020 total time=   0.1s\n",
            "[CV 5/5; 44/120] START alpha=0.3, l1_ratio=0.5, max_iter=1000, random_state=24, tol=0.001\n",
            "[CV 5/5; 44/120] END alpha=0.3, l1_ratio=0.5, max_iter=1000, random_state=24, tol=0.001;, score=0.017 total time=   0.2s\n",
            "[CV 1/5; 45/120] START alpha=0.3, l1_ratio=0.5, max_iter=1000, random_state=48, tol=0.0001\n",
            "[CV 1/5; 45/120] END alpha=0.3, l1_ratio=0.5, max_iter=1000, random_state=48, tol=0.0001;, score=0.011 total time=   0.2s\n",
            "[CV 2/5; 45/120] START alpha=0.3, l1_ratio=0.5, max_iter=1000, random_state=48, tol=0.0001\n",
            "[CV 2/5; 45/120] END alpha=0.3, l1_ratio=0.5, max_iter=1000, random_state=48, tol=0.0001;, score=0.018 total time=   0.2s\n",
            "[CV 3/5; 45/120] START alpha=0.3, l1_ratio=0.5, max_iter=1000, random_state=48, tol=0.0001\n",
            "[CV 3/5; 45/120] END alpha=0.3, l1_ratio=0.5, max_iter=1000, random_state=48, tol=0.0001;, score=0.017 total time=   0.2s\n",
            "[CV 4/5; 45/120] START alpha=0.3, l1_ratio=0.5, max_iter=1000, random_state=48, tol=0.0001\n",
            "[CV 4/5; 45/120] END alpha=0.3, l1_ratio=0.5, max_iter=1000, random_state=48, tol=0.0001;, score=0.020 total time=   0.1s\n",
            "[CV 5/5; 45/120] START alpha=0.3, l1_ratio=0.5, max_iter=1000, random_state=48, tol=0.0001\n",
            "[CV 5/5; 45/120] END alpha=0.3, l1_ratio=0.5, max_iter=1000, random_state=48, tol=0.0001;, score=0.017 total time=   0.2s\n",
            "[CV 1/5; 46/120] START alpha=0.3, l1_ratio=0.5, max_iter=1000, random_state=48, tol=0.001\n",
            "[CV 1/5; 46/120] END alpha=0.3, l1_ratio=0.5, max_iter=1000, random_state=48, tol=0.001;, score=0.011 total time=   0.2s\n",
            "[CV 2/5; 46/120] START alpha=0.3, l1_ratio=0.5, max_iter=1000, random_state=48, tol=0.001\n",
            "[CV 2/5; 46/120] END alpha=0.3, l1_ratio=0.5, max_iter=1000, random_state=48, tol=0.001;, score=0.018 total time=   0.2s\n",
            "[CV 3/5; 46/120] START alpha=0.3, l1_ratio=0.5, max_iter=1000, random_state=48, tol=0.001\n",
            "[CV 3/5; 46/120] END alpha=0.3, l1_ratio=0.5, max_iter=1000, random_state=48, tol=0.001;, score=0.017 total time=   0.2s\n",
            "[CV 4/5; 46/120] START alpha=0.3, l1_ratio=0.5, max_iter=1000, random_state=48, tol=0.001\n",
            "[CV 4/5; 46/120] END alpha=0.3, l1_ratio=0.5, max_iter=1000, random_state=48, tol=0.001;, score=0.020 total time=   0.1s\n",
            "[CV 5/5; 46/120] START alpha=0.3, l1_ratio=0.5, max_iter=1000, random_state=48, tol=0.001\n",
            "[CV 5/5; 46/120] END alpha=0.3, l1_ratio=0.5, max_iter=1000, random_state=48, tol=0.001;, score=0.017 total time=   0.2s\n",
            "[CV 1/5; 47/120] START alpha=0.3, l1_ratio=0.5, max_iter=1000, random_state=2020, tol=0.0001\n",
            "[CV 1/5; 47/120] END alpha=0.3, l1_ratio=0.5, max_iter=1000, random_state=2020, tol=0.0001;, score=0.011 total time=   0.2s\n",
            "[CV 2/5; 47/120] START alpha=0.3, l1_ratio=0.5, max_iter=1000, random_state=2020, tol=0.0001\n",
            "[CV 2/5; 47/120] END alpha=0.3, l1_ratio=0.5, max_iter=1000, random_state=2020, tol=0.0001;, score=0.018 total time=   0.1s\n",
            "[CV 3/5; 47/120] START alpha=0.3, l1_ratio=0.5, max_iter=1000, random_state=2020, tol=0.0001\n",
            "[CV 3/5; 47/120] END alpha=0.3, l1_ratio=0.5, max_iter=1000, random_state=2020, tol=0.0001;, score=0.017 total time=   0.2s\n",
            "[CV 4/5; 47/120] START alpha=0.3, l1_ratio=0.5, max_iter=1000, random_state=2020, tol=0.0001\n",
            "[CV 4/5; 47/120] END alpha=0.3, l1_ratio=0.5, max_iter=1000, random_state=2020, tol=0.0001;, score=0.020 total time=   0.2s\n",
            "[CV 5/5; 47/120] START alpha=0.3, l1_ratio=0.5, max_iter=1000, random_state=2020, tol=0.0001\n",
            "[CV 5/5; 47/120] END alpha=0.3, l1_ratio=0.5, max_iter=1000, random_state=2020, tol=0.0001;, score=0.017 total time=   0.2s\n",
            "[CV 1/5; 48/120] START alpha=0.3, l1_ratio=0.5, max_iter=1000, random_state=2020, tol=0.001\n",
            "[CV 1/5; 48/120] END alpha=0.3, l1_ratio=0.5, max_iter=1000, random_state=2020, tol=0.001;, score=0.011 total time=   0.2s\n",
            "[CV 2/5; 48/120] START alpha=0.3, l1_ratio=0.5, max_iter=1000, random_state=2020, tol=0.001\n",
            "[CV 2/5; 48/120] END alpha=0.3, l1_ratio=0.5, max_iter=1000, random_state=2020, tol=0.001;, score=0.018 total time=   0.1s\n",
            "[CV 3/5; 48/120] START alpha=0.3, l1_ratio=0.5, max_iter=1000, random_state=2020, tol=0.001\n",
            "[CV 3/5; 48/120] END alpha=0.3, l1_ratio=0.5, max_iter=1000, random_state=2020, tol=0.001;, score=0.017 total time=   0.2s\n",
            "[CV 4/5; 48/120] START alpha=0.3, l1_ratio=0.5, max_iter=1000, random_state=2020, tol=0.001\n",
            "[CV 4/5; 48/120] END alpha=0.3, l1_ratio=0.5, max_iter=1000, random_state=2020, tol=0.001;, score=0.020 total time=   0.1s\n",
            "[CV 5/5; 48/120] START alpha=0.3, l1_ratio=0.5, max_iter=1000, random_state=2020, tol=0.001\n",
            "[CV 5/5; 48/120] END alpha=0.3, l1_ratio=0.5, max_iter=1000, random_state=2020, tol=0.001;, score=0.017 total time=   0.2s\n",
            "[CV 1/5; 49/120] START alpha=0.3, l1_ratio=0.6, max_iter=1000, random_state=24, tol=0.0001\n",
            "[CV 1/5; 49/120] END alpha=0.3, l1_ratio=0.6, max_iter=1000, random_state=24, tol=0.0001;, score=0.011 total time=   0.2s\n",
            "[CV 2/5; 49/120] START alpha=0.3, l1_ratio=0.6, max_iter=1000, random_state=24, tol=0.0001\n",
            "[CV 2/5; 49/120] END alpha=0.3, l1_ratio=0.6, max_iter=1000, random_state=24, tol=0.0001;, score=0.018 total time=   0.1s\n",
            "[CV 3/5; 49/120] START alpha=0.3, l1_ratio=0.6, max_iter=1000, random_state=24, tol=0.0001\n",
            "[CV 3/5; 49/120] END alpha=0.3, l1_ratio=0.6, max_iter=1000, random_state=24, tol=0.0001;, score=0.017 total time=   0.2s\n",
            "[CV 4/5; 49/120] START alpha=0.3, l1_ratio=0.6, max_iter=1000, random_state=24, tol=0.0001\n",
            "[CV 4/5; 49/120] END alpha=0.3, l1_ratio=0.6, max_iter=1000, random_state=24, tol=0.0001;, score=0.020 total time=   0.1s\n",
            "[CV 5/5; 49/120] START alpha=0.3, l1_ratio=0.6, max_iter=1000, random_state=24, tol=0.0001\n",
            "[CV 5/5; 49/120] END alpha=0.3, l1_ratio=0.6, max_iter=1000, random_state=24, tol=0.0001;, score=0.017 total time=   0.2s\n",
            "[CV 1/5; 50/120] START alpha=0.3, l1_ratio=0.6, max_iter=1000, random_state=24, tol=0.001\n",
            "[CV 1/5; 50/120] END alpha=0.3, l1_ratio=0.6, max_iter=1000, random_state=24, tol=0.001;, score=0.011 total time=   0.2s\n",
            "[CV 2/5; 50/120] START alpha=0.3, l1_ratio=0.6, max_iter=1000, random_state=24, tol=0.001\n",
            "[CV 2/5; 50/120] END alpha=0.3, l1_ratio=0.6, max_iter=1000, random_state=24, tol=0.001;, score=0.018 total time=   0.1s\n",
            "[CV 3/5; 50/120] START alpha=0.3, l1_ratio=0.6, max_iter=1000, random_state=24, tol=0.001\n",
            "[CV 3/5; 50/120] END alpha=0.3, l1_ratio=0.6, max_iter=1000, random_state=24, tol=0.001;, score=0.017 total time=   0.2s\n",
            "[CV 4/5; 50/120] START alpha=0.3, l1_ratio=0.6, max_iter=1000, random_state=24, tol=0.001\n",
            "[CV 4/5; 50/120] END alpha=0.3, l1_ratio=0.6, max_iter=1000, random_state=24, tol=0.001;, score=0.020 total time=   0.1s\n",
            "[CV 5/5; 50/120] START alpha=0.3, l1_ratio=0.6, max_iter=1000, random_state=24, tol=0.001\n",
            "[CV 5/5; 50/120] END alpha=0.3, l1_ratio=0.6, max_iter=1000, random_state=24, tol=0.001;, score=0.017 total time=   0.2s\n",
            "[CV 1/5; 51/120] START alpha=0.3, l1_ratio=0.6, max_iter=1000, random_state=48, tol=0.0001\n",
            "[CV 1/5; 51/120] END alpha=0.3, l1_ratio=0.6, max_iter=1000, random_state=48, tol=0.0001;, score=0.011 total time=   0.2s\n",
            "[CV 2/5; 51/120] START alpha=0.3, l1_ratio=0.6, max_iter=1000, random_state=48, tol=0.0001\n",
            "[CV 2/5; 51/120] END alpha=0.3, l1_ratio=0.6, max_iter=1000, random_state=48, tol=0.0001;, score=0.018 total time=   0.2s\n",
            "[CV 3/5; 51/120] START alpha=0.3, l1_ratio=0.6, max_iter=1000, random_state=48, tol=0.0001\n",
            "[CV 3/5; 51/120] END alpha=0.3, l1_ratio=0.6, max_iter=1000, random_state=48, tol=0.0001;, score=0.017 total time=   0.2s\n",
            "[CV 4/5; 51/120] START alpha=0.3, l1_ratio=0.6, max_iter=1000, random_state=48, tol=0.0001\n",
            "[CV 4/5; 51/120] END alpha=0.3, l1_ratio=0.6, max_iter=1000, random_state=48, tol=0.0001;, score=0.020 total time=   0.1s\n",
            "[CV 5/5; 51/120] START alpha=0.3, l1_ratio=0.6, max_iter=1000, random_state=48, tol=0.0001\n",
            "[CV 5/5; 51/120] END alpha=0.3, l1_ratio=0.6, max_iter=1000, random_state=48, tol=0.0001;, score=0.017 total time=   0.2s\n",
            "[CV 1/5; 52/120] START alpha=0.3, l1_ratio=0.6, max_iter=1000, random_state=48, tol=0.001\n",
            "[CV 1/5; 52/120] END alpha=0.3, l1_ratio=0.6, max_iter=1000, random_state=48, tol=0.001;, score=0.011 total time=   0.2s\n",
            "[CV 2/5; 52/120] START alpha=0.3, l1_ratio=0.6, max_iter=1000, random_state=48, tol=0.001\n",
            "[CV 2/5; 52/120] END alpha=0.3, l1_ratio=0.6, max_iter=1000, random_state=48, tol=0.001;, score=0.018 total time=   0.1s\n",
            "[CV 3/5; 52/120] START alpha=0.3, l1_ratio=0.6, max_iter=1000, random_state=48, tol=0.001\n",
            "[CV 3/5; 52/120] END alpha=0.3, l1_ratio=0.6, max_iter=1000, random_state=48, tol=0.001;, score=0.017 total time=   0.2s\n",
            "[CV 4/5; 52/120] START alpha=0.3, l1_ratio=0.6, max_iter=1000, random_state=48, tol=0.001\n",
            "[CV 4/5; 52/120] END alpha=0.3, l1_ratio=0.6, max_iter=1000, random_state=48, tol=0.001;, score=0.020 total time=   0.1s\n",
            "[CV 5/5; 52/120] START alpha=0.3, l1_ratio=0.6, max_iter=1000, random_state=48, tol=0.001\n",
            "[CV 5/5; 52/120] END alpha=0.3, l1_ratio=0.6, max_iter=1000, random_state=48, tol=0.001;, score=0.017 total time=   0.2s\n",
            "[CV 1/5; 53/120] START alpha=0.3, l1_ratio=0.6, max_iter=1000, random_state=2020, tol=0.0001\n",
            "[CV 1/5; 53/120] END alpha=0.3, l1_ratio=0.6, max_iter=1000, random_state=2020, tol=0.0001;, score=0.011 total time=   0.2s\n",
            "[CV 2/5; 53/120] START alpha=0.3, l1_ratio=0.6, max_iter=1000, random_state=2020, tol=0.0001\n",
            "[CV 2/5; 53/120] END alpha=0.3, l1_ratio=0.6, max_iter=1000, random_state=2020, tol=0.0001;, score=0.018 total time=   0.1s\n",
            "[CV 3/5; 53/120] START alpha=0.3, l1_ratio=0.6, max_iter=1000, random_state=2020, tol=0.0001\n",
            "[CV 3/5; 53/120] END alpha=0.3, l1_ratio=0.6, max_iter=1000, random_state=2020, tol=0.0001;, score=0.017 total time=   0.2s\n",
            "[CV 4/5; 53/120] START alpha=0.3, l1_ratio=0.6, max_iter=1000, random_state=2020, tol=0.0001\n",
            "[CV 4/5; 53/120] END alpha=0.3, l1_ratio=0.6, max_iter=1000, random_state=2020, tol=0.0001;, score=0.020 total time=   0.2s\n",
            "[CV 5/5; 53/120] START alpha=0.3, l1_ratio=0.6, max_iter=1000, random_state=2020, tol=0.0001\n",
            "[CV 5/5; 53/120] END alpha=0.3, l1_ratio=0.6, max_iter=1000, random_state=2020, tol=0.0001;, score=0.017 total time=   0.2s\n",
            "[CV 1/5; 54/120] START alpha=0.3, l1_ratio=0.6, max_iter=1000, random_state=2020, tol=0.001\n",
            "[CV 1/5; 54/120] END alpha=0.3, l1_ratio=0.6, max_iter=1000, random_state=2020, tol=0.001;, score=0.011 total time=   0.2s\n",
            "[CV 2/5; 54/120] START alpha=0.3, l1_ratio=0.6, max_iter=1000, random_state=2020, tol=0.001\n",
            "[CV 2/5; 54/120] END alpha=0.3, l1_ratio=0.6, max_iter=1000, random_state=2020, tol=0.001;, score=0.018 total time=   0.2s\n",
            "[CV 3/5; 54/120] START alpha=0.3, l1_ratio=0.6, max_iter=1000, random_state=2020, tol=0.001\n",
            "[CV 3/5; 54/120] END alpha=0.3, l1_ratio=0.6, max_iter=1000, random_state=2020, tol=0.001;, score=0.017 total time=   0.2s\n",
            "[CV 4/5; 54/120] START alpha=0.3, l1_ratio=0.6, max_iter=1000, random_state=2020, tol=0.001\n",
            "[CV 4/5; 54/120] END alpha=0.3, l1_ratio=0.6, max_iter=1000, random_state=2020, tol=0.001;, score=0.020 total time=   0.2s\n",
            "[CV 5/5; 54/120] START alpha=0.3, l1_ratio=0.6, max_iter=1000, random_state=2020, tol=0.001\n",
            "[CV 5/5; 54/120] END alpha=0.3, l1_ratio=0.6, max_iter=1000, random_state=2020, tol=0.001;, score=0.017 total time=   0.2s\n",
            "[CV 1/5; 55/120] START alpha=0.3, l1_ratio=1, max_iter=1000, random_state=24, tol=0.0001\n",
            "[CV 1/5; 55/120] END alpha=0.3, l1_ratio=1, max_iter=1000, random_state=24, tol=0.0001;, score=0.011 total time=   0.2s\n",
            "[CV 2/5; 55/120] START alpha=0.3, l1_ratio=1, max_iter=1000, random_state=24, tol=0.0001\n",
            "[CV 2/5; 55/120] END alpha=0.3, l1_ratio=1, max_iter=1000, random_state=24, tol=0.0001;, score=0.018 total time=   0.2s\n",
            "[CV 3/5; 55/120] START alpha=0.3, l1_ratio=1, max_iter=1000, random_state=24, tol=0.0001\n",
            "[CV 3/5; 55/120] END alpha=0.3, l1_ratio=1, max_iter=1000, random_state=24, tol=0.0001;, score=0.016 total time=   0.2s\n",
            "[CV 4/5; 55/120] START alpha=0.3, l1_ratio=1, max_iter=1000, random_state=24, tol=0.0001\n",
            "[CV 4/5; 55/120] END alpha=0.3, l1_ratio=1, max_iter=1000, random_state=24, tol=0.0001;, score=0.019 total time=   0.1s\n",
            "[CV 5/5; 55/120] START alpha=0.3, l1_ratio=1, max_iter=1000, random_state=24, tol=0.0001\n",
            "[CV 5/5; 55/120] END alpha=0.3, l1_ratio=1, max_iter=1000, random_state=24, tol=0.0001;, score=0.016 total time=   0.2s\n",
            "[CV 1/5; 56/120] START alpha=0.3, l1_ratio=1, max_iter=1000, random_state=24, tol=0.001\n",
            "[CV 1/5; 56/120] END alpha=0.3, l1_ratio=1, max_iter=1000, random_state=24, tol=0.001;, score=0.011 total time=   0.2s\n",
            "[CV 2/5; 56/120] START alpha=0.3, l1_ratio=1, max_iter=1000, random_state=24, tol=0.001\n",
            "[CV 2/5; 56/120] END alpha=0.3, l1_ratio=1, max_iter=1000, random_state=24, tol=0.001;, score=0.018 total time=   0.1s\n",
            "[CV 3/5; 56/120] START alpha=0.3, l1_ratio=1, max_iter=1000, random_state=24, tol=0.001\n",
            "[CV 3/5; 56/120] END alpha=0.3, l1_ratio=1, max_iter=1000, random_state=24, tol=0.001;, score=0.016 total time=   0.2s\n",
            "[CV 4/5; 56/120] START alpha=0.3, l1_ratio=1, max_iter=1000, random_state=24, tol=0.001\n",
            "[CV 4/5; 56/120] END alpha=0.3, l1_ratio=1, max_iter=1000, random_state=24, tol=0.001;, score=0.019 total time=   0.1s\n",
            "[CV 5/5; 56/120] START alpha=0.3, l1_ratio=1, max_iter=1000, random_state=24, tol=0.001\n",
            "[CV 5/5; 56/120] END alpha=0.3, l1_ratio=1, max_iter=1000, random_state=24, tol=0.001;, score=0.016 total time=   0.2s\n",
            "[CV 1/5; 57/120] START alpha=0.3, l1_ratio=1, max_iter=1000, random_state=48, tol=0.0001\n",
            "[CV 1/5; 57/120] END alpha=0.3, l1_ratio=1, max_iter=1000, random_state=48, tol=0.0001;, score=0.011 total time=   0.2s\n",
            "[CV 2/5; 57/120] START alpha=0.3, l1_ratio=1, max_iter=1000, random_state=48, tol=0.0001\n",
            "[CV 2/5; 57/120] END alpha=0.3, l1_ratio=1, max_iter=1000, random_state=48, tol=0.0001;, score=0.018 total time=   0.1s\n",
            "[CV 3/5; 57/120] START alpha=0.3, l1_ratio=1, max_iter=1000, random_state=48, tol=0.0001\n",
            "[CV 3/5; 57/120] END alpha=0.3, l1_ratio=1, max_iter=1000, random_state=48, tol=0.0001;, score=0.016 total time=   0.2s\n",
            "[CV 4/5; 57/120] START alpha=0.3, l1_ratio=1, max_iter=1000, random_state=48, tol=0.0001\n",
            "[CV 4/5; 57/120] END alpha=0.3, l1_ratio=1, max_iter=1000, random_state=48, tol=0.0001;, score=0.019 total time=   0.1s\n",
            "[CV 5/5; 57/120] START alpha=0.3, l1_ratio=1, max_iter=1000, random_state=48, tol=0.0001\n",
            "[CV 5/5; 57/120] END alpha=0.3, l1_ratio=1, max_iter=1000, random_state=48, tol=0.0001;, score=0.016 total time=   0.2s\n",
            "[CV 1/5; 58/120] START alpha=0.3, l1_ratio=1, max_iter=1000, random_state=48, tol=0.001\n",
            "[CV 1/5; 58/120] END alpha=0.3, l1_ratio=1, max_iter=1000, random_state=48, tol=0.001;, score=0.011 total time=   0.2s\n",
            "[CV 2/5; 58/120] START alpha=0.3, l1_ratio=1, max_iter=1000, random_state=48, tol=0.001\n",
            "[CV 2/5; 58/120] END alpha=0.3, l1_ratio=1, max_iter=1000, random_state=48, tol=0.001;, score=0.018 total time=   0.1s\n",
            "[CV 3/5; 58/120] START alpha=0.3, l1_ratio=1, max_iter=1000, random_state=48, tol=0.001\n",
            "[CV 3/5; 58/120] END alpha=0.3, l1_ratio=1, max_iter=1000, random_state=48, tol=0.001;, score=0.016 total time=   0.2s\n",
            "[CV 4/5; 58/120] START alpha=0.3, l1_ratio=1, max_iter=1000, random_state=48, tol=0.001\n",
            "[CV 4/5; 58/120] END alpha=0.3, l1_ratio=1, max_iter=1000, random_state=48, tol=0.001;, score=0.019 total time=   0.1s\n",
            "[CV 5/5; 58/120] START alpha=0.3, l1_ratio=1, max_iter=1000, random_state=48, tol=0.001\n",
            "[CV 5/5; 58/120] END alpha=0.3, l1_ratio=1, max_iter=1000, random_state=48, tol=0.001;, score=0.016 total time=   0.2s\n",
            "[CV 1/5; 59/120] START alpha=0.3, l1_ratio=1, max_iter=1000, random_state=2020, tol=0.0001\n",
            "[CV 1/5; 59/120] END alpha=0.3, l1_ratio=1, max_iter=1000, random_state=2020, tol=0.0001;, score=0.011 total time=   0.2s\n",
            "[CV 2/5; 59/120] START alpha=0.3, l1_ratio=1, max_iter=1000, random_state=2020, tol=0.0001\n",
            "[CV 2/5; 59/120] END alpha=0.3, l1_ratio=1, max_iter=1000, random_state=2020, tol=0.0001;, score=0.018 total time=   0.1s\n",
            "[CV 3/5; 59/120] START alpha=0.3, l1_ratio=1, max_iter=1000, random_state=2020, tol=0.0001\n",
            "[CV 3/5; 59/120] END alpha=0.3, l1_ratio=1, max_iter=1000, random_state=2020, tol=0.0001;, score=0.016 total time=   0.2s\n",
            "[CV 4/5; 59/120] START alpha=0.3, l1_ratio=1, max_iter=1000, random_state=2020, tol=0.0001\n",
            "[CV 4/5; 59/120] END alpha=0.3, l1_ratio=1, max_iter=1000, random_state=2020, tol=0.0001;, score=0.019 total time=   0.1s\n",
            "[CV 5/5; 59/120] START alpha=0.3, l1_ratio=1, max_iter=1000, random_state=2020, tol=0.0001\n",
            "[CV 5/5; 59/120] END alpha=0.3, l1_ratio=1, max_iter=1000, random_state=2020, tol=0.0001;, score=0.016 total time=   0.2s\n",
            "[CV 1/5; 60/120] START alpha=0.3, l1_ratio=1, max_iter=1000, random_state=2020, tol=0.001\n",
            "[CV 1/5; 60/120] END alpha=0.3, l1_ratio=1, max_iter=1000, random_state=2020, tol=0.001;, score=0.011 total time=   0.2s\n",
            "[CV 2/5; 60/120] START alpha=0.3, l1_ratio=1, max_iter=1000, random_state=2020, tol=0.001\n",
            "[CV 2/5; 60/120] END alpha=0.3, l1_ratio=1, max_iter=1000, random_state=2020, tol=0.001;, score=0.018 total time=   0.1s\n",
            "[CV 3/5; 60/120] START alpha=0.3, l1_ratio=1, max_iter=1000, random_state=2020, tol=0.001\n",
            "[CV 3/5; 60/120] END alpha=0.3, l1_ratio=1, max_iter=1000, random_state=2020, tol=0.001;, score=0.016 total time=   0.2s\n",
            "[CV 4/5; 60/120] START alpha=0.3, l1_ratio=1, max_iter=1000, random_state=2020, tol=0.001\n",
            "[CV 4/5; 60/120] END alpha=0.3, l1_ratio=1, max_iter=1000, random_state=2020, tol=0.001;, score=0.019 total time=   0.1s\n",
            "[CV 5/5; 60/120] START alpha=0.3, l1_ratio=1, max_iter=1000, random_state=2020, tol=0.001\n",
            "[CV 5/5; 60/120] END alpha=0.3, l1_ratio=1, max_iter=1000, random_state=2020, tol=0.001;, score=0.016 total time=   0.2s\n",
            "[CV 1/5; 61/120] START alpha=0.5, l1_ratio=0.001, max_iter=1000, random_state=24, tol=0.0001\n",
            "[CV 1/5; 61/120] END alpha=0.5, l1_ratio=0.001, max_iter=1000, random_state=24, tol=0.0001;, score=0.011 total time=   0.3s\n",
            "[CV 2/5; 61/120] START alpha=0.5, l1_ratio=0.001, max_iter=1000, random_state=24, tol=0.0001\n",
            "[CV 2/5; 61/120] END alpha=0.5, l1_ratio=0.001, max_iter=1000, random_state=24, tol=0.0001;, score=0.020 total time=   0.2s\n",
            "[CV 3/5; 61/120] START alpha=0.5, l1_ratio=0.001, max_iter=1000, random_state=24, tol=0.0001\n",
            "[CV 3/5; 61/120] END alpha=0.5, l1_ratio=0.001, max_iter=1000, random_state=24, tol=0.0001;, score=0.017 total time=   0.2s\n",
            "[CV 4/5; 61/120] START alpha=0.5, l1_ratio=0.001, max_iter=1000, random_state=24, tol=0.0001\n",
            "[CV 4/5; 61/120] END alpha=0.5, l1_ratio=0.001, max_iter=1000, random_state=24, tol=0.0001;, score=0.022 total time=   0.2s\n",
            "[CV 5/5; 61/120] START alpha=0.5, l1_ratio=0.001, max_iter=1000, random_state=24, tol=0.0001\n",
            "[CV 5/5; 61/120] END alpha=0.5, l1_ratio=0.001, max_iter=1000, random_state=24, tol=0.0001;, score=0.020 total time=   0.3s\n",
            "[CV 1/5; 62/120] START alpha=0.5, l1_ratio=0.001, max_iter=1000, random_state=24, tol=0.001\n",
            "[CV 1/5; 62/120] END alpha=0.5, l1_ratio=0.001, max_iter=1000, random_state=24, tol=0.001;, score=0.011 total time=   0.3s\n",
            "[CV 2/5; 62/120] START alpha=0.5, l1_ratio=0.001, max_iter=1000, random_state=24, tol=0.001\n",
            "[CV 2/5; 62/120] END alpha=0.5, l1_ratio=0.001, max_iter=1000, random_state=24, tol=0.001;, score=0.020 total time=   0.2s\n",
            "[CV 3/5; 62/120] START alpha=0.5, l1_ratio=0.001, max_iter=1000, random_state=24, tol=0.001\n",
            "[CV 3/5; 62/120] END alpha=0.5, l1_ratio=0.001, max_iter=1000, random_state=24, tol=0.001;, score=0.017 total time=   0.2s\n",
            "[CV 4/5; 62/120] START alpha=0.5, l1_ratio=0.001, max_iter=1000, random_state=24, tol=0.001\n",
            "[CV 4/5; 62/120] END alpha=0.5, l1_ratio=0.001, max_iter=1000, random_state=24, tol=0.001;, score=0.022 total time=   0.2s\n",
            "[CV 5/5; 62/120] START alpha=0.5, l1_ratio=0.001, max_iter=1000, random_state=24, tol=0.001\n",
            "[CV 5/5; 62/120] END alpha=0.5, l1_ratio=0.001, max_iter=1000, random_state=24, tol=0.001;, score=0.020 total time=   0.3s\n",
            "[CV 1/5; 63/120] START alpha=0.5, l1_ratio=0.001, max_iter=1000, random_state=48, tol=0.0001\n",
            "[CV 1/5; 63/120] END alpha=0.5, l1_ratio=0.001, max_iter=1000, random_state=48, tol=0.0001;, score=0.011 total time=   0.3s\n",
            "[CV 2/5; 63/120] START alpha=0.5, l1_ratio=0.001, max_iter=1000, random_state=48, tol=0.0001\n",
            "[CV 2/5; 63/120] END alpha=0.5, l1_ratio=0.001, max_iter=1000, random_state=48, tol=0.0001;, score=0.020 total time=   0.2s\n",
            "[CV 3/5; 63/120] START alpha=0.5, l1_ratio=0.001, max_iter=1000, random_state=48, tol=0.0001\n",
            "[CV 3/5; 63/120] END alpha=0.5, l1_ratio=0.001, max_iter=1000, random_state=48, tol=0.0001;, score=0.017 total time=   0.3s\n",
            "[CV 4/5; 63/120] START alpha=0.5, l1_ratio=0.001, max_iter=1000, random_state=48, tol=0.0001\n",
            "[CV 4/5; 63/120] END alpha=0.5, l1_ratio=0.001, max_iter=1000, random_state=48, tol=0.0001;, score=0.022 total time=   0.2s\n",
            "[CV 5/5; 63/120] START alpha=0.5, l1_ratio=0.001, max_iter=1000, random_state=48, tol=0.0001\n",
            "[CV 5/5; 63/120] END alpha=0.5, l1_ratio=0.001, max_iter=1000, random_state=48, tol=0.0001;, score=0.020 total time=   0.3s\n",
            "[CV 1/5; 64/120] START alpha=0.5, l1_ratio=0.001, max_iter=1000, random_state=48, tol=0.001\n",
            "[CV 1/5; 64/120] END alpha=0.5, l1_ratio=0.001, max_iter=1000, random_state=48, tol=0.001;, score=0.011 total time=   0.3s\n",
            "[CV 2/5; 64/120] START alpha=0.5, l1_ratio=0.001, max_iter=1000, random_state=48, tol=0.001\n",
            "[CV 2/5; 64/120] END alpha=0.5, l1_ratio=0.001, max_iter=1000, random_state=48, tol=0.001;, score=0.020 total time=   0.2s\n",
            "[CV 3/5; 64/120] START alpha=0.5, l1_ratio=0.001, max_iter=1000, random_state=48, tol=0.001\n",
            "[CV 3/5; 64/120] END alpha=0.5, l1_ratio=0.001, max_iter=1000, random_state=48, tol=0.001;, score=0.017 total time=   0.2s\n",
            "[CV 4/5; 64/120] START alpha=0.5, l1_ratio=0.001, max_iter=1000, random_state=48, tol=0.001\n",
            "[CV 4/5; 64/120] END alpha=0.5, l1_ratio=0.001, max_iter=1000, random_state=48, tol=0.001;, score=0.022 total time=   0.2s\n",
            "[CV 5/5; 64/120] START alpha=0.5, l1_ratio=0.001, max_iter=1000, random_state=48, tol=0.001\n",
            "[CV 5/5; 64/120] END alpha=0.5, l1_ratio=0.001, max_iter=1000, random_state=48, tol=0.001;, score=0.020 total time=   0.3s\n",
            "[CV 1/5; 65/120] START alpha=0.5, l1_ratio=0.001, max_iter=1000, random_state=2020, tol=0.0001\n",
            "[CV 1/5; 65/120] END alpha=0.5, l1_ratio=0.001, max_iter=1000, random_state=2020, tol=0.0001;, score=0.011 total time=   0.3s\n",
            "[CV 2/5; 65/120] START alpha=0.5, l1_ratio=0.001, max_iter=1000, random_state=2020, tol=0.0001\n",
            "[CV 2/5; 65/120] END alpha=0.5, l1_ratio=0.001, max_iter=1000, random_state=2020, tol=0.0001;, score=0.020 total time=   0.2s\n",
            "[CV 3/5; 65/120] START alpha=0.5, l1_ratio=0.001, max_iter=1000, random_state=2020, tol=0.0001\n",
            "[CV 3/5; 65/120] END alpha=0.5, l1_ratio=0.001, max_iter=1000, random_state=2020, tol=0.0001;, score=0.017 total time=   0.3s\n",
            "[CV 4/5; 65/120] START alpha=0.5, l1_ratio=0.001, max_iter=1000, random_state=2020, tol=0.0001\n",
            "[CV 4/5; 65/120] END alpha=0.5, l1_ratio=0.001, max_iter=1000, random_state=2020, tol=0.0001;, score=0.022 total time=   0.2s\n",
            "[CV 5/5; 65/120] START alpha=0.5, l1_ratio=0.001, max_iter=1000, random_state=2020, tol=0.0001\n",
            "[CV 5/5; 65/120] END alpha=0.5, l1_ratio=0.001, max_iter=1000, random_state=2020, tol=0.0001;, score=0.020 total time=   0.3s\n",
            "[CV 1/5; 66/120] START alpha=0.5, l1_ratio=0.001, max_iter=1000, random_state=2020, tol=0.001\n",
            "[CV 1/5; 66/120] END alpha=0.5, l1_ratio=0.001, max_iter=1000, random_state=2020, tol=0.001;, score=0.011 total time=   0.3s\n",
            "[CV 2/5; 66/120] START alpha=0.5, l1_ratio=0.001, max_iter=1000, random_state=2020, tol=0.001\n",
            "[CV 2/5; 66/120] END alpha=0.5, l1_ratio=0.001, max_iter=1000, random_state=2020, tol=0.001;, score=0.020 total time=   0.2s\n",
            "[CV 3/5; 66/120] START alpha=0.5, l1_ratio=0.001, max_iter=1000, random_state=2020, tol=0.001\n",
            "[CV 3/5; 66/120] END alpha=0.5, l1_ratio=0.001, max_iter=1000, random_state=2020, tol=0.001;, score=0.017 total time=   0.2s\n",
            "[CV 4/5; 66/120] START alpha=0.5, l1_ratio=0.001, max_iter=1000, random_state=2020, tol=0.001\n",
            "[CV 4/5; 66/120] END alpha=0.5, l1_ratio=0.001, max_iter=1000, random_state=2020, tol=0.001;, score=0.022 total time=   0.2s\n",
            "[CV 5/5; 66/120] START alpha=0.5, l1_ratio=0.001, max_iter=1000, random_state=2020, tol=0.001\n",
            "[CV 5/5; 66/120] END alpha=0.5, l1_ratio=0.001, max_iter=1000, random_state=2020, tol=0.001;, score=0.020 total time=   0.3s\n",
            "[CV 1/5; 67/120] START alpha=0.5, l1_ratio=0.1, max_iter=1000, random_state=24, tol=0.0001\n",
            "[CV 1/5; 67/120] END alpha=0.5, l1_ratio=0.1, max_iter=1000, random_state=24, tol=0.0001;, score=0.011 total time=   0.2s\n",
            "[CV 2/5; 67/120] START alpha=0.5, l1_ratio=0.1, max_iter=1000, random_state=24, tol=0.0001\n",
            "[CV 2/5; 67/120] END alpha=0.5, l1_ratio=0.1, max_iter=1000, random_state=24, tol=0.0001;, score=0.019 total time=   0.2s\n",
            "[CV 3/5; 67/120] START alpha=0.5, l1_ratio=0.1, max_iter=1000, random_state=24, tol=0.0001\n",
            "[CV 3/5; 67/120] END alpha=0.5, l1_ratio=0.1, max_iter=1000, random_state=24, tol=0.0001;, score=0.017 total time=   0.2s\n",
            "[CV 4/5; 67/120] START alpha=0.5, l1_ratio=0.1, max_iter=1000, random_state=24, tol=0.0001\n",
            "[CV 4/5; 67/120] END alpha=0.5, l1_ratio=0.1, max_iter=1000, random_state=24, tol=0.0001;, score=0.022 total time=   0.2s\n",
            "[CV 5/5; 67/120] START alpha=0.5, l1_ratio=0.1, max_iter=1000, random_state=24, tol=0.0001\n",
            "[CV 5/5; 67/120] END alpha=0.5, l1_ratio=0.1, max_iter=1000, random_state=24, tol=0.0001;, score=0.018 total time=   0.2s\n",
            "[CV 1/5; 68/120] START alpha=0.5, l1_ratio=0.1, max_iter=1000, random_state=24, tol=0.001\n",
            "[CV 1/5; 68/120] END alpha=0.5, l1_ratio=0.1, max_iter=1000, random_state=24, tol=0.001;, score=0.011 total time=   0.2s\n",
            "[CV 2/5; 68/120] START alpha=0.5, l1_ratio=0.1, max_iter=1000, random_state=24, tol=0.001\n",
            "[CV 2/5; 68/120] END alpha=0.5, l1_ratio=0.1, max_iter=1000, random_state=24, tol=0.001;, score=0.019 total time=   0.2s\n",
            "[CV 3/5; 68/120] START alpha=0.5, l1_ratio=0.1, max_iter=1000, random_state=24, tol=0.001\n",
            "[CV 3/5; 68/120] END alpha=0.5, l1_ratio=0.1, max_iter=1000, random_state=24, tol=0.001;, score=0.017 total time=   0.2s\n",
            "[CV 4/5; 68/120] START alpha=0.5, l1_ratio=0.1, max_iter=1000, random_state=24, tol=0.001\n",
            "[CV 4/5; 68/120] END alpha=0.5, l1_ratio=0.1, max_iter=1000, random_state=24, tol=0.001;, score=0.022 total time=   0.2s\n",
            "[CV 5/5; 68/120] START alpha=0.5, l1_ratio=0.1, max_iter=1000, random_state=24, tol=0.001\n",
            "[CV 5/5; 68/120] END alpha=0.5, l1_ratio=0.1, max_iter=1000, random_state=24, tol=0.001;, score=0.018 total time=   0.2s\n",
            "[CV 1/5; 69/120] START alpha=0.5, l1_ratio=0.1, max_iter=1000, random_state=48, tol=0.0001\n",
            "[CV 1/5; 69/120] END alpha=0.5, l1_ratio=0.1, max_iter=1000, random_state=48, tol=0.0001;, score=0.011 total time=   0.2s\n",
            "[CV 2/5; 69/120] START alpha=0.5, l1_ratio=0.1, max_iter=1000, random_state=48, tol=0.0001\n",
            "[CV 2/5; 69/120] END alpha=0.5, l1_ratio=0.1, max_iter=1000, random_state=48, tol=0.0001;, score=0.019 total time=   0.2s\n",
            "[CV 3/5; 69/120] START alpha=0.5, l1_ratio=0.1, max_iter=1000, random_state=48, tol=0.0001\n",
            "[CV 3/5; 69/120] END alpha=0.5, l1_ratio=0.1, max_iter=1000, random_state=48, tol=0.0001;, score=0.017 total time=   0.2s\n",
            "[CV 4/5; 69/120] START alpha=0.5, l1_ratio=0.1, max_iter=1000, random_state=48, tol=0.0001\n",
            "[CV 4/5; 69/120] END alpha=0.5, l1_ratio=0.1, max_iter=1000, random_state=48, tol=0.0001;, score=0.022 total time=   0.2s\n",
            "[CV 5/5; 69/120] START alpha=0.5, l1_ratio=0.1, max_iter=1000, random_state=48, tol=0.0001\n",
            "[CV 5/5; 69/120] END alpha=0.5, l1_ratio=0.1, max_iter=1000, random_state=48, tol=0.0001;, score=0.018 total time=   0.2s\n",
            "[CV 1/5; 70/120] START alpha=0.5, l1_ratio=0.1, max_iter=1000, random_state=48, tol=0.001\n",
            "[CV 1/5; 70/120] END alpha=0.5, l1_ratio=0.1, max_iter=1000, random_state=48, tol=0.001;, score=0.011 total time=   0.2s\n",
            "[CV 2/5; 70/120] START alpha=0.5, l1_ratio=0.1, max_iter=1000, random_state=48, tol=0.001\n",
            "[CV 2/5; 70/120] END alpha=0.5, l1_ratio=0.1, max_iter=1000, random_state=48, tol=0.001;, score=0.019 total time=   0.2s\n",
            "[CV 3/5; 70/120] START alpha=0.5, l1_ratio=0.1, max_iter=1000, random_state=48, tol=0.001\n",
            "[CV 3/5; 70/120] END alpha=0.5, l1_ratio=0.1, max_iter=1000, random_state=48, tol=0.001;, score=0.017 total time=   0.2s\n",
            "[CV 4/5; 70/120] START alpha=0.5, l1_ratio=0.1, max_iter=1000, random_state=48, tol=0.001\n",
            "[CV 4/5; 70/120] END alpha=0.5, l1_ratio=0.1, max_iter=1000, random_state=48, tol=0.001;, score=0.022 total time=   0.1s\n",
            "[CV 5/5; 70/120] START alpha=0.5, l1_ratio=0.1, max_iter=1000, random_state=48, tol=0.001\n",
            "[CV 5/5; 70/120] END alpha=0.5, l1_ratio=0.1, max_iter=1000, random_state=48, tol=0.001;, score=0.018 total time=   0.2s\n",
            "[CV 1/5; 71/120] START alpha=0.5, l1_ratio=0.1, max_iter=1000, random_state=2020, tol=0.0001\n",
            "[CV 1/5; 71/120] END alpha=0.5, l1_ratio=0.1, max_iter=1000, random_state=2020, tol=0.0001;, score=0.011 total time=   0.2s\n",
            "[CV 2/5; 71/120] START alpha=0.5, l1_ratio=0.1, max_iter=1000, random_state=2020, tol=0.0001\n",
            "[CV 2/5; 71/120] END alpha=0.5, l1_ratio=0.1, max_iter=1000, random_state=2020, tol=0.0001;, score=0.019 total time=   0.2s\n",
            "[CV 3/5; 71/120] START alpha=0.5, l1_ratio=0.1, max_iter=1000, random_state=2020, tol=0.0001\n",
            "[CV 3/5; 71/120] END alpha=0.5, l1_ratio=0.1, max_iter=1000, random_state=2020, tol=0.0001;, score=0.017 total time=   0.2s\n",
            "[CV 4/5; 71/120] START alpha=0.5, l1_ratio=0.1, max_iter=1000, random_state=2020, tol=0.0001\n",
            "[CV 4/5; 71/120] END alpha=0.5, l1_ratio=0.1, max_iter=1000, random_state=2020, tol=0.0001;, score=0.022 total time=   0.2s\n",
            "[CV 5/5; 71/120] START alpha=0.5, l1_ratio=0.1, max_iter=1000, random_state=2020, tol=0.0001\n",
            "[CV 5/5; 71/120] END alpha=0.5, l1_ratio=0.1, max_iter=1000, random_state=2020, tol=0.0001;, score=0.018 total time=   0.2s\n",
            "[CV 1/5; 72/120] START alpha=0.5, l1_ratio=0.1, max_iter=1000, random_state=2020, tol=0.001\n",
            "[CV 1/5; 72/120] END alpha=0.5, l1_ratio=0.1, max_iter=1000, random_state=2020, tol=0.001;, score=0.011 total time=   0.2s\n",
            "[CV 2/5; 72/120] START alpha=0.5, l1_ratio=0.1, max_iter=1000, random_state=2020, tol=0.001\n",
            "[CV 2/5; 72/120] END alpha=0.5, l1_ratio=0.1, max_iter=1000, random_state=2020, tol=0.001;, score=0.019 total time=   0.2s\n",
            "[CV 3/5; 72/120] START alpha=0.5, l1_ratio=0.1, max_iter=1000, random_state=2020, tol=0.001\n",
            "[CV 3/5; 72/120] END alpha=0.5, l1_ratio=0.1, max_iter=1000, random_state=2020, tol=0.001;, score=0.017 total time=   0.2s\n",
            "[CV 4/5; 72/120] START alpha=0.5, l1_ratio=0.1, max_iter=1000, random_state=2020, tol=0.001\n",
            "[CV 4/5; 72/120] END alpha=0.5, l1_ratio=0.1, max_iter=1000, random_state=2020, tol=0.001;, score=0.022 total time=   0.2s\n",
            "[CV 5/5; 72/120] START alpha=0.5, l1_ratio=0.1, max_iter=1000, random_state=2020, tol=0.001\n",
            "[CV 5/5; 72/120] END alpha=0.5, l1_ratio=0.1, max_iter=1000, random_state=2020, tol=0.001;, score=0.018 total time=   0.2s\n",
            "[CV 1/5; 73/120] START alpha=0.5, l1_ratio=0.5, max_iter=1000, random_state=24, tol=0.0001\n",
            "[CV 1/5; 73/120] END alpha=0.5, l1_ratio=0.5, max_iter=1000, random_state=24, tol=0.0001;, score=0.011 total time=   0.2s\n",
            "[CV 2/5; 73/120] START alpha=0.5, l1_ratio=0.5, max_iter=1000, random_state=24, tol=0.0001\n",
            "[CV 2/5; 73/120] END alpha=0.5, l1_ratio=0.5, max_iter=1000, random_state=24, tol=0.0001;, score=0.018 total time=   0.1s\n",
            "[CV 3/5; 73/120] START alpha=0.5, l1_ratio=0.5, max_iter=1000, random_state=24, tol=0.0001\n",
            "[CV 3/5; 73/120] END alpha=0.5, l1_ratio=0.5, max_iter=1000, random_state=24, tol=0.0001;, score=0.016 total time=   0.2s\n",
            "[CV 4/5; 73/120] START alpha=0.5, l1_ratio=0.5, max_iter=1000, random_state=24, tol=0.0001\n",
            "[CV 4/5; 73/120] END alpha=0.5, l1_ratio=0.5, max_iter=1000, random_state=24, tol=0.0001;, score=0.020 total time=   0.1s\n",
            "[CV 5/5; 73/120] START alpha=0.5, l1_ratio=0.5, max_iter=1000, random_state=24, tol=0.0001\n",
            "[CV 5/5; 73/120] END alpha=0.5, l1_ratio=0.5, max_iter=1000, random_state=24, tol=0.0001;, score=0.016 total time=   0.2s\n",
            "[CV 1/5; 74/120] START alpha=0.5, l1_ratio=0.5, max_iter=1000, random_state=24, tol=0.001\n",
            "[CV 1/5; 74/120] END alpha=0.5, l1_ratio=0.5, max_iter=1000, random_state=24, tol=0.001;, score=0.011 total time=   0.2s\n",
            "[CV 2/5; 74/120] START alpha=0.5, l1_ratio=0.5, max_iter=1000, random_state=24, tol=0.001\n",
            "[CV 2/5; 74/120] END alpha=0.5, l1_ratio=0.5, max_iter=1000, random_state=24, tol=0.001;, score=0.018 total time=   0.1s\n",
            "[CV 3/5; 74/120] START alpha=0.5, l1_ratio=0.5, max_iter=1000, random_state=24, tol=0.001\n",
            "[CV 3/5; 74/120] END alpha=0.5, l1_ratio=0.5, max_iter=1000, random_state=24, tol=0.001;, score=0.016 total time=   0.2s\n",
            "[CV 4/5; 74/120] START alpha=0.5, l1_ratio=0.5, max_iter=1000, random_state=24, tol=0.001\n",
            "[CV 4/5; 74/120] END alpha=0.5, l1_ratio=0.5, max_iter=1000, random_state=24, tol=0.001;, score=0.020 total time=   0.1s\n",
            "[CV 5/5; 74/120] START alpha=0.5, l1_ratio=0.5, max_iter=1000, random_state=24, tol=0.001\n",
            "[CV 5/5; 74/120] END alpha=0.5, l1_ratio=0.5, max_iter=1000, random_state=24, tol=0.001;, score=0.016 total time=   0.2s\n",
            "[CV 1/5; 75/120] START alpha=0.5, l1_ratio=0.5, max_iter=1000, random_state=48, tol=0.0001\n",
            "[CV 1/5; 75/120] END alpha=0.5, l1_ratio=0.5, max_iter=1000, random_state=48, tol=0.0001;, score=0.011 total time=   0.2s\n",
            "[CV 2/5; 75/120] START alpha=0.5, l1_ratio=0.5, max_iter=1000, random_state=48, tol=0.0001\n",
            "[CV 2/5; 75/120] END alpha=0.5, l1_ratio=0.5, max_iter=1000, random_state=48, tol=0.0001;, score=0.018 total time=   0.1s\n",
            "[CV 3/5; 75/120] START alpha=0.5, l1_ratio=0.5, max_iter=1000, random_state=48, tol=0.0001\n",
            "[CV 3/5; 75/120] END alpha=0.5, l1_ratio=0.5, max_iter=1000, random_state=48, tol=0.0001;, score=0.016 total time=   0.2s\n",
            "[CV 4/5; 75/120] START alpha=0.5, l1_ratio=0.5, max_iter=1000, random_state=48, tol=0.0001\n",
            "[CV 4/5; 75/120] END alpha=0.5, l1_ratio=0.5, max_iter=1000, random_state=48, tol=0.0001;, score=0.020 total time=   0.1s\n",
            "[CV 5/5; 75/120] START alpha=0.5, l1_ratio=0.5, max_iter=1000, random_state=48, tol=0.0001\n",
            "[CV 5/5; 75/120] END alpha=0.5, l1_ratio=0.5, max_iter=1000, random_state=48, tol=0.0001;, score=0.016 total time=   0.2s\n",
            "[CV 1/5; 76/120] START alpha=0.5, l1_ratio=0.5, max_iter=1000, random_state=48, tol=0.001\n",
            "[CV 1/5; 76/120] END alpha=0.5, l1_ratio=0.5, max_iter=1000, random_state=48, tol=0.001;, score=0.011 total time=   0.2s\n",
            "[CV 2/5; 76/120] START alpha=0.5, l1_ratio=0.5, max_iter=1000, random_state=48, tol=0.001\n",
            "[CV 2/5; 76/120] END alpha=0.5, l1_ratio=0.5, max_iter=1000, random_state=48, tol=0.001;, score=0.018 total time=   0.1s\n",
            "[CV 3/5; 76/120] START alpha=0.5, l1_ratio=0.5, max_iter=1000, random_state=48, tol=0.001\n",
            "[CV 3/5; 76/120] END alpha=0.5, l1_ratio=0.5, max_iter=1000, random_state=48, tol=0.001;, score=0.016 total time=   0.2s\n",
            "[CV 4/5; 76/120] START alpha=0.5, l1_ratio=0.5, max_iter=1000, random_state=48, tol=0.001\n",
            "[CV 4/5; 76/120] END alpha=0.5, l1_ratio=0.5, max_iter=1000, random_state=48, tol=0.001;, score=0.020 total time=   0.1s\n",
            "[CV 5/5; 76/120] START alpha=0.5, l1_ratio=0.5, max_iter=1000, random_state=48, tol=0.001\n",
            "[CV 5/5; 76/120] END alpha=0.5, l1_ratio=0.5, max_iter=1000, random_state=48, tol=0.001;, score=0.016 total time=   0.2s\n",
            "[CV 1/5; 77/120] START alpha=0.5, l1_ratio=0.5, max_iter=1000, random_state=2020, tol=0.0001\n",
            "[CV 1/5; 77/120] END alpha=0.5, l1_ratio=0.5, max_iter=1000, random_state=2020, tol=0.0001;, score=0.011 total time=   0.2s\n",
            "[CV 2/5; 77/120] START alpha=0.5, l1_ratio=0.5, max_iter=1000, random_state=2020, tol=0.0001\n",
            "[CV 2/5; 77/120] END alpha=0.5, l1_ratio=0.5, max_iter=1000, random_state=2020, tol=0.0001;, score=0.018 total time=   0.1s\n",
            "[CV 3/5; 77/120] START alpha=0.5, l1_ratio=0.5, max_iter=1000, random_state=2020, tol=0.0001\n",
            "[CV 3/5; 77/120] END alpha=0.5, l1_ratio=0.5, max_iter=1000, random_state=2020, tol=0.0001;, score=0.016 total time=   0.2s\n",
            "[CV 4/5; 77/120] START alpha=0.5, l1_ratio=0.5, max_iter=1000, random_state=2020, tol=0.0001\n",
            "[CV 4/5; 77/120] END alpha=0.5, l1_ratio=0.5, max_iter=1000, random_state=2020, tol=0.0001;, score=0.020 total time=   0.1s\n",
            "[CV 5/5; 77/120] START alpha=0.5, l1_ratio=0.5, max_iter=1000, random_state=2020, tol=0.0001\n",
            "[CV 5/5; 77/120] END alpha=0.5, l1_ratio=0.5, max_iter=1000, random_state=2020, tol=0.0001;, score=0.016 total time=   0.2s\n",
            "[CV 1/5; 78/120] START alpha=0.5, l1_ratio=0.5, max_iter=1000, random_state=2020, tol=0.001\n",
            "[CV 1/5; 78/120] END alpha=0.5, l1_ratio=0.5, max_iter=1000, random_state=2020, tol=0.001;, score=0.011 total time=   0.2s\n",
            "[CV 2/5; 78/120] START alpha=0.5, l1_ratio=0.5, max_iter=1000, random_state=2020, tol=0.001\n",
            "[CV 2/5; 78/120] END alpha=0.5, l1_ratio=0.5, max_iter=1000, random_state=2020, tol=0.001;, score=0.018 total time=   0.1s\n",
            "[CV 3/5; 78/120] START alpha=0.5, l1_ratio=0.5, max_iter=1000, random_state=2020, tol=0.001\n",
            "[CV 3/5; 78/120] END alpha=0.5, l1_ratio=0.5, max_iter=1000, random_state=2020, tol=0.001;, score=0.016 total time=   0.2s\n",
            "[CV 4/5; 78/120] START alpha=0.5, l1_ratio=0.5, max_iter=1000, random_state=2020, tol=0.001\n",
            "[CV 4/5; 78/120] END alpha=0.5, l1_ratio=0.5, max_iter=1000, random_state=2020, tol=0.001;, score=0.020 total time=   0.1s\n",
            "[CV 5/5; 78/120] START alpha=0.5, l1_ratio=0.5, max_iter=1000, random_state=2020, tol=0.001\n",
            "[CV 5/5; 78/120] END alpha=0.5, l1_ratio=0.5, max_iter=1000, random_state=2020, tol=0.001;, score=0.016 total time=   0.2s\n",
            "[CV 1/5; 79/120] START alpha=0.5, l1_ratio=0.6, max_iter=1000, random_state=24, tol=0.0001\n",
            "[CV 1/5; 79/120] END alpha=0.5, l1_ratio=0.6, max_iter=1000, random_state=24, tol=0.0001;, score=0.011 total time=   0.2s\n",
            "[CV 2/5; 79/120] START alpha=0.5, l1_ratio=0.6, max_iter=1000, random_state=24, tol=0.0001\n",
            "[CV 2/5; 79/120] END alpha=0.5, l1_ratio=0.6, max_iter=1000, random_state=24, tol=0.0001;, score=0.018 total time=   0.1s\n",
            "[CV 3/5; 79/120] START alpha=0.5, l1_ratio=0.6, max_iter=1000, random_state=24, tol=0.0001\n",
            "[CV 3/5; 79/120] END alpha=0.5, l1_ratio=0.6, max_iter=1000, random_state=24, tol=0.0001;, score=0.016 total time=   0.2s\n",
            "[CV 4/5; 79/120] START alpha=0.5, l1_ratio=0.6, max_iter=1000, random_state=24, tol=0.0001\n",
            "[CV 4/5; 79/120] END alpha=0.5, l1_ratio=0.6, max_iter=1000, random_state=24, tol=0.0001;, score=0.019 total time=   0.1s\n",
            "[CV 5/5; 79/120] START alpha=0.5, l1_ratio=0.6, max_iter=1000, random_state=24, tol=0.0001\n",
            "[CV 5/5; 79/120] END alpha=0.5, l1_ratio=0.6, max_iter=1000, random_state=24, tol=0.0001;, score=0.016 total time=   0.2s\n",
            "[CV 1/5; 80/120] START alpha=0.5, l1_ratio=0.6, max_iter=1000, random_state=24, tol=0.001\n",
            "[CV 1/5; 80/120] END alpha=0.5, l1_ratio=0.6, max_iter=1000, random_state=24, tol=0.001;, score=0.011 total time=   0.2s\n",
            "[CV 2/5; 80/120] START alpha=0.5, l1_ratio=0.6, max_iter=1000, random_state=24, tol=0.001\n",
            "[CV 2/5; 80/120] END alpha=0.5, l1_ratio=0.6, max_iter=1000, random_state=24, tol=0.001;, score=0.018 total time=   0.1s\n",
            "[CV 3/5; 80/120] START alpha=0.5, l1_ratio=0.6, max_iter=1000, random_state=24, tol=0.001\n",
            "[CV 3/5; 80/120] END alpha=0.5, l1_ratio=0.6, max_iter=1000, random_state=24, tol=0.001;, score=0.016 total time=   0.2s\n",
            "[CV 4/5; 80/120] START alpha=0.5, l1_ratio=0.6, max_iter=1000, random_state=24, tol=0.001\n",
            "[CV 4/5; 80/120] END alpha=0.5, l1_ratio=0.6, max_iter=1000, random_state=24, tol=0.001;, score=0.019 total time=   0.2s\n",
            "[CV 5/5; 80/120] START alpha=0.5, l1_ratio=0.6, max_iter=1000, random_state=24, tol=0.001\n",
            "[CV 5/5; 80/120] END alpha=0.5, l1_ratio=0.6, max_iter=1000, random_state=24, tol=0.001;, score=0.016 total time=   0.2s\n",
            "[CV 1/5; 81/120] START alpha=0.5, l1_ratio=0.6, max_iter=1000, random_state=48, tol=0.0001\n",
            "[CV 1/5; 81/120] END alpha=0.5, l1_ratio=0.6, max_iter=1000, random_state=48, tol=0.0001;, score=0.011 total time=   0.2s\n",
            "[CV 2/5; 81/120] START alpha=0.5, l1_ratio=0.6, max_iter=1000, random_state=48, tol=0.0001\n",
            "[CV 2/5; 81/120] END alpha=0.5, l1_ratio=0.6, max_iter=1000, random_state=48, tol=0.0001;, score=0.018 total time=   0.1s\n",
            "[CV 3/5; 81/120] START alpha=0.5, l1_ratio=0.6, max_iter=1000, random_state=48, tol=0.0001\n",
            "[CV 3/5; 81/120] END alpha=0.5, l1_ratio=0.6, max_iter=1000, random_state=48, tol=0.0001;, score=0.016 total time=   0.2s\n",
            "[CV 4/5; 81/120] START alpha=0.5, l1_ratio=0.6, max_iter=1000, random_state=48, tol=0.0001\n",
            "[CV 4/5; 81/120] END alpha=0.5, l1_ratio=0.6, max_iter=1000, random_state=48, tol=0.0001;, score=0.019 total time=   0.1s\n",
            "[CV 5/5; 81/120] START alpha=0.5, l1_ratio=0.6, max_iter=1000, random_state=48, tol=0.0001\n",
            "[CV 5/5; 81/120] END alpha=0.5, l1_ratio=0.6, max_iter=1000, random_state=48, tol=0.0001;, score=0.016 total time=   0.2s\n",
            "[CV 1/5; 82/120] START alpha=0.5, l1_ratio=0.6, max_iter=1000, random_state=48, tol=0.001\n",
            "[CV 1/5; 82/120] END alpha=0.5, l1_ratio=0.6, max_iter=1000, random_state=48, tol=0.001;, score=0.011 total time=   0.2s\n",
            "[CV 2/5; 82/120] START alpha=0.5, l1_ratio=0.6, max_iter=1000, random_state=48, tol=0.001\n",
            "[CV 2/5; 82/120] END alpha=0.5, l1_ratio=0.6, max_iter=1000, random_state=48, tol=0.001;, score=0.018 total time=   0.1s\n",
            "[CV 3/5; 82/120] START alpha=0.5, l1_ratio=0.6, max_iter=1000, random_state=48, tol=0.001\n",
            "[CV 3/5; 82/120] END alpha=0.5, l1_ratio=0.6, max_iter=1000, random_state=48, tol=0.001;, score=0.016 total time=   0.2s\n",
            "[CV 4/5; 82/120] START alpha=0.5, l1_ratio=0.6, max_iter=1000, random_state=48, tol=0.001\n",
            "[CV 4/5; 82/120] END alpha=0.5, l1_ratio=0.6, max_iter=1000, random_state=48, tol=0.001;, score=0.019 total time=   0.1s\n",
            "[CV 5/5; 82/120] START alpha=0.5, l1_ratio=0.6, max_iter=1000, random_state=48, tol=0.001\n",
            "[CV 5/5; 82/120] END alpha=0.5, l1_ratio=0.6, max_iter=1000, random_state=48, tol=0.001;, score=0.016 total time=   0.2s\n",
            "[CV 1/5; 83/120] START alpha=0.5, l1_ratio=0.6, max_iter=1000, random_state=2020, tol=0.0001\n",
            "[CV 1/5; 83/120] END alpha=0.5, l1_ratio=0.6, max_iter=1000, random_state=2020, tol=0.0001;, score=0.011 total time=   0.2s\n",
            "[CV 2/5; 83/120] START alpha=0.5, l1_ratio=0.6, max_iter=1000, random_state=2020, tol=0.0001\n",
            "[CV 2/5; 83/120] END alpha=0.5, l1_ratio=0.6, max_iter=1000, random_state=2020, tol=0.0001;, score=0.018 total time=   0.1s\n",
            "[CV 3/5; 83/120] START alpha=0.5, l1_ratio=0.6, max_iter=1000, random_state=2020, tol=0.0001\n",
            "[CV 3/5; 83/120] END alpha=0.5, l1_ratio=0.6, max_iter=1000, random_state=2020, tol=0.0001;, score=0.016 total time=   0.2s\n",
            "[CV 4/5; 83/120] START alpha=0.5, l1_ratio=0.6, max_iter=1000, random_state=2020, tol=0.0001\n",
            "[CV 4/5; 83/120] END alpha=0.5, l1_ratio=0.6, max_iter=1000, random_state=2020, tol=0.0001;, score=0.019 total time=   0.1s\n",
            "[CV 5/5; 83/120] START alpha=0.5, l1_ratio=0.6, max_iter=1000, random_state=2020, tol=0.0001\n",
            "[CV 5/5; 83/120] END alpha=0.5, l1_ratio=0.6, max_iter=1000, random_state=2020, tol=0.0001;, score=0.016 total time=   0.2s\n",
            "[CV 1/5; 84/120] START alpha=0.5, l1_ratio=0.6, max_iter=1000, random_state=2020, tol=0.001\n",
            "[CV 1/5; 84/120] END alpha=0.5, l1_ratio=0.6, max_iter=1000, random_state=2020, tol=0.001;, score=0.011 total time=   0.2s\n",
            "[CV 2/5; 84/120] START alpha=0.5, l1_ratio=0.6, max_iter=1000, random_state=2020, tol=0.001\n",
            "[CV 2/5; 84/120] END alpha=0.5, l1_ratio=0.6, max_iter=1000, random_state=2020, tol=0.001;, score=0.018 total time=   0.2s\n",
            "[CV 3/5; 84/120] START alpha=0.5, l1_ratio=0.6, max_iter=1000, random_state=2020, tol=0.001\n",
            "[CV 3/5; 84/120] END alpha=0.5, l1_ratio=0.6, max_iter=1000, random_state=2020, tol=0.001;, score=0.016 total time=   0.2s\n",
            "[CV 4/5; 84/120] START alpha=0.5, l1_ratio=0.6, max_iter=1000, random_state=2020, tol=0.001\n",
            "[CV 4/5; 84/120] END alpha=0.5, l1_ratio=0.6, max_iter=1000, random_state=2020, tol=0.001;, score=0.019 total time=   0.1s\n",
            "[CV 5/5; 84/120] START alpha=0.5, l1_ratio=0.6, max_iter=1000, random_state=2020, tol=0.001\n",
            "[CV 5/5; 84/120] END alpha=0.5, l1_ratio=0.6, max_iter=1000, random_state=2020, tol=0.001;, score=0.016 total time=   0.2s\n",
            "[CV 1/5; 85/120] START alpha=0.5, l1_ratio=1, max_iter=1000, random_state=24, tol=0.0001\n",
            "[CV 1/5; 85/120] END alpha=0.5, l1_ratio=1, max_iter=1000, random_state=24, tol=0.0001;, score=0.011 total time=   0.2s\n",
            "[CV 2/5; 85/120] START alpha=0.5, l1_ratio=1, max_iter=1000, random_state=24, tol=0.0001\n",
            "[CV 2/5; 85/120] END alpha=0.5, l1_ratio=1, max_iter=1000, random_state=24, tol=0.0001;, score=0.016 total time=   0.1s\n",
            "[CV 3/5; 85/120] START alpha=0.5, l1_ratio=1, max_iter=1000, random_state=24, tol=0.0001\n",
            "[CV 3/5; 85/120] END alpha=0.5, l1_ratio=1, max_iter=1000, random_state=24, tol=0.0001;, score=0.014 total time=   0.2s\n",
            "[CV 4/5; 85/120] START alpha=0.5, l1_ratio=1, max_iter=1000, random_state=24, tol=0.0001\n",
            "[CV 4/5; 85/120] END alpha=0.5, l1_ratio=1, max_iter=1000, random_state=24, tol=0.0001;, score=0.018 total time=   0.1s\n",
            "[CV 5/5; 85/120] START alpha=0.5, l1_ratio=1, max_iter=1000, random_state=24, tol=0.0001\n",
            "[CV 5/5; 85/120] END alpha=0.5, l1_ratio=1, max_iter=1000, random_state=24, tol=0.0001;, score=0.015 total time=   0.2s\n",
            "[CV 1/5; 86/120] START alpha=0.5, l1_ratio=1, max_iter=1000, random_state=24, tol=0.001\n",
            "[CV 1/5; 86/120] END alpha=0.5, l1_ratio=1, max_iter=1000, random_state=24, tol=0.001;, score=0.011 total time=   0.2s\n",
            "[CV 2/5; 86/120] START alpha=0.5, l1_ratio=1, max_iter=1000, random_state=24, tol=0.001\n",
            "[CV 2/5; 86/120] END alpha=0.5, l1_ratio=1, max_iter=1000, random_state=24, tol=0.001;, score=0.016 total time=   0.1s\n",
            "[CV 3/5; 86/120] START alpha=0.5, l1_ratio=1, max_iter=1000, random_state=24, tol=0.001\n",
            "[CV 3/5; 86/120] END alpha=0.5, l1_ratio=1, max_iter=1000, random_state=24, tol=0.001;, score=0.014 total time=   0.2s\n",
            "[CV 4/5; 86/120] START alpha=0.5, l1_ratio=1, max_iter=1000, random_state=24, tol=0.001\n",
            "[CV 4/5; 86/120] END alpha=0.5, l1_ratio=1, max_iter=1000, random_state=24, tol=0.001;, score=0.018 total time=   0.1s\n",
            "[CV 5/5; 86/120] START alpha=0.5, l1_ratio=1, max_iter=1000, random_state=24, tol=0.001\n",
            "[CV 5/5; 86/120] END alpha=0.5, l1_ratio=1, max_iter=1000, random_state=24, tol=0.001;, score=0.015 total time=   0.2s\n",
            "[CV 1/5; 87/120] START alpha=0.5, l1_ratio=1, max_iter=1000, random_state=48, tol=0.0001\n",
            "[CV 1/5; 87/120] END alpha=0.5, l1_ratio=1, max_iter=1000, random_state=48, tol=0.0001;, score=0.011 total time=   0.2s\n",
            "[CV 2/5; 87/120] START alpha=0.5, l1_ratio=1, max_iter=1000, random_state=48, tol=0.0001\n",
            "[CV 2/5; 87/120] END alpha=0.5, l1_ratio=1, max_iter=1000, random_state=48, tol=0.0001;, score=0.016 total time=   0.1s\n",
            "[CV 3/5; 87/120] START alpha=0.5, l1_ratio=1, max_iter=1000, random_state=48, tol=0.0001\n",
            "[CV 3/5; 87/120] END alpha=0.5, l1_ratio=1, max_iter=1000, random_state=48, tol=0.0001;, score=0.014 total time=   0.2s\n",
            "[CV 4/5; 87/120] START alpha=0.5, l1_ratio=1, max_iter=1000, random_state=48, tol=0.0001\n",
            "[CV 4/5; 87/120] END alpha=0.5, l1_ratio=1, max_iter=1000, random_state=48, tol=0.0001;, score=0.018 total time=   0.2s\n",
            "[CV 5/5; 87/120] START alpha=0.5, l1_ratio=1, max_iter=1000, random_state=48, tol=0.0001\n",
            "[CV 5/5; 87/120] END alpha=0.5, l1_ratio=1, max_iter=1000, random_state=48, tol=0.0001;, score=0.015 total time=   0.2s\n",
            "[CV 1/5; 88/120] START alpha=0.5, l1_ratio=1, max_iter=1000, random_state=48, tol=0.001\n",
            "[CV 1/5; 88/120] END alpha=0.5, l1_ratio=1, max_iter=1000, random_state=48, tol=0.001;, score=0.011 total time=   0.2s\n",
            "[CV 2/5; 88/120] START alpha=0.5, l1_ratio=1, max_iter=1000, random_state=48, tol=0.001\n",
            "[CV 2/5; 88/120] END alpha=0.5, l1_ratio=1, max_iter=1000, random_state=48, tol=0.001;, score=0.016 total time=   0.1s\n",
            "[CV 3/5; 88/120] START alpha=0.5, l1_ratio=1, max_iter=1000, random_state=48, tol=0.001\n",
            "[CV 3/5; 88/120] END alpha=0.5, l1_ratio=1, max_iter=1000, random_state=48, tol=0.001;, score=0.014 total time=   0.2s\n",
            "[CV 4/5; 88/120] START alpha=0.5, l1_ratio=1, max_iter=1000, random_state=48, tol=0.001\n",
            "[CV 4/5; 88/120] END alpha=0.5, l1_ratio=1, max_iter=1000, random_state=48, tol=0.001;, score=0.018 total time=   0.1s\n",
            "[CV 5/5; 88/120] START alpha=0.5, l1_ratio=1, max_iter=1000, random_state=48, tol=0.001\n",
            "[CV 5/5; 88/120] END alpha=0.5, l1_ratio=1, max_iter=1000, random_state=48, tol=0.001;, score=0.015 total time=   0.2s\n",
            "[CV 1/5; 89/120] START alpha=0.5, l1_ratio=1, max_iter=1000, random_state=2020, tol=0.0001\n",
            "[CV 1/5; 89/120] END alpha=0.5, l1_ratio=1, max_iter=1000, random_state=2020, tol=0.0001;, score=0.011 total time=   0.2s\n",
            "[CV 2/5; 89/120] START alpha=0.5, l1_ratio=1, max_iter=1000, random_state=2020, tol=0.0001\n",
            "[CV 2/5; 89/120] END alpha=0.5, l1_ratio=1, max_iter=1000, random_state=2020, tol=0.0001;, score=0.016 total time=   0.2s\n",
            "[CV 3/5; 89/120] START alpha=0.5, l1_ratio=1, max_iter=1000, random_state=2020, tol=0.0001\n",
            "[CV 3/5; 89/120] END alpha=0.5, l1_ratio=1, max_iter=1000, random_state=2020, tol=0.0001;, score=0.014 total time=   0.2s\n",
            "[CV 4/5; 89/120] START alpha=0.5, l1_ratio=1, max_iter=1000, random_state=2020, tol=0.0001\n",
            "[CV 4/5; 89/120] END alpha=0.5, l1_ratio=1, max_iter=1000, random_state=2020, tol=0.0001;, score=0.018 total time=   0.1s\n",
            "[CV 5/5; 89/120] START alpha=0.5, l1_ratio=1, max_iter=1000, random_state=2020, tol=0.0001\n",
            "[CV 5/5; 89/120] END alpha=0.5, l1_ratio=1, max_iter=1000, random_state=2020, tol=0.0001;, score=0.015 total time=   0.2s\n",
            "[CV 1/5; 90/120] START alpha=0.5, l1_ratio=1, max_iter=1000, random_state=2020, tol=0.001\n",
            "[CV 1/5; 90/120] END alpha=0.5, l1_ratio=1, max_iter=1000, random_state=2020, tol=0.001;, score=0.011 total time=   0.2s\n",
            "[CV 2/5; 90/120] START alpha=0.5, l1_ratio=1, max_iter=1000, random_state=2020, tol=0.001\n",
            "[CV 2/5; 90/120] END alpha=0.5, l1_ratio=1, max_iter=1000, random_state=2020, tol=0.001;, score=0.016 total time=   0.1s\n",
            "[CV 3/5; 90/120] START alpha=0.5, l1_ratio=1, max_iter=1000, random_state=2020, tol=0.001\n",
            "[CV 3/5; 90/120] END alpha=0.5, l1_ratio=1, max_iter=1000, random_state=2020, tol=0.001;, score=0.014 total time=   0.2s\n",
            "[CV 4/5; 90/120] START alpha=0.5, l1_ratio=1, max_iter=1000, random_state=2020, tol=0.001\n",
            "[CV 4/5; 90/120] END alpha=0.5, l1_ratio=1, max_iter=1000, random_state=2020, tol=0.001;, score=0.018 total time=   0.1s\n",
            "[CV 5/5; 90/120] START alpha=0.5, l1_ratio=1, max_iter=1000, random_state=2020, tol=0.001\n",
            "[CV 5/5; 90/120] END alpha=0.5, l1_ratio=1, max_iter=1000, random_state=2020, tol=0.001;, score=0.015 total time=   0.2s\n",
            "[CV 1/5; 91/120] START alpha=1, l1_ratio=0.001, max_iter=1000, random_state=24, tol=0.0001\n",
            "[CV 1/5; 91/120] END alpha=1, l1_ratio=0.001, max_iter=1000, random_state=24, tol=0.0001;, score=0.011 total time=   0.3s\n",
            "[CV 2/5; 91/120] START alpha=1, l1_ratio=0.001, max_iter=1000, random_state=24, tol=0.0001\n",
            "[CV 2/5; 91/120] END alpha=1, l1_ratio=0.001, max_iter=1000, random_state=24, tol=0.0001;, score=0.020 total time=   0.2s\n",
            "[CV 3/5; 91/120] START alpha=1, l1_ratio=0.001, max_iter=1000, random_state=24, tol=0.0001\n",
            "[CV 3/5; 91/120] END alpha=1, l1_ratio=0.001, max_iter=1000, random_state=24, tol=0.0001;, score=0.017 total time=   0.3s\n",
            "[CV 4/5; 91/120] START alpha=1, l1_ratio=0.001, max_iter=1000, random_state=24, tol=0.0001\n",
            "[CV 4/5; 91/120] END alpha=1, l1_ratio=0.001, max_iter=1000, random_state=24, tol=0.0001;, score=0.022 total time=   0.2s\n",
            "[CV 5/5; 91/120] START alpha=1, l1_ratio=0.001, max_iter=1000, random_state=24, tol=0.0001\n",
            "[CV 5/5; 91/120] END alpha=1, l1_ratio=0.001, max_iter=1000, random_state=24, tol=0.0001;, score=0.020 total time=   0.3s\n",
            "[CV 1/5; 92/120] START alpha=1, l1_ratio=0.001, max_iter=1000, random_state=24, tol=0.001\n",
            "[CV 1/5; 92/120] END alpha=1, l1_ratio=0.001, max_iter=1000, random_state=24, tol=0.001;, score=0.011 total time=   0.2s\n",
            "[CV 2/5; 92/120] START alpha=1, l1_ratio=0.001, max_iter=1000, random_state=24, tol=0.001\n",
            "[CV 2/5; 92/120] END alpha=1, l1_ratio=0.001, max_iter=1000, random_state=24, tol=0.001;, score=0.020 total time=   0.2s\n",
            "[CV 3/5; 92/120] START alpha=1, l1_ratio=0.001, max_iter=1000, random_state=24, tol=0.001\n",
            "[CV 3/5; 92/120] END alpha=1, l1_ratio=0.001, max_iter=1000, random_state=24, tol=0.001;, score=0.017 total time=   0.3s\n",
            "[CV 4/5; 92/120] START alpha=1, l1_ratio=0.001, max_iter=1000, random_state=24, tol=0.001\n",
            "[CV 4/5; 92/120] END alpha=1, l1_ratio=0.001, max_iter=1000, random_state=24, tol=0.001;, score=0.022 total time=   0.2s\n",
            "[CV 5/5; 92/120] START alpha=1, l1_ratio=0.001, max_iter=1000, random_state=24, tol=0.001\n",
            "[CV 5/5; 92/120] END alpha=1, l1_ratio=0.001, max_iter=1000, random_state=24, tol=0.001;, score=0.020 total time=   0.2s\n",
            "[CV 1/5; 93/120] START alpha=1, l1_ratio=0.001, max_iter=1000, random_state=48, tol=0.0001\n",
            "[CV 1/5; 93/120] END alpha=1, l1_ratio=0.001, max_iter=1000, random_state=48, tol=0.0001;, score=0.011 total time=   0.3s\n",
            "[CV 2/5; 93/120] START alpha=1, l1_ratio=0.001, max_iter=1000, random_state=48, tol=0.0001\n",
            "[CV 2/5; 93/120] END alpha=1, l1_ratio=0.001, max_iter=1000, random_state=48, tol=0.0001;, score=0.020 total time=   0.2s\n",
            "[CV 3/5; 93/120] START alpha=1, l1_ratio=0.001, max_iter=1000, random_state=48, tol=0.0001\n",
            "[CV 3/5; 93/120] END alpha=1, l1_ratio=0.001, max_iter=1000, random_state=48, tol=0.0001;, score=0.017 total time=   0.2s\n",
            "[CV 4/5; 93/120] START alpha=1, l1_ratio=0.001, max_iter=1000, random_state=48, tol=0.0001\n",
            "[CV 4/5; 93/120] END alpha=1, l1_ratio=0.001, max_iter=1000, random_state=48, tol=0.0001;, score=0.022 total time=   0.2s\n",
            "[CV 5/5; 93/120] START alpha=1, l1_ratio=0.001, max_iter=1000, random_state=48, tol=0.0001\n",
            "[CV 5/5; 93/120] END alpha=1, l1_ratio=0.001, max_iter=1000, random_state=48, tol=0.0001;, score=0.020 total time=   0.3s\n",
            "[CV 1/5; 94/120] START alpha=1, l1_ratio=0.001, max_iter=1000, random_state=48, tol=0.001\n",
            "[CV 1/5; 94/120] END alpha=1, l1_ratio=0.001, max_iter=1000, random_state=48, tol=0.001;, score=0.011 total time=   0.2s\n",
            "[CV 2/5; 94/120] START alpha=1, l1_ratio=0.001, max_iter=1000, random_state=48, tol=0.001\n",
            "[CV 2/5; 94/120] END alpha=1, l1_ratio=0.001, max_iter=1000, random_state=48, tol=0.001;, score=0.020 total time=   0.2s\n",
            "[CV 3/5; 94/120] START alpha=1, l1_ratio=0.001, max_iter=1000, random_state=48, tol=0.001\n",
            "[CV 3/5; 94/120] END alpha=1, l1_ratio=0.001, max_iter=1000, random_state=48, tol=0.001;, score=0.017 total time=   0.2s\n",
            "[CV 4/5; 94/120] START alpha=1, l1_ratio=0.001, max_iter=1000, random_state=48, tol=0.001\n",
            "[CV 4/5; 94/120] END alpha=1, l1_ratio=0.001, max_iter=1000, random_state=48, tol=0.001;, score=0.022 total time=   0.2s\n",
            "[CV 5/5; 94/120] START alpha=1, l1_ratio=0.001, max_iter=1000, random_state=48, tol=0.001\n",
            "[CV 5/5; 94/120] END alpha=1, l1_ratio=0.001, max_iter=1000, random_state=48, tol=0.001;, score=0.020 total time=   0.3s\n",
            "[CV 1/5; 95/120] START alpha=1, l1_ratio=0.001, max_iter=1000, random_state=2020, tol=0.0001\n",
            "[CV 1/5; 95/120] END alpha=1, l1_ratio=0.001, max_iter=1000, random_state=2020, tol=0.0001;, score=0.011 total time=   0.3s\n",
            "[CV 2/5; 95/120] START alpha=1, l1_ratio=0.001, max_iter=1000, random_state=2020, tol=0.0001\n",
            "[CV 2/5; 95/120] END alpha=1, l1_ratio=0.001, max_iter=1000, random_state=2020, tol=0.0001;, score=0.020 total time=   0.2s\n",
            "[CV 3/5; 95/120] START alpha=1, l1_ratio=0.001, max_iter=1000, random_state=2020, tol=0.0001\n",
            "[CV 3/5; 95/120] END alpha=1, l1_ratio=0.001, max_iter=1000, random_state=2020, tol=0.0001;, score=0.017 total time=   0.2s\n",
            "[CV 4/5; 95/120] START alpha=1, l1_ratio=0.001, max_iter=1000, random_state=2020, tol=0.0001\n",
            "[CV 4/5; 95/120] END alpha=1, l1_ratio=0.001, max_iter=1000, random_state=2020, tol=0.0001;, score=0.022 total time=   0.2s\n",
            "[CV 5/5; 95/120] START alpha=1, l1_ratio=0.001, max_iter=1000, random_state=2020, tol=0.0001\n",
            "[CV 5/5; 95/120] END alpha=1, l1_ratio=0.001, max_iter=1000, random_state=2020, tol=0.0001;, score=0.020 total time=   0.3s\n",
            "[CV 1/5; 96/120] START alpha=1, l1_ratio=0.001, max_iter=1000, random_state=2020, tol=0.001\n",
            "[CV 1/5; 96/120] END alpha=1, l1_ratio=0.001, max_iter=1000, random_state=2020, tol=0.001;, score=0.011 total time=   0.3s\n",
            "[CV 2/5; 96/120] START alpha=1, l1_ratio=0.001, max_iter=1000, random_state=2020, tol=0.001\n",
            "[CV 2/5; 96/120] END alpha=1, l1_ratio=0.001, max_iter=1000, random_state=2020, tol=0.001;, score=0.020 total time=   0.2s\n",
            "[CV 3/5; 96/120] START alpha=1, l1_ratio=0.001, max_iter=1000, random_state=2020, tol=0.001\n",
            "[CV 3/5; 96/120] END alpha=1, l1_ratio=0.001, max_iter=1000, random_state=2020, tol=0.001;, score=0.017 total time=   0.2s\n",
            "[CV 4/5; 96/120] START alpha=1, l1_ratio=0.001, max_iter=1000, random_state=2020, tol=0.001\n",
            "[CV 4/5; 96/120] END alpha=1, l1_ratio=0.001, max_iter=1000, random_state=2020, tol=0.001;, score=0.022 total time=   0.2s\n",
            "[CV 5/5; 96/120] START alpha=1, l1_ratio=0.001, max_iter=1000, random_state=2020, tol=0.001\n",
            "[CV 5/5; 96/120] END alpha=1, l1_ratio=0.001, max_iter=1000, random_state=2020, tol=0.001;, score=0.020 total time=   0.3s\n",
            "[CV 1/5; 97/120] START alpha=1, l1_ratio=0.1, max_iter=1000, random_state=24, tol=0.0001\n",
            "[CV 1/5; 97/120] END alpha=1, l1_ratio=0.1, max_iter=1000, random_state=24, tol=0.0001;, score=0.011 total time=   0.2s\n",
            "[CV 2/5; 97/120] START alpha=1, l1_ratio=0.1, max_iter=1000, random_state=24, tol=0.0001\n",
            "[CV 2/5; 97/120] END alpha=1, l1_ratio=0.1, max_iter=1000, random_state=24, tol=0.0001;, score=0.018 total time=   0.1s\n",
            "[CV 3/5; 97/120] START alpha=1, l1_ratio=0.1, max_iter=1000, random_state=24, tol=0.0001\n",
            "[CV 3/5; 97/120] END alpha=1, l1_ratio=0.1, max_iter=1000, random_state=24, tol=0.0001;, score=0.017 total time=   0.2s\n",
            "[CV 4/5; 97/120] START alpha=1, l1_ratio=0.1, max_iter=1000, random_state=24, tol=0.0001\n",
            "[CV 4/5; 97/120] END alpha=1, l1_ratio=0.1, max_iter=1000, random_state=24, tol=0.0001;, score=0.020 total time=   0.2s\n",
            "[CV 5/5; 97/120] START alpha=1, l1_ratio=0.1, max_iter=1000, random_state=24, tol=0.0001\n",
            "[CV 5/5; 97/120] END alpha=1, l1_ratio=0.1, max_iter=1000, random_state=24, tol=0.0001;, score=0.017 total time=   0.2s\n",
            "[CV 1/5; 98/120] START alpha=1, l1_ratio=0.1, max_iter=1000, random_state=24, tol=0.001\n",
            "[CV 1/5; 98/120] END alpha=1, l1_ratio=0.1, max_iter=1000, random_state=24, tol=0.001;, score=0.011 total time=   0.2s\n",
            "[CV 2/5; 98/120] START alpha=1, l1_ratio=0.1, max_iter=1000, random_state=24, tol=0.001\n",
            "[CV 2/5; 98/120] END alpha=1, l1_ratio=0.1, max_iter=1000, random_state=24, tol=0.001;, score=0.018 total time=   0.1s\n",
            "[CV 3/5; 98/120] START alpha=1, l1_ratio=0.1, max_iter=1000, random_state=24, tol=0.001\n",
            "[CV 3/5; 98/120] END alpha=1, l1_ratio=0.1, max_iter=1000, random_state=24, tol=0.001;, score=0.017 total time=   0.2s\n",
            "[CV 4/5; 98/120] START alpha=1, l1_ratio=0.1, max_iter=1000, random_state=24, tol=0.001\n",
            "[CV 4/5; 98/120] END alpha=1, l1_ratio=0.1, max_iter=1000, random_state=24, tol=0.001;, score=0.020 total time=   0.1s\n",
            "[CV 5/5; 98/120] START alpha=1, l1_ratio=0.1, max_iter=1000, random_state=24, tol=0.001\n",
            "[CV 5/5; 98/120] END alpha=1, l1_ratio=0.1, max_iter=1000, random_state=24, tol=0.001;, score=0.017 total time=   0.2s\n",
            "[CV 1/5; 99/120] START alpha=1, l1_ratio=0.1, max_iter=1000, random_state=48, tol=0.0001\n",
            "[CV 1/5; 99/120] END alpha=1, l1_ratio=0.1, max_iter=1000, random_state=48, tol=0.0001;, score=0.011 total time=   0.2s\n",
            "[CV 2/5; 99/120] START alpha=1, l1_ratio=0.1, max_iter=1000, random_state=48, tol=0.0001\n",
            "[CV 2/5; 99/120] END alpha=1, l1_ratio=0.1, max_iter=1000, random_state=48, tol=0.0001;, score=0.018 total time=   0.2s\n",
            "[CV 3/5; 99/120] START alpha=1, l1_ratio=0.1, max_iter=1000, random_state=48, tol=0.0001\n",
            "[CV 3/5; 99/120] END alpha=1, l1_ratio=0.1, max_iter=1000, random_state=48, tol=0.0001;, score=0.017 total time=   0.2s\n",
            "[CV 4/5; 99/120] START alpha=1, l1_ratio=0.1, max_iter=1000, random_state=48, tol=0.0001\n",
            "[CV 4/5; 99/120] END alpha=1, l1_ratio=0.1, max_iter=1000, random_state=48, tol=0.0001;, score=0.020 total time=   0.1s\n",
            "[CV 5/5; 99/120] START alpha=1, l1_ratio=0.1, max_iter=1000, random_state=48, tol=0.0001\n",
            "[CV 5/5; 99/120] END alpha=1, l1_ratio=0.1, max_iter=1000, random_state=48, tol=0.0001;, score=0.017 total time=   0.2s\n",
            "[CV 1/5; 100/120] START alpha=1, l1_ratio=0.1, max_iter=1000, random_state=48, tol=0.001\n",
            "[CV 1/5; 100/120] END alpha=1, l1_ratio=0.1, max_iter=1000, random_state=48, tol=0.001;, score=0.011 total time=   0.2s\n",
            "[CV 2/5; 100/120] START alpha=1, l1_ratio=0.1, max_iter=1000, random_state=48, tol=0.001\n",
            "[CV 2/5; 100/120] END alpha=1, l1_ratio=0.1, max_iter=1000, random_state=48, tol=0.001;, score=0.018 total time=   0.2s\n",
            "[CV 3/5; 100/120] START alpha=1, l1_ratio=0.1, max_iter=1000, random_state=48, tol=0.001\n",
            "[CV 3/5; 100/120] END alpha=1, l1_ratio=0.1, max_iter=1000, random_state=48, tol=0.001;, score=0.017 total time=   0.2s\n",
            "[CV 4/5; 100/120] START alpha=1, l1_ratio=0.1, max_iter=1000, random_state=48, tol=0.001\n",
            "[CV 4/5; 100/120] END alpha=1, l1_ratio=0.1, max_iter=1000, random_state=48, tol=0.001;, score=0.020 total time=   0.2s\n",
            "[CV 5/5; 100/120] START alpha=1, l1_ratio=0.1, max_iter=1000, random_state=48, tol=0.001\n",
            "[CV 5/5; 100/120] END alpha=1, l1_ratio=0.1, max_iter=1000, random_state=48, tol=0.001;, score=0.017 total time=   0.2s\n",
            "[CV 1/5; 101/120] START alpha=1, l1_ratio=0.1, max_iter=1000, random_state=2020, tol=0.0001\n",
            "[CV 1/5; 101/120] END alpha=1, l1_ratio=0.1, max_iter=1000, random_state=2020, tol=0.0001;, score=0.011 total time=   0.2s\n",
            "[CV 2/5; 101/120] START alpha=1, l1_ratio=0.1, max_iter=1000, random_state=2020, tol=0.0001\n",
            "[CV 2/5; 101/120] END alpha=1, l1_ratio=0.1, max_iter=1000, random_state=2020, tol=0.0001;, score=0.018 total time=   0.1s\n",
            "[CV 3/5; 101/120] START alpha=1, l1_ratio=0.1, max_iter=1000, random_state=2020, tol=0.0001\n",
            "[CV 3/5; 101/120] END alpha=1, l1_ratio=0.1, max_iter=1000, random_state=2020, tol=0.0001;, score=0.017 total time=   0.2s\n",
            "[CV 4/5; 101/120] START alpha=1, l1_ratio=0.1, max_iter=1000, random_state=2020, tol=0.0001\n",
            "[CV 4/5; 101/120] END alpha=1, l1_ratio=0.1, max_iter=1000, random_state=2020, tol=0.0001;, score=0.020 total time=   0.1s\n",
            "[CV 5/5; 101/120] START alpha=1, l1_ratio=0.1, max_iter=1000, random_state=2020, tol=0.0001\n",
            "[CV 5/5; 101/120] END alpha=1, l1_ratio=0.1, max_iter=1000, random_state=2020, tol=0.0001;, score=0.017 total time=   0.2s\n",
            "[CV 1/5; 102/120] START alpha=1, l1_ratio=0.1, max_iter=1000, random_state=2020, tol=0.001\n",
            "[CV 1/5; 102/120] END alpha=1, l1_ratio=0.1, max_iter=1000, random_state=2020, tol=0.001;, score=0.011 total time=   0.2s\n",
            "[CV 2/5; 102/120] START alpha=1, l1_ratio=0.1, max_iter=1000, random_state=2020, tol=0.001\n",
            "[CV 2/5; 102/120] END alpha=1, l1_ratio=0.1, max_iter=1000, random_state=2020, tol=0.001;, score=0.018 total time=   0.2s\n",
            "[CV 3/5; 102/120] START alpha=1, l1_ratio=0.1, max_iter=1000, random_state=2020, tol=0.001\n",
            "[CV 3/5; 102/120] END alpha=1, l1_ratio=0.1, max_iter=1000, random_state=2020, tol=0.001;, score=0.017 total time=   0.2s\n",
            "[CV 4/5; 102/120] START alpha=1, l1_ratio=0.1, max_iter=1000, random_state=2020, tol=0.001\n",
            "[CV 4/5; 102/120] END alpha=1, l1_ratio=0.1, max_iter=1000, random_state=2020, tol=0.001;, score=0.020 total time=   0.2s\n",
            "[CV 5/5; 102/120] START alpha=1, l1_ratio=0.1, max_iter=1000, random_state=2020, tol=0.001\n",
            "[CV 5/5; 102/120] END alpha=1, l1_ratio=0.1, max_iter=1000, random_state=2020, tol=0.001;, score=0.017 total time=   0.2s\n",
            "[CV 1/5; 103/120] START alpha=1, l1_ratio=0.5, max_iter=1000, random_state=24, tol=0.0001\n",
            "[CV 1/5; 103/120] END alpha=1, l1_ratio=0.5, max_iter=1000, random_state=24, tol=0.0001;, score=0.011 total time=   0.2s\n",
            "[CV 2/5; 103/120] START alpha=1, l1_ratio=0.5, max_iter=1000, random_state=24, tol=0.0001\n",
            "[CV 2/5; 103/120] END alpha=1, l1_ratio=0.5, max_iter=1000, random_state=24, tol=0.0001;, score=0.016 total time=   0.1s\n",
            "[CV 3/5; 103/120] START alpha=1, l1_ratio=0.5, max_iter=1000, random_state=24, tol=0.0001\n",
            "[CV 3/5; 103/120] END alpha=1, l1_ratio=0.5, max_iter=1000, random_state=24, tol=0.0001;, score=0.014 total time=   0.2s\n",
            "[CV 4/5; 103/120] START alpha=1, l1_ratio=0.5, max_iter=1000, random_state=24, tol=0.0001\n",
            "[CV 4/5; 103/120] END alpha=1, l1_ratio=0.5, max_iter=1000, random_state=24, tol=0.0001;, score=0.018 total time=   0.1s\n",
            "[CV 5/5; 103/120] START alpha=1, l1_ratio=0.5, max_iter=1000, random_state=24, tol=0.0001\n",
            "[CV 5/5; 103/120] END alpha=1, l1_ratio=0.5, max_iter=1000, random_state=24, tol=0.0001;, score=0.015 total time=   0.2s\n",
            "[CV 1/5; 104/120] START alpha=1, l1_ratio=0.5, max_iter=1000, random_state=24, tol=0.001\n",
            "[CV 1/5; 104/120] END alpha=1, l1_ratio=0.5, max_iter=1000, random_state=24, tol=0.001;, score=0.011 total time=   0.2s\n",
            "[CV 2/5; 104/120] START alpha=1, l1_ratio=0.5, max_iter=1000, random_state=24, tol=0.001\n",
            "[CV 2/5; 104/120] END alpha=1, l1_ratio=0.5, max_iter=1000, random_state=24, tol=0.001;, score=0.016 total time=   0.1s\n",
            "[CV 3/5; 104/120] START alpha=1, l1_ratio=0.5, max_iter=1000, random_state=24, tol=0.001\n",
            "[CV 3/5; 104/120] END alpha=1, l1_ratio=0.5, max_iter=1000, random_state=24, tol=0.001;, score=0.014 total time=   0.2s\n",
            "[CV 4/5; 104/120] START alpha=1, l1_ratio=0.5, max_iter=1000, random_state=24, tol=0.001\n",
            "[CV 4/5; 104/120] END alpha=1, l1_ratio=0.5, max_iter=1000, random_state=24, tol=0.001;, score=0.018 total time=   0.1s\n",
            "[CV 5/5; 104/120] START alpha=1, l1_ratio=0.5, max_iter=1000, random_state=24, tol=0.001\n",
            "[CV 5/5; 104/120] END alpha=1, l1_ratio=0.5, max_iter=1000, random_state=24, tol=0.001;, score=0.015 total time=   0.2s\n",
            "[CV 1/5; 105/120] START alpha=1, l1_ratio=0.5, max_iter=1000, random_state=48, tol=0.0001\n",
            "[CV 1/5; 105/120] END alpha=1, l1_ratio=0.5, max_iter=1000, random_state=48, tol=0.0001;, score=0.011 total time=   0.2s\n",
            "[CV 2/5; 105/120] START alpha=1, l1_ratio=0.5, max_iter=1000, random_state=48, tol=0.0001\n",
            "[CV 2/5; 105/120] END alpha=1, l1_ratio=0.5, max_iter=1000, random_state=48, tol=0.0001;, score=0.016 total time=   0.1s\n",
            "[CV 3/5; 105/120] START alpha=1, l1_ratio=0.5, max_iter=1000, random_state=48, tol=0.0001\n",
            "[CV 3/5; 105/120] END alpha=1, l1_ratio=0.5, max_iter=1000, random_state=48, tol=0.0001;, score=0.014 total time=   0.2s\n",
            "[CV 4/5; 105/120] START alpha=1, l1_ratio=0.5, max_iter=1000, random_state=48, tol=0.0001\n",
            "[CV 4/5; 105/120] END alpha=1, l1_ratio=0.5, max_iter=1000, random_state=48, tol=0.0001;, score=0.018 total time=   0.1s\n",
            "[CV 5/5; 105/120] START alpha=1, l1_ratio=0.5, max_iter=1000, random_state=48, tol=0.0001\n",
            "[CV 5/5; 105/120] END alpha=1, l1_ratio=0.5, max_iter=1000, random_state=48, tol=0.0001;, score=0.015 total time=   0.2s\n",
            "[CV 1/5; 106/120] START alpha=1, l1_ratio=0.5, max_iter=1000, random_state=48, tol=0.001\n",
            "[CV 1/5; 106/120] END alpha=1, l1_ratio=0.5, max_iter=1000, random_state=48, tol=0.001;, score=0.011 total time=   0.2s\n",
            "[CV 2/5; 106/120] START alpha=1, l1_ratio=0.5, max_iter=1000, random_state=48, tol=0.001\n",
            "[CV 2/5; 106/120] END alpha=1, l1_ratio=0.5, max_iter=1000, random_state=48, tol=0.001;, score=0.016 total time=   0.1s\n",
            "[CV 3/5; 106/120] START alpha=1, l1_ratio=0.5, max_iter=1000, random_state=48, tol=0.001\n",
            "[CV 3/5; 106/120] END alpha=1, l1_ratio=0.5, max_iter=1000, random_state=48, tol=0.001;, score=0.014 total time=   0.2s\n",
            "[CV 4/5; 106/120] START alpha=1, l1_ratio=0.5, max_iter=1000, random_state=48, tol=0.001\n",
            "[CV 4/5; 106/120] END alpha=1, l1_ratio=0.5, max_iter=1000, random_state=48, tol=0.001;, score=0.018 total time=   0.1s\n",
            "[CV 5/5; 106/120] START alpha=1, l1_ratio=0.5, max_iter=1000, random_state=48, tol=0.001\n",
            "[CV 5/5; 106/120] END alpha=1, l1_ratio=0.5, max_iter=1000, random_state=48, tol=0.001;, score=0.015 total time=   0.2s\n",
            "[CV 1/5; 107/120] START alpha=1, l1_ratio=0.5, max_iter=1000, random_state=2020, tol=0.0001\n",
            "[CV 1/5; 107/120] END alpha=1, l1_ratio=0.5, max_iter=1000, random_state=2020, tol=0.0001;, score=0.011 total time=   0.2s\n",
            "[CV 2/5; 107/120] START alpha=1, l1_ratio=0.5, max_iter=1000, random_state=2020, tol=0.0001\n",
            "[CV 2/5; 107/120] END alpha=1, l1_ratio=0.5, max_iter=1000, random_state=2020, tol=0.0001;, score=0.016 total time=   0.1s\n",
            "[CV 3/5; 107/120] START alpha=1, l1_ratio=0.5, max_iter=1000, random_state=2020, tol=0.0001\n",
            "[CV 3/5; 107/120] END alpha=1, l1_ratio=0.5, max_iter=1000, random_state=2020, tol=0.0001;, score=0.014 total time=   0.2s\n",
            "[CV 4/5; 107/120] START alpha=1, l1_ratio=0.5, max_iter=1000, random_state=2020, tol=0.0001\n",
            "[CV 4/5; 107/120] END alpha=1, l1_ratio=0.5, max_iter=1000, random_state=2020, tol=0.0001;, score=0.018 total time=   0.2s\n",
            "[CV 5/5; 107/120] START alpha=1, l1_ratio=0.5, max_iter=1000, random_state=2020, tol=0.0001\n",
            "[CV 5/5; 107/120] END alpha=1, l1_ratio=0.5, max_iter=1000, random_state=2020, tol=0.0001;, score=0.015 total time=   0.2s\n",
            "[CV 1/5; 108/120] START alpha=1, l1_ratio=0.5, max_iter=1000, random_state=2020, tol=0.001\n",
            "[CV 1/5; 108/120] END alpha=1, l1_ratio=0.5, max_iter=1000, random_state=2020, tol=0.001;, score=0.011 total time=   0.2s\n",
            "[CV 2/5; 108/120] START alpha=1, l1_ratio=0.5, max_iter=1000, random_state=2020, tol=0.001\n",
            "[CV 2/5; 108/120] END alpha=1, l1_ratio=0.5, max_iter=1000, random_state=2020, tol=0.001;, score=0.016 total time=   0.1s\n",
            "[CV 3/5; 108/120] START alpha=1, l1_ratio=0.5, max_iter=1000, random_state=2020, tol=0.001\n",
            "[CV 3/5; 108/120] END alpha=1, l1_ratio=0.5, max_iter=1000, random_state=2020, tol=0.001;, score=0.014 total time=   0.1s\n",
            "[CV 4/5; 108/120] START alpha=1, l1_ratio=0.5, max_iter=1000, random_state=2020, tol=0.001\n",
            "[CV 4/5; 108/120] END alpha=1, l1_ratio=0.5, max_iter=1000, random_state=2020, tol=0.001;, score=0.018 total time=   0.1s\n",
            "[CV 5/5; 108/120] START alpha=1, l1_ratio=0.5, max_iter=1000, random_state=2020, tol=0.001\n",
            "[CV 5/5; 108/120] END alpha=1, l1_ratio=0.5, max_iter=1000, random_state=2020, tol=0.001;, score=0.015 total time=   0.2s\n",
            "[CV 1/5; 109/120] START alpha=1, l1_ratio=0.6, max_iter=1000, random_state=24, tol=0.0001\n",
            "[CV 1/5; 109/120] END alpha=1, l1_ratio=0.6, max_iter=1000, random_state=24, tol=0.0001;, score=0.011 total time=   0.2s\n",
            "[CV 2/5; 109/120] START alpha=1, l1_ratio=0.6, max_iter=1000, random_state=24, tol=0.0001\n",
            "[CV 2/5; 109/120] END alpha=1, l1_ratio=0.6, max_iter=1000, random_state=24, tol=0.0001;, score=0.016 total time=   0.1s\n",
            "[CV 3/5; 109/120] START alpha=1, l1_ratio=0.6, max_iter=1000, random_state=24, tol=0.0001\n",
            "[CV 3/5; 109/120] END alpha=1, l1_ratio=0.6, max_iter=1000, random_state=24, tol=0.0001;, score=0.013 total time=   0.2s\n",
            "[CV 4/5; 109/120] START alpha=1, l1_ratio=0.6, max_iter=1000, random_state=24, tol=0.0001\n",
            "[CV 4/5; 109/120] END alpha=1, l1_ratio=0.6, max_iter=1000, random_state=24, tol=0.0001;, score=0.016 total time=   0.1s\n",
            "[CV 5/5; 109/120] START alpha=1, l1_ratio=0.6, max_iter=1000, random_state=24, tol=0.0001\n",
            "[CV 5/5; 109/120] END alpha=1, l1_ratio=0.6, max_iter=1000, random_state=24, tol=0.0001;, score=0.014 total time=   0.2s\n",
            "[CV 1/5; 110/120] START alpha=1, l1_ratio=0.6, max_iter=1000, random_state=24, tol=0.001\n",
            "[CV 1/5; 110/120] END alpha=1, l1_ratio=0.6, max_iter=1000, random_state=24, tol=0.001;, score=0.011 total time=   0.2s\n",
            "[CV 2/5; 110/120] START alpha=1, l1_ratio=0.6, max_iter=1000, random_state=24, tol=0.001\n",
            "[CV 2/5; 110/120] END alpha=1, l1_ratio=0.6, max_iter=1000, random_state=24, tol=0.001;, score=0.016 total time=   0.1s\n",
            "[CV 3/5; 110/120] START alpha=1, l1_ratio=0.6, max_iter=1000, random_state=24, tol=0.001\n",
            "[CV 3/5; 110/120] END alpha=1, l1_ratio=0.6, max_iter=1000, random_state=24, tol=0.001;, score=0.013 total time=   0.2s\n",
            "[CV 4/5; 110/120] START alpha=1, l1_ratio=0.6, max_iter=1000, random_state=24, tol=0.001\n",
            "[CV 4/5; 110/120] END alpha=1, l1_ratio=0.6, max_iter=1000, random_state=24, tol=0.001;, score=0.016 total time=   0.1s\n",
            "[CV 5/5; 110/120] START alpha=1, l1_ratio=0.6, max_iter=1000, random_state=24, tol=0.001\n",
            "[CV 5/5; 110/120] END alpha=1, l1_ratio=0.6, max_iter=1000, random_state=24, tol=0.001;, score=0.014 total time=   0.2s\n",
            "[CV 1/5; 111/120] START alpha=1, l1_ratio=0.6, max_iter=1000, random_state=48, tol=0.0001\n",
            "[CV 1/5; 111/120] END alpha=1, l1_ratio=0.6, max_iter=1000, random_state=48, tol=0.0001;, score=0.011 total time=   0.2s\n",
            "[CV 2/5; 111/120] START alpha=1, l1_ratio=0.6, max_iter=1000, random_state=48, tol=0.0001\n",
            "[CV 2/5; 111/120] END alpha=1, l1_ratio=0.6, max_iter=1000, random_state=48, tol=0.0001;, score=0.016 total time=   0.1s\n",
            "[CV 3/5; 111/120] START alpha=1, l1_ratio=0.6, max_iter=1000, random_state=48, tol=0.0001\n",
            "[CV 3/5; 111/120] END alpha=1, l1_ratio=0.6, max_iter=1000, random_state=48, tol=0.0001;, score=0.013 total time=   0.2s\n",
            "[CV 4/5; 111/120] START alpha=1, l1_ratio=0.6, max_iter=1000, random_state=48, tol=0.0001\n",
            "[CV 4/5; 111/120] END alpha=1, l1_ratio=0.6, max_iter=1000, random_state=48, tol=0.0001;, score=0.016 total time=   0.1s\n",
            "[CV 5/5; 111/120] START alpha=1, l1_ratio=0.6, max_iter=1000, random_state=48, tol=0.0001\n",
            "[CV 5/5; 111/120] END alpha=1, l1_ratio=0.6, max_iter=1000, random_state=48, tol=0.0001;, score=0.014 total time=   0.2s\n",
            "[CV 1/5; 112/120] START alpha=1, l1_ratio=0.6, max_iter=1000, random_state=48, tol=0.001\n",
            "[CV 1/5; 112/120] END alpha=1, l1_ratio=0.6, max_iter=1000, random_state=48, tol=0.001;, score=0.011 total time=   0.2s\n",
            "[CV 2/5; 112/120] START alpha=1, l1_ratio=0.6, max_iter=1000, random_state=48, tol=0.001\n",
            "[CV 2/5; 112/120] END alpha=1, l1_ratio=0.6, max_iter=1000, random_state=48, tol=0.001;, score=0.016 total time=   0.1s\n",
            "[CV 3/5; 112/120] START alpha=1, l1_ratio=0.6, max_iter=1000, random_state=48, tol=0.001\n",
            "[CV 3/5; 112/120] END alpha=1, l1_ratio=0.6, max_iter=1000, random_state=48, tol=0.001;, score=0.013 total time=   0.2s\n",
            "[CV 4/5; 112/120] START alpha=1, l1_ratio=0.6, max_iter=1000, random_state=48, tol=0.001\n",
            "[CV 4/5; 112/120] END alpha=1, l1_ratio=0.6, max_iter=1000, random_state=48, tol=0.001;, score=0.016 total time=   0.1s\n",
            "[CV 5/5; 112/120] START alpha=1, l1_ratio=0.6, max_iter=1000, random_state=48, tol=0.001\n",
            "[CV 5/5; 112/120] END alpha=1, l1_ratio=0.6, max_iter=1000, random_state=48, tol=0.001;, score=0.014 total time=   0.2s\n",
            "[CV 1/5; 113/120] START alpha=1, l1_ratio=0.6, max_iter=1000, random_state=2020, tol=0.0001\n",
            "[CV 1/5; 113/120] END alpha=1, l1_ratio=0.6, max_iter=1000, random_state=2020, tol=0.0001;, score=0.011 total time=   0.2s\n",
            "[CV 2/5; 113/120] START alpha=1, l1_ratio=0.6, max_iter=1000, random_state=2020, tol=0.0001\n",
            "[CV 2/5; 113/120] END alpha=1, l1_ratio=0.6, max_iter=1000, random_state=2020, tol=0.0001;, score=0.016 total time=   0.1s\n",
            "[CV 3/5; 113/120] START alpha=1, l1_ratio=0.6, max_iter=1000, random_state=2020, tol=0.0001\n",
            "[CV 3/5; 113/120] END alpha=1, l1_ratio=0.6, max_iter=1000, random_state=2020, tol=0.0001;, score=0.013 total time=   0.2s\n",
            "[CV 4/5; 113/120] START alpha=1, l1_ratio=0.6, max_iter=1000, random_state=2020, tol=0.0001\n",
            "[CV 4/5; 113/120] END alpha=1, l1_ratio=0.6, max_iter=1000, random_state=2020, tol=0.0001;, score=0.016 total time=   0.1s\n",
            "[CV 5/5; 113/120] START alpha=1, l1_ratio=0.6, max_iter=1000, random_state=2020, tol=0.0001\n",
            "[CV 5/5; 113/120] END alpha=1, l1_ratio=0.6, max_iter=1000, random_state=2020, tol=0.0001;, score=0.014 total time=   0.2s\n",
            "[CV 1/5; 114/120] START alpha=1, l1_ratio=0.6, max_iter=1000, random_state=2020, tol=0.001\n",
            "[CV 1/5; 114/120] END alpha=1, l1_ratio=0.6, max_iter=1000, random_state=2020, tol=0.001;, score=0.011 total time=   0.2s\n",
            "[CV 2/5; 114/120] START alpha=1, l1_ratio=0.6, max_iter=1000, random_state=2020, tol=0.001\n",
            "[CV 2/5; 114/120] END alpha=1, l1_ratio=0.6, max_iter=1000, random_state=2020, tol=0.001;, score=0.016 total time=   0.1s\n",
            "[CV 3/5; 114/120] START alpha=1, l1_ratio=0.6, max_iter=1000, random_state=2020, tol=0.001\n",
            "[CV 3/5; 114/120] END alpha=1, l1_ratio=0.6, max_iter=1000, random_state=2020, tol=0.001;, score=0.013 total time=   0.2s\n",
            "[CV 4/5; 114/120] START alpha=1, l1_ratio=0.6, max_iter=1000, random_state=2020, tol=0.001\n",
            "[CV 4/5; 114/120] END alpha=1, l1_ratio=0.6, max_iter=1000, random_state=2020, tol=0.001;, score=0.016 total time=   0.1s\n",
            "[CV 5/5; 114/120] START alpha=1, l1_ratio=0.6, max_iter=1000, random_state=2020, tol=0.001\n",
            "[CV 5/5; 114/120] END alpha=1, l1_ratio=0.6, max_iter=1000, random_state=2020, tol=0.001;, score=0.014 total time=   0.2s\n",
            "[CV 1/5; 115/120] START alpha=1, l1_ratio=1, max_iter=1000, random_state=24, tol=0.0001\n",
            "[CV 1/5; 115/120] END alpha=1, l1_ratio=1, max_iter=1000, random_state=24, tol=0.0001;, score=0.008 total time=   0.2s\n",
            "[CV 2/5; 115/120] START alpha=1, l1_ratio=1, max_iter=1000, random_state=24, tol=0.0001\n",
            "[CV 2/5; 115/120] END alpha=1, l1_ratio=1, max_iter=1000, random_state=24, tol=0.0001;, score=0.010 total time=   0.1s\n",
            "[CV 3/5; 115/120] START alpha=1, l1_ratio=1, max_iter=1000, random_state=24, tol=0.0001\n",
            "[CV 3/5; 115/120] END alpha=1, l1_ratio=1, max_iter=1000, random_state=24, tol=0.0001;, score=0.006 total time=   0.2s\n",
            "[CV 4/5; 115/120] START alpha=1, l1_ratio=1, max_iter=1000, random_state=24, tol=0.0001\n",
            "[CV 4/5; 115/120] END alpha=1, l1_ratio=1, max_iter=1000, random_state=24, tol=0.0001;, score=0.010 total time=   0.1s\n",
            "[CV 5/5; 115/120] START alpha=1, l1_ratio=1, max_iter=1000, random_state=24, tol=0.0001\n",
            "[CV 5/5; 115/120] END alpha=1, l1_ratio=1, max_iter=1000, random_state=24, tol=0.0001;, score=0.009 total time=   0.2s\n",
            "[CV 1/5; 116/120] START alpha=1, l1_ratio=1, max_iter=1000, random_state=24, tol=0.001\n",
            "[CV 1/5; 116/120] END alpha=1, l1_ratio=1, max_iter=1000, random_state=24, tol=0.001;, score=0.008 total time=   0.2s\n",
            "[CV 2/5; 116/120] START alpha=1, l1_ratio=1, max_iter=1000, random_state=24, tol=0.001\n",
            "[CV 2/5; 116/120] END alpha=1, l1_ratio=1, max_iter=1000, random_state=24, tol=0.001;, score=0.010 total time=   0.1s\n",
            "[CV 3/5; 116/120] START alpha=1, l1_ratio=1, max_iter=1000, random_state=24, tol=0.001\n",
            "[CV 3/5; 116/120] END alpha=1, l1_ratio=1, max_iter=1000, random_state=24, tol=0.001;, score=0.006 total time=   0.1s\n",
            "[CV 4/5; 116/120] START alpha=1, l1_ratio=1, max_iter=1000, random_state=24, tol=0.001\n",
            "[CV 4/5; 116/120] END alpha=1, l1_ratio=1, max_iter=1000, random_state=24, tol=0.001;, score=0.010 total time=   0.1s\n",
            "[CV 5/5; 116/120] START alpha=1, l1_ratio=1, max_iter=1000, random_state=24, tol=0.001\n",
            "[CV 5/5; 116/120] END alpha=1, l1_ratio=1, max_iter=1000, random_state=24, tol=0.001;, score=0.009 total time=   0.2s\n",
            "[CV 1/5; 117/120] START alpha=1, l1_ratio=1, max_iter=1000, random_state=48, tol=0.0001\n",
            "[CV 1/5; 117/120] END alpha=1, l1_ratio=1, max_iter=1000, random_state=48, tol=0.0001;, score=0.008 total time=   0.2s\n",
            "[CV 2/5; 117/120] START alpha=1, l1_ratio=1, max_iter=1000, random_state=48, tol=0.0001\n",
            "[CV 2/5; 117/120] END alpha=1, l1_ratio=1, max_iter=1000, random_state=48, tol=0.0001;, score=0.010 total time=   0.1s\n",
            "[CV 3/5; 117/120] START alpha=1, l1_ratio=1, max_iter=1000, random_state=48, tol=0.0001\n",
            "[CV 3/5; 117/120] END alpha=1, l1_ratio=1, max_iter=1000, random_state=48, tol=0.0001;, score=0.006 total time=   0.2s\n",
            "[CV 4/5; 117/120] START alpha=1, l1_ratio=1, max_iter=1000, random_state=48, tol=0.0001\n",
            "[CV 4/5; 117/120] END alpha=1, l1_ratio=1, max_iter=1000, random_state=48, tol=0.0001;, score=0.010 total time=   0.1s\n",
            "[CV 5/5; 117/120] START alpha=1, l1_ratio=1, max_iter=1000, random_state=48, tol=0.0001\n",
            "[CV 5/5; 117/120] END alpha=1, l1_ratio=1, max_iter=1000, random_state=48, tol=0.0001;, score=0.009 total time=   0.2s\n",
            "[CV 1/5; 118/120] START alpha=1, l1_ratio=1, max_iter=1000, random_state=48, tol=0.001\n",
            "[CV 1/5; 118/120] END alpha=1, l1_ratio=1, max_iter=1000, random_state=48, tol=0.001;, score=0.008 total time=   0.1s\n",
            "[CV 2/5; 118/120] START alpha=1, l1_ratio=1, max_iter=1000, random_state=48, tol=0.001\n",
            "[CV 2/5; 118/120] END alpha=1, l1_ratio=1, max_iter=1000, random_state=48, tol=0.001;, score=0.010 total time=   0.1s\n",
            "[CV 3/5; 118/120] START alpha=1, l1_ratio=1, max_iter=1000, random_state=48, tol=0.001\n",
            "[CV 3/5; 118/120] END alpha=1, l1_ratio=1, max_iter=1000, random_state=48, tol=0.001;, score=0.006 total time=   0.2s\n",
            "[CV 4/5; 118/120] START alpha=1, l1_ratio=1, max_iter=1000, random_state=48, tol=0.001\n",
            "[CV 4/5; 118/120] END alpha=1, l1_ratio=1, max_iter=1000, random_state=48, tol=0.001;, score=0.010 total time=   0.1s\n",
            "[CV 5/5; 118/120] START alpha=1, l1_ratio=1, max_iter=1000, random_state=48, tol=0.001\n",
            "[CV 5/5; 118/120] END alpha=1, l1_ratio=1, max_iter=1000, random_state=48, tol=0.001;, score=0.009 total time=   0.2s\n",
            "[CV 1/5; 119/120] START alpha=1, l1_ratio=1, max_iter=1000, random_state=2020, tol=0.0001\n",
            "[CV 1/5; 119/120] END alpha=1, l1_ratio=1, max_iter=1000, random_state=2020, tol=0.0001;, score=0.008 total time=   0.2s\n",
            "[CV 2/5; 119/120] START alpha=1, l1_ratio=1, max_iter=1000, random_state=2020, tol=0.0001\n",
            "[CV 2/5; 119/120] END alpha=1, l1_ratio=1, max_iter=1000, random_state=2020, tol=0.0001;, score=0.010 total time=   0.1s\n",
            "[CV 3/5; 119/120] START alpha=1, l1_ratio=1, max_iter=1000, random_state=2020, tol=0.0001\n",
            "[CV 3/5; 119/120] END alpha=1, l1_ratio=1, max_iter=1000, random_state=2020, tol=0.0001;, score=0.006 total time=   0.2s\n",
            "[CV 4/5; 119/120] START alpha=1, l1_ratio=1, max_iter=1000, random_state=2020, tol=0.0001\n",
            "[CV 4/5; 119/120] END alpha=1, l1_ratio=1, max_iter=1000, random_state=2020, tol=0.0001;, score=0.010 total time=   0.1s\n",
            "[CV 5/5; 119/120] START alpha=1, l1_ratio=1, max_iter=1000, random_state=2020, tol=0.0001\n",
            "[CV 5/5; 119/120] END alpha=1, l1_ratio=1, max_iter=1000, random_state=2020, tol=0.0001;, score=0.009 total time=   0.2s\n",
            "[CV 1/5; 120/120] START alpha=1, l1_ratio=1, max_iter=1000, random_state=2020, tol=0.001\n",
            "[CV 1/5; 120/120] END alpha=1, l1_ratio=1, max_iter=1000, random_state=2020, tol=0.001;, score=0.008 total time=   0.2s\n",
            "[CV 2/5; 120/120] START alpha=1, l1_ratio=1, max_iter=1000, random_state=2020, tol=0.001\n",
            "[CV 2/5; 120/120] END alpha=1, l1_ratio=1, max_iter=1000, random_state=2020, tol=0.001;, score=0.010 total time=   0.1s\n",
            "[CV 3/5; 120/120] START alpha=1, l1_ratio=1, max_iter=1000, random_state=2020, tol=0.001\n",
            "[CV 3/5; 120/120] END alpha=1, l1_ratio=1, max_iter=1000, random_state=2020, tol=0.001;, score=0.006 total time=   0.1s\n",
            "[CV 4/5; 120/120] START alpha=1, l1_ratio=1, max_iter=1000, random_state=2020, tol=0.001\n",
            "[CV 4/5; 120/120] END alpha=1, l1_ratio=1, max_iter=1000, random_state=2020, tol=0.001;, score=0.010 total time=   0.1s\n",
            "[CV 5/5; 120/120] START alpha=1, l1_ratio=1, max_iter=1000, random_state=2020, tol=0.001\n",
            "[CV 5/5; 120/120] END alpha=1, l1_ratio=1, max_iter=1000, random_state=2020, tol=0.001;, score=0.009 total time=   0.2s\n"
          ]
        },
        {
          "output_type": "execute_result",
          "data": {
            "text/plain": [
              "GridSearchCV(cv=5, estimator=ElasticNet(),\n",
              "             param_grid=[{'alpha': [0.1, 0.3, 0.5, 1],\n",
              "                          'l1_ratio': [0.001, 0.1, 0.5, 0.6, 1],\n",
              "                          'max_iter': [1000], 'random_state': [24, 48, 2020],\n",
              "                          'tol': [0.0001, 0.001]}],\n",
              "             verbose=10)"
            ]
          },
          "metadata": {},
          "execution_count": 15
        }
      ]
    },
    {
      "cell_type": "code",
      "source": [
        "print(gbr_grid_search.best_params_)\n",
        "print(gbr_grid_search.best_score_)\n",
        "print(gbr_grid_search.best_estimator_)"
      ],
      "metadata": {
        "colab": {
          "base_uri": "https://localhost:8080/"
        },
        "id": "UxW8F7btlh8q",
        "outputId": "36b5328c-882a-4235-956e-39efcc69d94e"
      },
      "execution_count": 16,
      "outputs": [
        {
          "output_type": "stream",
          "name": "stdout",
          "text": [
            "{'alpha': 0.1, 'l1_ratio': 0.001, 'max_iter': 1000, 'random_state': 24, 'tol': 0.001}\n",
            "0.01800069417103576\n",
            "ElasticNet(alpha=0.1, l1_ratio=0.001, random_state=24, tol=0.001)\n"
          ]
        }
      ]
    },
    {
      "cell_type": "code",
      "source": [
        "!pip3 install catboost"
      ],
      "metadata": {
        "colab": {
          "base_uri": "https://localhost:8080/"
        },
        "id": "lWz2EAHNqHFW",
        "outputId": "ad8dff2a-8165-453d-fac9-dff51dbae450"
      },
      "execution_count": 33,
      "outputs": [
        {
          "output_type": "stream",
          "name": "stdout",
          "text": [
            "Looking in indexes: https://pypi.org/simple, https://us-python.pkg.dev/colab-wheels/public/simple/\n",
            "Collecting catboost\n",
            "  Downloading catboost-1.1-cp37-none-manylinux1_x86_64.whl (76.8 MB)\n",
            "\u001b[K     |████████████████████████████████| 76.8 MB 1.1 MB/s \n",
            "\u001b[?25hRequirement already satisfied: scipy in /usr/local/lib/python3.7/dist-packages (from catboost) (1.7.3)\n",
            "Requirement already satisfied: plotly in /usr/local/lib/python3.7/dist-packages (from catboost) (5.5.0)\n",
            "Requirement already satisfied: graphviz in /usr/local/lib/python3.7/dist-packages (from catboost) (0.10.1)\n",
            "Requirement already satisfied: pandas>=0.24.0 in /usr/local/lib/python3.7/dist-packages (from catboost) (1.3.5)\n",
            "Requirement already satisfied: numpy>=1.16.0 in /usr/local/lib/python3.7/dist-packages (from catboost) (1.21.6)\n",
            "Requirement already satisfied: six in /usr/local/lib/python3.7/dist-packages (from catboost) (1.15.0)\n",
            "Requirement already satisfied: matplotlib in /usr/local/lib/python3.7/dist-packages (from catboost) (3.2.2)\n",
            "Requirement already satisfied: python-dateutil>=2.7.3 in /usr/local/lib/python3.7/dist-packages (from pandas>=0.24.0->catboost) (2.8.2)\n",
            "Requirement already satisfied: pytz>=2017.3 in /usr/local/lib/python3.7/dist-packages (from pandas>=0.24.0->catboost) (2022.2.1)\n",
            "Requirement already satisfied: pyparsing!=2.0.4,!=2.1.2,!=2.1.6,>=2.0.1 in /usr/local/lib/python3.7/dist-packages (from matplotlib->catboost) (3.0.9)\n",
            "Requirement already satisfied: kiwisolver>=1.0.1 in /usr/local/lib/python3.7/dist-packages (from matplotlib->catboost) (1.4.4)\n",
            "Requirement already satisfied: cycler>=0.10 in /usr/local/lib/python3.7/dist-packages (from matplotlib->catboost) (0.11.0)\n",
            "Requirement already satisfied: typing-extensions in /usr/local/lib/python3.7/dist-packages (from kiwisolver>=1.0.1->matplotlib->catboost) (4.1.1)\n",
            "Requirement already satisfied: tenacity>=6.2.0 in /usr/local/lib/python3.7/dist-packages (from plotly->catboost) (8.0.1)\n",
            "Installing collected packages: catboost\n",
            "Successfully installed catboost-1.1\n"
          ]
        }
      ]
    },
    {
      "cell_type": "code",
      "source": [
        "from catboost import CatBoostRegressor"
      ],
      "metadata": {
        "id": "7W2zTSKAlslP"
      },
      "execution_count": 34,
      "outputs": []
    },
    {
      "cell_type": "code",
      "source": [
        "param3 = {'learning_rate' : [0.001, 0.0001],\n",
        "          'n_estimators': [100],\n",
        "          'max_depth': [5,7,9,11,13,15,17,20],\n",
        "          'random_state': [24, 48, 2020],\n",
        "          \"loss_function\": [\"RMSE\"],\n",
        "          \"verbose\": [False]}\n",
        "\n",
        "gbr_grid_search = GridSearchCV(CatBoostRegressor(), \n",
        "                               [param3],\n",
        "                               cv=5)\n",
        "gbr_grid_search.fit(X_train, y_train)"
      ],
      "metadata": {
        "colab": {
          "base_uri": "https://localhost:8080/"
        },
        "id": "sGEIrti-qRJU",
        "outputId": "ef6e87da-fa1c-4dad-f0e9-7168623bc306"
      },
      "execution_count": 27,
      "outputs": [
        {
          "output_type": "stream",
          "name": "stderr",
          "text": [
            "/usr/local/lib/python3.7/dist-packages/sklearn/model_selection/_validation.py:372: FitFailedWarning: \n",
            "60 fits failed out of a total of 240.\n",
            "The score on these train-test partitions for these parameters will be set to nan.\n",
            "If these failures are not expected, you can try to debug them by setting error_score='raise'.\n",
            "\n",
            "Below are more details about the failures:\n",
            "--------------------------------------------------------------------------------\n",
            "60 fits failed with the following error:\n",
            "Traceback (most recent call last):\n",
            "  File \"/usr/local/lib/python3.7/dist-packages/sklearn/model_selection/_validation.py\", line 680, in _fit_and_score\n",
            "    estimator.fit(X_train, y_train, **fit_params)\n",
            "  File \"/usr/local/lib/python3.7/dist-packages/catboost/core.py\", line 5593, in fit\n",
            "    save_snapshot, snapshot_file, snapshot_interval, init_model, callbacks, log_cout, log_cerr)\n",
            "  File \"/usr/local/lib/python3.7/dist-packages/catboost/core.py\", line 2270, in _fit\n",
            "    callbacks=callbacks\n",
            "  File \"/usr/local/lib/python3.7/dist-packages/catboost/core.py\", line 2194, in _prepare_train_params\n",
            "    _check_train_params(params)\n",
            "  File \"_catboost.pyx\", line 6032, in _catboost._check_train_params\n",
            "  File \"_catboost.pyx\", line 6051, in _catboost._check_train_params\n",
            "_catboost.CatBoostError: catboost/private/libs/options/oblivious_tree_options.cpp:125: Maximum tree depth is 16\n",
            "\n",
            "  warnings.warn(some_fits_failed_message, FitFailedWarning)\n",
            "/usr/local/lib/python3.7/dist-packages/sklearn/model_selection/_search.py:972: UserWarning: One or more of the test scores are non-finite: [0.0039109  0.00390642 0.00389199 0.00410139 0.00418607 0.00416108\n",
            " 0.00442022 0.00443223 0.00440951 0.00473959 0.00473756 0.00476339\n",
            " 0.00512162 0.00509941 0.00509568 0.00539273 0.00533634 0.00540164\n",
            "        nan        nan        nan        nan        nan        nan\n",
            " 0.00024472 0.00024296 0.00024279 0.00026357 0.00027358 0.00027\n",
            " 0.00029646 0.00029991 0.00029664 0.00033027 0.00032975 0.00033233\n",
            " 0.00036966 0.000366   0.00036342 0.00039608 0.00039355 0.00039516\n",
            "        nan        nan        nan        nan        nan        nan]\n",
            "  category=UserWarning,\n"
          ]
        },
        {
          "output_type": "execute_result",
          "data": {
            "text/plain": [
              "GridSearchCV(cv=5,\n",
              "             estimator=<catboost.core.CatBoostRegressor object at 0x7fb0e9abf350>,\n",
              "             param_grid=[{'learning_rate': [0.001, 0.0001],\n",
              "                          'loss_function': ['RMSE'],\n",
              "                          'max_depth': [5, 7, 9, 11, 13, 15, 17, 20],\n",
              "                          'n_estimators': [100], 'random_state': [24, 48, 2020],\n",
              "                          'verbose': [False]}])"
            ]
          },
          "metadata": {},
          "execution_count": 27
        }
      ]
    },
    {
      "cell_type": "code",
      "source": [
        "print(gbr_grid_search.best_params_)\n",
        "print(gbr_grid_search.best_score_)\n",
        "print(gbr_grid_search.best_estimator_)"
      ],
      "metadata": {
        "colab": {
          "base_uri": "https://localhost:8080/"
        },
        "id": "eIA3LP5C4dE7",
        "outputId": "ed1b5c7d-401d-4246-f81c-7c5939787d8a"
      },
      "execution_count": 28,
      "outputs": [
        {
          "output_type": "stream",
          "name": "stdout",
          "text": [
            "{'learning_rate': 0.001, 'loss_function': 'RMSE', 'max_depth': 15, 'n_estimators': 100, 'random_state': 2020, 'verbose': False}\n",
            "0.005401644017540219\n",
            "<catboost.core.CatBoostRegressor object at 0x7fb0e9a018d0>\n"
          ]
        }
      ]
    },
    {
      "cell_type": "markdown",
      "source": [
        "Наименьшие показатели лосса у catboost, выбираем его"
      ],
      "metadata": {
        "id": "-nchYddmD5k-"
      }
    },
    {
      "cell_type": "code",
      "source": [
        "best_model = CatBoostRegressor(learning_rate = 0.001, loss_function = 'RMSE', max_depth = 15, n_estimators = 100, random_state = 2020, verbose = True)"
      ],
      "metadata": {
        "id": "mapaac8uRad-"
      },
      "execution_count": 47,
      "outputs": []
    },
    {
      "cell_type": "code",
      "source": [
        "best_model.fit(X_train, y_train, plot = True)"
      ],
      "metadata": {
        "colab": {
          "base_uri": "https://localhost:8080/",
          "height": 1000,
          "referenced_widgets": [
            "1774b7de28cb4399aef3fd59d5951e3d"
          ]
        },
        "id": "M9IMIv6KR9F9",
        "outputId": "36ecbdee-1a4a-4b64-b0cb-da58a0caae55"
      },
      "execution_count": 48,
      "outputs": [
        {
          "output_type": "display_data",
          "data": {
            "text/plain": [
              "MetricVisualizer(layout=Layout(align_self='stretch', height='500px'))"
            ],
            "application/vnd.jupyter.widget-view+json": {
              "version_major": 2,
              "version_minor": 0,
              "model_id": "1774b7de28cb4399aef3fd59d5951e3d"
            }
          },
          "metadata": {}
        },
        {
          "output_type": "stream",
          "name": "stdout",
          "text": [
            "0:\tlearn: 0.2473609\ttotal: 2.74s\tremaining: 4m 31s\n",
            "1:\tlearn: 0.2473455\ttotal: 5.49s\tremaining: 4m 28s\n",
            "2:\tlearn: 0.2473323\ttotal: 8.23s\tremaining: 4m 26s\n",
            "3:\tlearn: 0.2473191\ttotal: 11.1s\tremaining: 4m 26s\n",
            "4:\tlearn: 0.2473034\ttotal: 14.3s\tremaining: 4m 31s\n",
            "5:\tlearn: 0.2472846\ttotal: 17.1s\tremaining: 4m 27s\n",
            "6:\tlearn: 0.2472712\ttotal: 19.8s\tremaining: 4m 23s\n",
            "7:\tlearn: 0.2472572\ttotal: 22.6s\tremaining: 4m 19s\n",
            "8:\tlearn: 0.2472445\ttotal: 25.3s\tremaining: 4m 15s\n",
            "9:\tlearn: 0.2472293\ttotal: 28s\tremaining: 4m 12s\n",
            "10:\tlearn: 0.2472119\ttotal: 30.8s\tremaining: 4m 8s\n",
            "11:\tlearn: 0.2471944\ttotal: 33.5s\tremaining: 4m 5s\n",
            "12:\tlearn: 0.2471782\ttotal: 36.3s\tremaining: 4m 2s\n",
            "13:\tlearn: 0.2471648\ttotal: 40.1s\tremaining: 4m 6s\n",
            "14:\tlearn: 0.2471509\ttotal: 42.8s\tremaining: 4m 2s\n",
            "15:\tlearn: 0.2471339\ttotal: 45.7s\tremaining: 3m 59s\n",
            "16:\tlearn: 0.2471202\ttotal: 48.4s\tremaining: 3m 56s\n",
            "17:\tlearn: 0.2471041\ttotal: 51.2s\tremaining: 3m 53s\n",
            "18:\tlearn: 0.2470880\ttotal: 54s\tremaining: 3m 50s\n",
            "19:\tlearn: 0.2470744\ttotal: 56.7s\tremaining: 3m 46s\n",
            "20:\tlearn: 0.2470569\ttotal: 59.5s\tremaining: 3m 43s\n",
            "21:\tlearn: 0.2470457\ttotal: 1m 2s\tremaining: 3m 40s\n",
            "22:\tlearn: 0.2470328\ttotal: 1m 5s\tremaining: 3m 37s\n",
            "23:\tlearn: 0.2470204\ttotal: 1m 7s\tremaining: 3m 34s\n",
            "24:\tlearn: 0.2470025\ttotal: 1m 10s\tremaining: 3m 31s\n",
            "25:\tlearn: 0.2469842\ttotal: 1m 13s\tremaining: 3m 28s\n",
            "26:\tlearn: 0.2469699\ttotal: 1m 16s\tremaining: 3m 25s\n",
            "27:\tlearn: 0.2469535\ttotal: 1m 18s\tremaining: 3m 22s\n",
            "28:\tlearn: 0.2469410\ttotal: 1m 21s\tremaining: 3m 19s\n",
            "29:\tlearn: 0.2469255\ttotal: 1m 24s\tremaining: 3m 16s\n",
            "30:\tlearn: 0.2469096\ttotal: 1m 27s\tremaining: 3m 14s\n",
            "31:\tlearn: 0.2468958\ttotal: 1m 29s\tremaining: 3m 11s\n",
            "32:\tlearn: 0.2468845\ttotal: 1m 32s\tremaining: 3m 8s\n",
            "33:\tlearn: 0.2468718\ttotal: 1m 35s\tremaining: 3m 5s\n",
            "34:\tlearn: 0.2468596\ttotal: 1m 38s\tremaining: 3m 3s\n",
            "35:\tlearn: 0.2468430\ttotal: 1m 41s\tremaining: 3m 1s\n",
            "36:\tlearn: 0.2468288\ttotal: 1m 45s\tremaining: 2m 59s\n",
            "37:\tlearn: 0.2468162\ttotal: 1m 50s\tremaining: 3m\n",
            "38:\tlearn: 0.2468023\ttotal: 1m 55s\tremaining: 3m\n",
            "39:\tlearn: 0.2467844\ttotal: 1m 58s\tremaining: 2m 57s\n",
            "40:\tlearn: 0.2467695\ttotal: 2m 1s\tremaining: 2m 54s\n",
            "41:\tlearn: 0.2467595\ttotal: 2m 3s\tremaining: 2m 50s\n",
            "42:\tlearn: 0.2467409\ttotal: 2m 6s\tremaining: 2m 47s\n",
            "43:\tlearn: 0.2467283\ttotal: 2m 9s\tremaining: 2m 44s\n",
            "44:\tlearn: 0.2467149\ttotal: 2m 12s\tremaining: 2m 41s\n",
            "45:\tlearn: 0.2467014\ttotal: 2m 14s\tremaining: 2m 38s\n",
            "46:\tlearn: 0.2466877\ttotal: 2m 17s\tremaining: 2m 35s\n",
            "47:\tlearn: 0.2466718\ttotal: 2m 20s\tremaining: 2m 32s\n",
            "48:\tlearn: 0.2466568\ttotal: 2m 23s\tremaining: 2m 28s\n",
            "49:\tlearn: 0.2466461\ttotal: 2m 25s\tremaining: 2m 25s\n",
            "50:\tlearn: 0.2466321\ttotal: 2m 28s\tremaining: 2m 22s\n",
            "51:\tlearn: 0.2466128\ttotal: 2m 31s\tremaining: 2m 19s\n",
            "52:\tlearn: 0.2465976\ttotal: 2m 34s\tremaining: 2m 16s\n",
            "53:\tlearn: 0.2465831\ttotal: 2m 37s\tremaining: 2m 13s\n",
            "54:\tlearn: 0.2465673\ttotal: 2m 39s\tremaining: 2m 10s\n",
            "55:\tlearn: 0.2465526\ttotal: 2m 42s\tremaining: 2m 7s\n",
            "56:\tlearn: 0.2465368\ttotal: 2m 45s\tremaining: 2m 4s\n",
            "57:\tlearn: 0.2465242\ttotal: 2m 48s\tremaining: 2m 1s\n",
            "58:\tlearn: 0.2465103\ttotal: 2m 50s\tremaining: 1m 58s\n",
            "59:\tlearn: 0.2464985\ttotal: 2m 53s\tremaining: 1m 55s\n",
            "60:\tlearn: 0.2464849\ttotal: 2m 56s\tremaining: 1m 52s\n",
            "61:\tlearn: 0.2464732\ttotal: 2m 59s\tremaining: 1m 49s\n",
            "62:\tlearn: 0.2464575\ttotal: 3m 1s\tremaining: 1m 46s\n",
            "63:\tlearn: 0.2464420\ttotal: 3m 4s\tremaining: 1m 43s\n",
            "64:\tlearn: 0.2464266\ttotal: 3m 7s\tremaining: 1m 40s\n",
            "65:\tlearn: 0.2464121\ttotal: 3m 12s\tremaining: 1m 38s\n",
            "66:\tlearn: 0.2463956\ttotal: 3m 14s\tremaining: 1m 35s\n",
            "67:\tlearn: 0.2463836\ttotal: 3m 17s\tremaining: 1m 33s\n",
            "68:\tlearn: 0.2463671\ttotal: 3m 20s\tremaining: 1m 30s\n",
            "69:\tlearn: 0.2463550\ttotal: 3m 23s\tremaining: 1m 27s\n",
            "70:\tlearn: 0.2463424\ttotal: 3m 25s\tremaining: 1m 24s\n",
            "71:\tlearn: 0.2463244\ttotal: 3m 28s\tremaining: 1m 21s\n",
            "72:\tlearn: 0.2463116\ttotal: 3m 31s\tremaining: 1m 18s\n",
            "73:\tlearn: 0.2462943\ttotal: 3m 34s\tremaining: 1m 15s\n",
            "74:\tlearn: 0.2462781\ttotal: 3m 37s\tremaining: 1m 12s\n",
            "75:\tlearn: 0.2462626\ttotal: 3m 39s\tremaining: 1m 9s\n",
            "76:\tlearn: 0.2462495\ttotal: 3m 42s\tremaining: 1m 6s\n",
            "77:\tlearn: 0.2462388\ttotal: 3m 45s\tremaining: 1m 3s\n",
            "78:\tlearn: 0.2462239\ttotal: 3m 48s\tremaining: 1m\n",
            "79:\tlearn: 0.2462117\ttotal: 3m 51s\tremaining: 57.8s\n",
            "80:\tlearn: 0.2462017\ttotal: 3m 53s\tremaining: 54.9s\n",
            "81:\tlearn: 0.2461882\ttotal: 3m 56s\tremaining: 52s\n",
            "82:\tlearn: 0.2461712\ttotal: 3m 59s\tremaining: 49.1s\n",
            "83:\tlearn: 0.2461538\ttotal: 4m 2s\tremaining: 46.2s\n",
            "84:\tlearn: 0.2461406\ttotal: 4m 5s\tremaining: 43.3s\n",
            "85:\tlearn: 0.2461237\ttotal: 4m 7s\tremaining: 40.4s\n",
            "86:\tlearn: 0.2461085\ttotal: 4m 10s\tremaining: 37.5s\n",
            "87:\tlearn: 0.2460968\ttotal: 4m 13s\tremaining: 34.6s\n",
            "88:\tlearn: 0.2460814\ttotal: 4m 16s\tremaining: 31.7s\n",
            "89:\tlearn: 0.2460667\ttotal: 4m 19s\tremaining: 28.8s\n",
            "90:\tlearn: 0.2460539\ttotal: 4m 22s\tremaining: 25.9s\n",
            "91:\tlearn: 0.2460403\ttotal: 4m 24s\tremaining: 23s\n",
            "92:\tlearn: 0.2460224\ttotal: 4m 28s\tremaining: 20.2s\n",
            "93:\tlearn: 0.2460105\ttotal: 4m 31s\tremaining: 17.3s\n",
            "94:\tlearn: 0.2459920\ttotal: 4m 34s\tremaining: 14.4s\n",
            "95:\tlearn: 0.2459762\ttotal: 4m 36s\tremaining: 11.5s\n",
            "96:\tlearn: 0.2459597\ttotal: 4m 39s\tremaining: 8.65s\n",
            "97:\tlearn: 0.2459422\ttotal: 4m 42s\tremaining: 5.76s\n",
            "98:\tlearn: 0.2459297\ttotal: 4m 45s\tremaining: 2.88s\n",
            "99:\tlearn: 0.2459119\ttotal: 4m 47s\tremaining: 0us\n"
          ]
        },
        {
          "output_type": "execute_result",
          "data": {
            "text/plain": [
              "<catboost.core.CatBoostRegressor at 0x7f59ae0701d0>"
            ]
          },
          "metadata": {},
          "execution_count": 48
        }
      ]
    },
    {
      "cell_type": "code",
      "source": [
        "from sklearn.metrics import roc_auc_score"
      ],
      "metadata": {
        "id": "2ky8c5kgSFbt"
      },
      "execution_count": 49,
      "outputs": []
    },
    {
      "cell_type": "code",
      "source": [
        "roc_auc_score(y_train, best_model.predict(X_train))"
      ],
      "metadata": {
        "colab": {
          "base_uri": "https://localhost:8080/"
        },
        "id": "quIzBKifSRBt",
        "outputId": "0375f876-203a-46df-e70f-b7109d2f52ef"
      },
      "execution_count": 50,
      "outputs": [
        {
          "output_type": "execute_result",
          "data": {
            "text/plain": [
              "0.8451429956354085"
            ]
          },
          "metadata": {},
          "execution_count": 50
        }
      ]
    },
    {
      "cell_type": "code",
      "source": [
        "roc_auc_score(y_test, best_model.predict(X_test))"
      ],
      "metadata": {
        "colab": {
          "base_uri": "https://localhost:8080/"
        },
        "id": "rx1WowrDSX4P",
        "outputId": "cbf1e73a-1964-4a81-ba0a-860e766b8335"
      },
      "execution_count": 51,
      "outputs": [
        {
          "output_type": "execute_result",
          "data": {
            "text/plain": [
              "0.700103303066193"
            ]
          },
          "metadata": {},
          "execution_count": 51
        }
      ]
    },
    {
      "cell_type": "markdown",
      "source": [
        "Также попробуем простейшую нейронную сеть. Solver lbfgs выбран ввиду маленького размера датасета, функция активации relu одна из лучших"
      ],
      "metadata": {
        "id": "om8q8KutEBIF"
      }
    },
    {
      "cell_type": "code",
      "source": [
        "from sklearn.neural_network import MLPRegressor"
      ],
      "metadata": {
        "id": "SWIN7nic-KHZ"
      },
      "execution_count": 52,
      "outputs": []
    },
    {
      "cell_type": "code",
      "source": [
        "regr = MLPRegressor(activation = 'relu', solver = 'lbfgs', batch_size = 16, max_iter=5000, verbose = True).fit(X_train, y_train)"
      ],
      "metadata": {
        "id": "0DrljZzT-QE4"
      },
      "execution_count": 59,
      "outputs": []
    },
    {
      "cell_type": "code",
      "source": [
        "print(roc_auc_score(y_train, regr.predict(X_train)))\n",
        "print(roc_auc_score(y_test, regr.predict(X_test)))"
      ],
      "metadata": {
        "colab": {
          "base_uri": "https://localhost:8080/"
        },
        "id": "qP87IdF-AbA6",
        "outputId": "4cffc07c-720d-40bc-8a98-4171fb822b94"
      },
      "execution_count": 60,
      "outputs": [
        {
          "output_type": "stream",
          "name": "stdout",
          "text": [
            "0.7698695356270012\n",
            "0.6557547045663904\n"
          ]
        }
      ]
    },
    {
      "cell_type": "markdown",
      "source": [
        "Результаты хуже чем у catboost, оставляем свой выбор на нем"
      ],
      "metadata": {
        "id": "IuYr8cRDEURu"
      }
    },
    {
      "cell_type": "markdown",
      "metadata": {
        "id": "OQ1Y1r6E9bvN"
      },
      "source": [
        "### Формирование файла с ответом"
      ]
    },
    {
      "cell_type": "code",
      "source": [
        "drop_features = ['adr_actual_age', 'ar_revenue', 'ar_total_expenses', \n",
        "                 'head_actual_age', 'ab_mobile_current_assets',\n",
        "                 'ul_systematizing_flg', 'ar_net_profit', 'ar_sale_profit', \n",
        "                 'bus_age', 'ab_borrowed_capital']\n",
        "\n",
        "for feat in drop_features:\n",
        "  train_df = train_df.drop(feat, axis = 1)\n",
        "  test_df = test_df.drop(feat, axis = 1)"
      ],
      "metadata": {
        "id": "z5FCaeuvUumR"
      },
      "execution_count": 44,
      "outputs": []
    },
    {
      "cell_type": "code",
      "execution_count": 45,
      "metadata": {
        "id": "_9YdWZm8-7k0"
      },
      "outputs": [],
      "source": [
        "answ_df = test_df[['record_id']]"
      ]
    },
    {
      "cell_type": "code",
      "execution_count": 46,
      "metadata": {
        "colab": {
          "base_uri": "https://localhost:8080/"
        },
        "id": "RizmO5g4_wPO",
        "outputId": "e2a8e4a6-d170-4f4a-8ab0-8ac7eba7afca"
      },
      "outputs": [
        {
          "output_type": "stream",
          "name": "stderr",
          "text": [
            "/usr/local/lib/python3.7/dist-packages/ipykernel_launcher.py:1: SettingWithCopyWarning: \n",
            "A value is trying to be set on a copy of a slice from a DataFrame.\n",
            "Try using .loc[row_indexer,col_indexer] = value instead\n",
            "\n",
            "See the caveats in the documentation: https://pandas.pydata.org/pandas-docs/stable/user_guide/indexing.html#returning-a-view-versus-a-copy\n",
            "  \"\"\"Entry point for launching an IPython kernel.\n"
          ]
        }
      ],
      "source": [
        "answ_df['id'] = answ_df['record_id']"
      ]
    },
    {
      "cell_type": "code",
      "execution_count": 47,
      "metadata": {
        "colab": {
          "base_uri": "https://localhost:8080/"
        },
        "id": "r7fiDf_l9igh",
        "outputId": "82f81021-a987-47e8-f602-4c0e18817784"
      },
      "outputs": [
        {
          "output_type": "stream",
          "name": "stderr",
          "text": [
            "/usr/local/lib/python3.7/dist-packages/pandas/core/frame.py:4913: SettingWithCopyWarning: \n",
            "A value is trying to be set on a copy of a slice from a DataFrame\n",
            "\n",
            "See the caveats in the documentation: https://pandas.pydata.org/pandas-docs/stable/user_guide/indexing.html#returning-a-view-versus-a-copy\n",
            "  errors=errors,\n"
          ]
        }
      ],
      "source": [
        "answ_df.drop('record_id',axis=1, inplace=True)"
      ]
    },
    {
      "cell_type": "code",
      "execution_count": 48,
      "metadata": {
        "id": "ye8YVTYG90_6"
      },
      "outputs": [],
      "source": [
        "cutoff = y_train.mean()"
      ]
    },
    {
      "cell_type": "code",
      "source": [
        "best_model.predict(test_df)"
      ],
      "metadata": {
        "colab": {
          "base_uri": "https://localhost:8080/"
        },
        "id": "hyG3w0aBVPD1",
        "outputId": "d43058d8-a7eb-4fdf-f0d7-2e986b412ccb"
      },
      "execution_count": 52,
      "outputs": [
        {
          "output_type": "execute_result",
          "data": {
            "text/plain": [
              "array([0.06188194, 0.0633633 , 0.06762886, ..., 0.07098035, 0.0936438 ,\n",
              "       0.06168753])"
            ]
          },
          "metadata": {},
          "execution_count": 52
        }
      ]
    },
    {
      "cell_type": "code",
      "execution_count": 54,
      "metadata": {
        "colab": {
          "base_uri": "https://localhost:8080/"
        },
        "id": "GtV2vm1o9tMF",
        "outputId": "95ce3350-cd9a-4054-e61e-aa124af9c2dd"
      },
      "outputs": [
        {
          "output_type": "stream",
          "name": "stderr",
          "text": [
            "/usr/local/lib/python3.7/dist-packages/ipykernel_launcher.py:1: SettingWithCopyWarning: \n",
            "A value is trying to be set on a copy of a slice from a DataFrame.\n",
            "Try using .loc[row_indexer,col_indexer] = value instead\n",
            "\n",
            "See the caveats in the documentation: https://pandas.pydata.org/pandas-docs/stable/user_guide/indexing.html#returning-a-view-versus-a-copy\n",
            "  \"\"\"Entry point for launching an IPython kernel.\n"
          ]
        }
      ],
      "source": [
        "answ_df['predict'] = (best_model.predict(test_df)>cutoff).astype(int)"
      ]
    },
    {
      "cell_type": "code",
      "execution_count": 55,
      "metadata": {
        "id": "BAet0WO6-A_5"
      },
      "outputs": [],
      "source": [
        "answ_df.to_csv('PD-submit.csv',index=False, sep=';')"
      ]
    },
    {
      "cell_type": "code",
      "source": [
        "!touch 'records.jsonl'"
      ],
      "metadata": {
        "id": "R5990Y5MZrPz"
      },
      "execution_count": 61,
      "outputs": []
    },
    {
      "cell_type": "code",
      "source": [
        "f=open('records.jsonl', \"r+\")\n",
        "print(answ_df.to_json(orient='records', lines=True),file=f, flush=False)"
      ],
      "metadata": {
        "id": "X7fmbp2yXdet"
      },
      "execution_count": 63,
      "outputs": []
    },
    {
      "cell_type": "markdown",
      "metadata": {
        "id": "G7OdXngvN92r"
      },
      "source": [
        "Для загрузки своего рузультата на https://dsbattle.com/hackathons/juniords-new/ вам нужно создать csv файл с двумя колонками (id, predict), разделитель - точка с запятой (;)"
      ]
    }
  ],
  "metadata": {
    "colab": {
      "collapsed_sections": [],
      "provenance": []
    },
    "kernelspec": {
      "display_name": "Python 3",
      "language": "python",
      "name": "python3"
    },
    "language_info": {
      "codemirror_mode": {
        "name": "ipython",
        "version": 3
      },
      "file_extension": ".py",
      "mimetype": "text/x-python",
      "name": "python",
      "nbconvert_exporter": "python",
      "pygments_lexer": "ipython3",
      "version": "3.7.6"
    },
    "accelerator": "GPU",
    "widgets": {
      "application/vnd.jupyter.widget-state+json": {
        "1774b7de28cb4399aef3fd59d5951e3d": {
          "model_module": "catboost-widget",
          "model_name": "CatboostWidgetModel",
          "model_module_version": "^1.0.0",
          "state": {
            "_dom_classes": [],
            "_model_module": "catboost-widget",
            "_model_module_version": "^1.0.0",
            "_model_name": "CatboostWidgetModel",
            "_view_count": null,
            "_view_module": "catboost-widget",
            "_view_module_version": "^1.0.0",
            "_view_name": "CatboostWidgetView",
            "data": {
              "catboost_info": {
                "path": "catboost_info",
                "name": "catboost_info",
                "content": {
                  "passed_iterations": 99,
                  "total_iterations": 100,
                  "data": {
                    "iterations": [
                      {
                        "learn": [
                          0.2473608573
                        ],
                        "iteration": 0,
                        "passed_time": 2.743702093,
                        "remaining_time": 271.6265072
                      },
                      {
                        "learn": [
                          0.2473455426
                        ],
                        "iteration": 1,
                        "passed_time": 5.48962812,
                        "remaining_time": 268.9917779
                      },
                      {
                        "learn": [
                          0.2473323315
                        ],
                        "iteration": 2,
                        "passed_time": 8.229825157,
                        "remaining_time": 266.0976801
                      },
                      {
                        "learn": [
                          0.2473191099
                        ],
                        "iteration": 3,
                        "passed_time": 11.08369469,
                        "remaining_time": 266.0086725
                      },
                      {
                        "learn": [
                          0.2473033981
                        ],
                        "iteration": 4,
                        "passed_time": 14.29967185,
                        "remaining_time": 271.6937652
                      },
                      {
                        "learn": [
                          0.2472846339
                        ],
                        "iteration": 5,
                        "passed_time": 17.09196807,
                        "remaining_time": 267.7741664
                      },
                      {
                        "learn": [
                          0.2472711799
                        ],
                        "iteration": 6,
                        "passed_time": 19.8277253,
                        "remaining_time": 263.4254933
                      },
                      {
                        "learn": [
                          0.247257157
                        ],
                        "iteration": 7,
                        "passed_time": 22.55857433,
                        "remaining_time": 259.4236048
                      },
                      {
                        "learn": [
                          0.2472444574
                        ],
                        "iteration": 8,
                        "passed_time": 25.29340805,
                        "remaining_time": 255.7444591
                      },
                      {
                        "learn": [
                          0.2472292658
                        ],
                        "iteration": 9,
                        "passed_time": 28.04465121,
                        "remaining_time": 252.4018609
                      },
                      {
                        "learn": [
                          0.2472118502
                        ],
                        "iteration": 10,
                        "passed_time": 30.77473175,
                        "remaining_time": 248.9955569
                      },
                      {
                        "learn": [
                          0.2471944226
                        ],
                        "iteration": 11,
                        "passed_time": 33.5143574,
                        "remaining_time": 245.7719543
                      },
                      {
                        "learn": [
                          0.2471782125
                        ],
                        "iteration": 12,
                        "passed_time": 36.26607518,
                        "remaining_time": 242.7037339
                      },
                      {
                        "learn": [
                          0.2471647636
                        ],
                        "iteration": 13,
                        "passed_time": 40.1045622,
                        "remaining_time": 246.3565964
                      },
                      {
                        "learn": [
                          0.247150888
                        ],
                        "iteration": 14,
                        "passed_time": 42.8278356,
                        "remaining_time": 242.6910684
                      },
                      {
                        "learn": [
                          0.2471338836
                        ],
                        "iteration": 15,
                        "passed_time": 45.66289197,
                        "remaining_time": 239.7301829
                      },
                      {
                        "learn": [
                          0.2471202237
                        ],
                        "iteration": 16,
                        "passed_time": 48.44912441,
                        "remaining_time": 236.5457251
                      },
                      {
                        "learn": [
                          0.2471041104
                        ],
                        "iteration": 17,
                        "passed_time": 51.19852855,
                        "remaining_time": 233.2377412
                      },
                      {
                        "learn": [
                          0.2470880441
                        ],
                        "iteration": 18,
                        "passed_time": 53.96464763,
                        "remaining_time": 230.0598136
                      },
                      {
                        "learn": [
                          0.2470744002
                        ],
                        "iteration": 19,
                        "passed_time": 56.71849305,
                        "remaining_time": 226.8739722
                      },
                      {
                        "learn": [
                          0.2470568658
                        ],
                        "iteration": 20,
                        "passed_time": 59.4698461,
                        "remaining_time": 223.7198972
                      },
                      {
                        "learn": [
                          0.2470457358
                        ],
                        "iteration": 21,
                        "passed_time": 62.22202043,
                        "remaining_time": 220.6053452
                      },
                      {
                        "learn": [
                          0.2470327717
                        ],
                        "iteration": 22,
                        "passed_time": 65.0063205,
                        "remaining_time": 217.6298556
                      },
                      {
                        "learn": [
                          0.2470203635
                        ],
                        "iteration": 23,
                        "passed_time": 67.77581878,
                        "remaining_time": 214.6234262
                      },
                      {
                        "learn": [
                          0.247002516
                        ],
                        "iteration": 24,
                        "passed_time": 70.5657533,
                        "remaining_time": 211.6972599
                      },
                      {
                        "learn": [
                          0.2469841899
                        ],
                        "iteration": 25,
                        "passed_time": 73.32684813,
                        "remaining_time": 208.6994908
                      },
                      {
                        "learn": [
                          0.2469699096
                        ],
                        "iteration": 26,
                        "passed_time": 76.13061563,
                        "remaining_time": 205.8346274
                      },
                      {
                        "learn": [
                          0.2469535446
                        ],
                        "iteration": 27,
                        "passed_time": 78.87655198,
                        "remaining_time": 202.8254194
                      },
                      {
                        "learn": [
                          0.2469410409
                        ],
                        "iteration": 28,
                        "passed_time": 81.60735826,
                        "remaining_time": 199.7973254
                      },
                      {
                        "learn": [
                          0.246925503
                        ],
                        "iteration": 29,
                        "passed_time": 84.37494273,
                        "remaining_time": 196.8748664
                      },
                      {
                        "learn": [
                          0.2469095643
                        ],
                        "iteration": 30,
                        "passed_time": 87.15983177,
                        "remaining_time": 194.0009159
                      },
                      {
                        "learn": [
                          0.2468957611
                        ],
                        "iteration": 31,
                        "passed_time": 89.92350055,
                        "remaining_time": 191.0874387
                      },
                      {
                        "learn": [
                          0.2468844587
                        ],
                        "iteration": 32,
                        "passed_time": 92.71296076,
                        "remaining_time": 188.2354052
                      },
                      {
                        "learn": [
                          0.2468717929
                        ],
                        "iteration": 33,
                        "passed_time": 95.5243622,
                        "remaining_time": 185.4296443
                      },
                      {
                        "learn": [
                          0.2468595658
                        ],
                        "iteration": 34,
                        "passed_time": 98.98347055,
                        "remaining_time": 183.8264453
                      },
                      {
                        "learn": [
                          0.2468429571
                        ],
                        "iteration": 35,
                        "passed_time": 101.9587411,
                        "remaining_time": 181.2599842
                      },
                      {
                        "learn": [
                          0.2468287636
                        ],
                        "iteration": 36,
                        "passed_time": 105.6748535,
                        "remaining_time": 179.9328586
                      },
                      {
                        "learn": [
                          0.2468161637
                        ],
                        "iteration": 37,
                        "passed_time": 110.9023977,
                        "remaining_time": 180.9460173
                      },
                      {
                        "learn": [
                          0.2468022938
                        ],
                        "iteration": 38,
                        "passed_time": 115.5950958,
                        "remaining_time": 180.8025858
                      },
                      {
                        "learn": [
                          0.2467844283
                        ],
                        "iteration": 39,
                        "passed_time": 118.3590595,
                        "remaining_time": 177.5385892
                      },
                      {
                        "learn": [
                          0.2467694935
                        ],
                        "iteration": 40,
                        "passed_time": 121.0905182,
                        "remaining_time": 174.2522091
                      },
                      {
                        "learn": [
                          0.2467595478
                        ],
                        "iteration": 41,
                        "passed_time": 123.8253383,
                        "remaining_time": 170.9968957
                      },
                      {
                        "learn": [
                          0.2467408974
                        ],
                        "iteration": 42,
                        "passed_time": 126.5804744,
                        "remaining_time": 167.7927219
                      },
                      {
                        "learn": [
                          0.2467282756
                        ],
                        "iteration": 43,
                        "passed_time": 129.3933067,
                        "remaining_time": 164.6823904
                      },
                      {
                        "learn": [
                          0.2467148912
                        ],
                        "iteration": 44,
                        "passed_time": 132.1070691,
                        "remaining_time": 161.4641956
                      },
                      {
                        "learn": [
                          0.2467014149
                        ],
                        "iteration": 45,
                        "passed_time": 134.8540961,
                        "remaining_time": 158.3069824
                      },
                      {
                        "learn": [
                          0.2466877278
                        ],
                        "iteration": 46,
                        "passed_time": 137.6144514,
                        "remaining_time": 155.1822537
                      },
                      {
                        "learn": [
                          0.2466717695
                        ],
                        "iteration": 47,
                        "passed_time": 140.3636503,
                        "remaining_time": 152.0606211
                      },
                      {
                        "learn": [
                          0.2466568338
                        ],
                        "iteration": 48,
                        "passed_time": 143.1461143,
                        "remaining_time": 148.9888128
                      },
                      {
                        "learn": [
                          0.2466460709
                        ],
                        "iteration": 49,
                        "passed_time": 145.9660231,
                        "remaining_time": 145.9660231
                      },
                      {
                        "learn": [
                          0.2466321404
                        ],
                        "iteration": 50,
                        "passed_time": 148.7971701,
                        "remaining_time": 142.9619869
                      },
                      {
                        "learn": [
                          0.2466127887
                        ],
                        "iteration": 51,
                        "passed_time": 151.5547684,
                        "remaining_time": 139.8967093
                      },
                      {
                        "learn": [
                          0.2465976184
                        ],
                        "iteration": 52,
                        "passed_time": 154.3389477,
                        "remaining_time": 136.866614
                      },
                      {
                        "learn": [
                          0.2465830607
                        ],
                        "iteration": 53,
                        "passed_time": 157.1235048,
                        "remaining_time": 133.8459485
                      },
                      {
                        "learn": [
                          0.2465673124
                        ],
                        "iteration": 54,
                        "passed_time": 159.887879,
                        "remaining_time": 130.8173555
                      },
                      {
                        "learn": [
                          0.2465525854
                        ],
                        "iteration": 55,
                        "passed_time": 162.6325195,
                        "remaining_time": 127.7826939
                      },
                      {
                        "learn": [
                          0.2465368181
                        ],
                        "iteration": 56,
                        "passed_time": 165.3783993,
                        "remaining_time": 124.7591434
                      },
                      {
                        "learn": [
                          0.2465241668
                        ],
                        "iteration": 57,
                        "passed_time": 168.1348459,
                        "remaining_time": 121.7528195
                      },
                      {
                        "learn": [
                          0.2465102814
                        ],
                        "iteration": 58,
                        "passed_time": 170.8910459,
                        "remaining_time": 118.7547946
                      },
                      {
                        "learn": [
                          0.246498504
                        ],
                        "iteration": 59,
                        "passed_time": 173.628548,
                        "remaining_time": 115.7523653
                      },
                      {
                        "learn": [
                          0.246484892
                        ],
                        "iteration": 60,
                        "passed_time": 176.3913116,
                        "remaining_time": 112.774773
                      },
                      {
                        "learn": [
                          0.2464732188
                        ],
                        "iteration": 61,
                        "passed_time": 179.1387092,
                        "remaining_time": 109.7946927
                      },
                      {
                        "learn": [
                          0.2464575132
                        ],
                        "iteration": 62,
                        "passed_time": 181.8957094,
                        "remaining_time": 106.8276388
                      },
                      {
                        "learn": [
                          0.2464420342
                        ],
                        "iteration": 63,
                        "passed_time": 184.6989165,
                        "remaining_time": 103.8931405
                      },
                      {
                        "learn": [
                          0.246426577
                        ],
                        "iteration": 64,
                        "passed_time": 187.4686091,
                        "remaining_time": 100.9446357
                      },
                      {
                        "learn": [
                          0.2464121108
                        ],
                        "iteration": 65,
                        "passed_time": 192.0239916,
                        "remaining_time": 98.92145024
                      },
                      {
                        "learn": [
                          0.2463956196
                        ],
                        "iteration": 66,
                        "passed_time": 194.8475771,
                        "remaining_time": 95.96970217
                      },
                      {
                        "learn": [
                          0.246383561
                        ],
                        "iteration": 67,
                        "passed_time": 197.6450677,
                        "remaining_time": 93.00944361
                      },
                      {
                        "learn": [
                          0.2463671372
                        ],
                        "iteration": 68,
                        "passed_time": 200.4143126,
                        "remaining_time": 90.04121291
                      },
                      {
                        "learn": [
                          0.2463550125
                        ],
                        "iteration": 69,
                        "passed_time": 203.1859682,
                        "remaining_time": 87.07970067
                      },
                      {
                        "learn": [
                          0.2463423679
                        ],
                        "iteration": 70,
                        "passed_time": 205.9968215,
                        "remaining_time": 84.1395468
                      },
                      {
                        "learn": [
                          0.2463243906
                        ],
                        "iteration": 71,
                        "passed_time": 208.7659506,
                        "remaining_time": 81.18675858
                      },
                      {
                        "learn": [
                          0.2463115692
                        ],
                        "iteration": 72,
                        "passed_time": 211.5454981,
                        "remaining_time": 78.24285545
                      },
                      {
                        "learn": [
                          0.2462943052
                        ],
                        "iteration": 73,
                        "passed_time": 214.3176384,
                        "remaining_time": 75.30079187
                      },
                      {
                        "learn": [
                          0.2462781498
                        ],
                        "iteration": 74,
                        "passed_time": 217.0971206,
                        "remaining_time": 72.36570686
                      },
                      {
                        "learn": [
                          0.2462625648
                        ],
                        "iteration": 75,
                        "passed_time": 219.9097511,
                        "remaining_time": 69.44518456
                      },
                      {
                        "learn": [
                          0.2462495022
                        ],
                        "iteration": 76,
                        "passed_time": 222.7292295,
                        "remaining_time": 66.5295101
                      },
                      {
                        "learn": [
                          0.246238829
                        ],
                        "iteration": 77,
                        "passed_time": 225.540974,
                        "remaining_time": 63.61412088
                      },
                      {
                        "learn": [
                          0.2462239461
                        ],
                        "iteration": 78,
                        "passed_time": 228.3674647,
                        "remaining_time": 60.70527543
                      },
                      {
                        "learn": [
                          0.2462116988
                        ],
                        "iteration": 79,
                        "passed_time": 231.1398608,
                        "remaining_time": 57.7849652
                      },
                      {
                        "learn": [
                          0.2462016764
                        ],
                        "iteration": 80,
                        "passed_time": 233.9406223,
                        "remaining_time": 54.87496078
                      },
                      {
                        "learn": [
                          0.2461881756
                        ],
                        "iteration": 81,
                        "passed_time": 236.7291276,
                        "remaining_time": 51.96493046
                      },
                      {
                        "learn": [
                          0.2461712499
                        ],
                        "iteration": 82,
                        "passed_time": 239.5040236,
                        "remaining_time": 49.05504098
                      },
                      {
                        "learn": [
                          0.2461538344
                        ],
                        "iteration": 83,
                        "passed_time": 242.3070009,
                        "remaining_time": 46.15371445
                      },
                      {
                        "learn": [
                          0.2461406426
                        ],
                        "iteration": 84,
                        "passed_time": 245.1451633,
                        "remaining_time": 43.26091116
                      },
                      {
                        "learn": [
                          0.2461237021
                        ],
                        "iteration": 85,
                        "passed_time": 247.9848747,
                        "remaining_time": 40.36963077
                      },
                      {
                        "learn": [
                          0.24610852
                        ],
                        "iteration": 86,
                        "passed_time": 250.7861699,
                        "remaining_time": 37.47379551
                      },
                      {
                        "learn": [
                          0.2460967513
                        ],
                        "iteration": 87,
                        "passed_time": 253.6083454,
                        "remaining_time": 34.58295619
                      },
                      {
                        "learn": [
                          0.2460813509
                        ],
                        "iteration": 88,
                        "passed_time": 256.4122496,
                        "remaining_time": 31.69140163
                      },
                      {
                        "learn": [
                          0.2460666845
                        ],
                        "iteration": 89,
                        "passed_time": 259.21411,
                        "remaining_time": 28.80156778
                      },
                      {
                        "learn": [
                          0.246053945
                        ],
                        "iteration": 90,
                        "passed_time": 262.0194372,
                        "remaining_time": 25.91401027
                      },
                      {
                        "learn": [
                          0.2460403334
                        ],
                        "iteration": 91,
                        "passed_time": 264.8489847,
                        "remaining_time": 23.0303465
                      },
                      {
                        "learn": [
                          0.2460224392
                        ],
                        "iteration": 92,
                        "passed_time": 268.1447064,
                        "remaining_time": 20.18293489
                      },
                      {
                        "learn": [
                          0.2460105151
                        ],
                        "iteration": 93,
                        "passed_time": 271.3191145,
                        "remaining_time": 17.31824135
                      },
                      {
                        "learn": [
                          0.245991972
                        ],
                        "iteration": 94,
                        "passed_time": 274.1322702,
                        "remaining_time": 14.42801422
                      },
                      {
                        "learn": [
                          0.2459762247
                        ],
                        "iteration": 95,
                        "passed_time": 276.9318487,
                        "remaining_time": 11.53882703
                      },
                      {
                        "learn": [
                          0.2459596522
                        ],
                        "iteration": 96,
                        "passed_time": 279.6965802,
                        "remaining_time": 8.650409696
                      },
                      {
                        "learn": [
                          0.2459421805
                        ],
                        "iteration": 97,
                        "passed_time": 282.4451104,
                        "remaining_time": 5.764185926
                      },
                      {
                        "learn": [
                          0.245929657
                        ],
                        "iteration": 98,
                        "passed_time": 285.2116391,
                        "remaining_time": 2.880925648
                      },
                      {
                        "learn": [
                          0.2459118768
                        ],
                        "iteration": 99,
                        "passed_time": 287.9917016,
                        "remaining_time": 0
                      }
                    ],
                    "meta": {
                      "test_sets": [],
                      "test_metrics": [],
                      "learn_metrics": [
                        {
                          "best_value": "Min",
                          "name": "RMSE"
                        }
                      ],
                      "launch_mode": "Train",
                      "parameters": "",
                      "iteration_count": 100,
                      "learn_sets": [
                        "learn"
                      ],
                      "name": "experiment"
                    }
                  }
                }
              }
            },
            "layout": "IPY_MODEL_28a23b435fae4bd48c8682be9cddc6c1"
          }
        }
      }
    }
  },
  "nbformat": 4,
  "nbformat_minor": 0
}